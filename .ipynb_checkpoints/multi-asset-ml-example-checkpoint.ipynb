{
 "cells": [
  {
   "cell_type": "markdown",
   "id": "4e4311c7",
   "metadata": {},
   "source": [
    "# Offline Machine-Learning Example\n",
    "\n",
    "## Methodology\n",
    "\n",
    "There are $M$ assets in the investment universe. We parametrize allocations to assets in the portfolio with a neural network. Portfolio return over period from $t$ to $t+1$ is\n",
    "\n",
    "$$ r_{t+1}^{(p)} = \\mathscr{N}(x_{t})^T r_{t+1}$$\n",
    "\n",
    "where $x_{t}$ is the feature vector at time $t$, $\\mathscr{N}(.)$ is a neural network producing $M-$dimensional simplex as output and $r_{t+1}$ is $M-$ dimensional vector of returns of assets."
   ]
  },
  {
   "cell_type": "markdown",
   "id": "8c25becd",
   "metadata": {},
   "source": [
    "We train the neural network such that the parametric portfolio has minimal mean-variance loss over a given return path of length $T$.\n",
    "\n",
    "$$J_\\tau = \\frac{\\gamma}{2} \\text{var}(r^p) - \\text{mean}(r^p) - \\bar{c}$$\n",
    "\n",
    "where $\\tau = \\{t, t+1, \\ldots, t+T-1\\}$ is the set of return path dates (a contiguous segment or \"batch\" of historical data), $r^p$ is the vector of portfolio returns computed for $t \\in \\tau$ as above and $\\bar{c}$ is the average transaction cost.\n",
    "\n",
    "$$ \\bar{c} = \\frac{c}{T}\\sum_{t\\in \\tau} \\Vert \\mathscr{N}(x_{t}) - \\mathscr{N}(x_{t-1}) \\Vert_1 $$\n",
    "\n",
    "where $c$ is the transaction cost in %."
   ]
  },
  {
   "cell_type": "code",
   "execution_count": 1,
   "id": "2387c11c",
   "metadata": {},
   "outputs": [],
   "source": [
    "using DataFrames, CSV, Flux, Plots, StatsBase, Random"
   ]
  },
  {
   "cell_type": "markdown",
   "id": "cd74c450",
   "metadata": {},
   "source": [
    "## Data"
   ]
  },
  {
   "cell_type": "code",
   "execution_count": 2,
   "id": "20cddea7",
   "metadata": {},
   "outputs": [
    {
     "data": {
      "text/plain": [
       "7"
      ]
     },
     "execution_count": 2,
     "metadata": {},
     "output_type": "execute_result"
    }
   ],
   "source": [
    "ccys = [\"BTC\", \"ETH\", \"ADA\", \"ATOM\", \"BNB\", \"DOGE\", \"LTC\"]\n",
    "nassets = length(ccys)"
   ]
  },
  {
   "cell_type": "code",
   "execution_count": 3,
   "id": "ba3e2371",
   "metadata": {},
   "outputs": [],
   "source": [
    "data = []\n",
    "for ccy in ccys\n",
    "    tmp = CSV.File(ccy*\"_ohlcv.csv\", dateformat=\"yyyy-mm-dd H:M:S\", \n",
    "        missingstring=[\"\", \"0.0\", \"0\", \"NaN\"]) |> DataFrame\n",
    "    rename!(tmp, \"close\" => ccy)\n",
    "    push!(data, tmp[:,[\"datetime\", ccy]])\n",
    "end"
   ]
  },
  {
   "cell_type": "code",
   "execution_count": 4,
   "id": "9b143903",
   "metadata": {},
   "outputs": [
    {
     "data": {
      "text/html": [
       "<div class=\"data-frame\"><p>8 rows × 7 columns (omitted printing of 2 columns)</p><table class=\"data-frame\"><thead><tr><th></th><th>variable</th><th>mean</th><th>min</th><th>median</th><th>max</th></tr><tr><th></th><th title=\"Symbol\">Symbol</th><th title=\"Union{Nothing, Float64}\">Union…</th><th title=\"Any\">Any</th><th title=\"Any\">Any</th><th title=\"Any\">Any</th></tr></thead><tbody><tr><th>1</th><td>datetime</td><td></td><td>2021-04-01T00:30:00</td><td>2021-12-12T12:15:00</td><td>2022-08-25T00:00:00</td></tr><tr><th>2</th><td>BTC</td><td>41357.5</td><td>17719.5</td><td>41463.4</td><td>68633.7</td></tr><tr><th>3</th><td>ETH</td><td>2787.61</td><td>902.28</td><td>2791.03</td><td>4846.71</td></tr><tr><th>4</th><td>ADA</td><td>1.29892</td><td>0.4059</td><td>1.24</td><td>3.095</td></tr><tr><th>5</th><td>ATOM</td><td>21.7201</td><td>5.63</td><td>22.33</td><td>44.33</td></tr><tr><th>6</th><td>BNB</td><td>404.175</td><td>186.1</td><td>394.255</td><td>689.12</td></tr><tr><th>7</th><td>DOGE</td><td>0.189377</td><td>0.04985</td><td>0.1712</td><td>0.73623</td></tr><tr><th>8</th><td>LTC</td><td>143.663</td><td>40.6</td><td>138.005</td><td>409.84</td></tr></tbody></table></div>"
      ],
      "text/latex": [
       "\\begin{tabular}{r|cccccc}\n",
       "\t& variable & mean & min & median & max & \\\\\n",
       "\t\\hline\n",
       "\t& Symbol & Union… & Any & Any & Any & \\\\\n",
       "\t\\hline\n",
       "\t1 & datetime &  & 2021-04-01T00:30:00 & 2021-12-12T12:15:00 & 2022-08-25T00:00:00 & $\\dots$ \\\\\n",
       "\t2 & BTC & 41357.5 & 17719.5 & 41463.4 & 68633.7 & $\\dots$ \\\\\n",
       "\t3 & ETH & 2787.61 & 902.28 & 2791.03 & 4846.71 & $\\dots$ \\\\\n",
       "\t4 & ADA & 1.29892 & 0.4059 & 1.24 & 3.095 & $\\dots$ \\\\\n",
       "\t5 & ATOM & 21.7201 & 5.63 & 22.33 & 44.33 & $\\dots$ \\\\\n",
       "\t6 & BNB & 404.175 & 186.1 & 394.255 & 689.12 & $\\dots$ \\\\\n",
       "\t7 & DOGE & 0.189377 & 0.04985 & 0.1712 & 0.73623 & $\\dots$ \\\\\n",
       "\t8 & LTC & 143.663 & 40.6 & 138.005 & 409.84 & $\\dots$ \\\\\n",
       "\\end{tabular}\n"
      ],
      "text/plain": [
       "\u001b[1m8×7 DataFrame\u001b[0m\n",
       "\u001b[1m Row \u001b[0m│\u001b[1m variable \u001b[0m\u001b[1m mean     \u001b[0m\u001b[1m min                 \u001b[0m\u001b[1m median              \u001b[0m\u001b[1m max      \u001b[0m ⋯\n",
       "\u001b[1m     \u001b[0m│\u001b[90m Symbol   \u001b[0m\u001b[90m Union…   \u001b[0m\u001b[90m Any                 \u001b[0m\u001b[90m Any                 \u001b[0m\u001b[90m Any      \u001b[0m ⋯\n",
       "─────┼──────────────────────────────────────────────────────────────────────────\n",
       "   1 │ datetime \u001b[90m          \u001b[0m 2021-04-01T00:30:00  2021-12-12T12:15:00  2022-08-2 ⋯\n",
       "   2 │ BTC       41357.5   17719.5              41463.4              68633.7\n",
       "   3 │ ETH       2787.61   902.28               2791.03              4846.71\n",
       "   4 │ ADA       1.29892   0.4059               1.24                 3.095\n",
       "   5 │ ATOM      21.7201   5.63                 22.33                44.33     ⋯\n",
       "   6 │ BNB       404.175   186.1                394.255              689.12\n",
       "   7 │ DOGE      0.189377  0.04985              0.1712               0.73623\n",
       "   8 │ LTC       143.663   40.6                 138.005              409.84\n",
       "\u001b[36m                                                               3 columns omitted\u001b[0m"
      ]
     },
     "execution_count": 4,
     "metadata": {},
     "output_type": "execute_result"
    }
   ],
   "source": [
    "df = data[1]\n",
    "for d in data[2:end]\n",
    "    df = innerjoin(df, d, on=:datetime)\n",
    "end\n",
    "dropmissing!(df)\n",
    "describe(df)"
   ]
  },
  {
   "cell_type": "markdown",
   "id": "3dc2c30f",
   "metadata": {},
   "source": [
    "## Features\n",
    "We use statistical moments of order upto four of past returns as features. This implies a features vector of length $M \\times 4$. One could treat this as an image apply a CNN architecture. We consider a simple MLP architecture for this example."
   ]
  },
  {
   "cell_type": "code",
   "execution_count": 5,
   "id": "e81fcb46",
   "metadata": {},
   "outputs": [
    {
     "data": {
      "text/plain": [
       "features (generic function with 2 methods)"
      ]
     },
     "execution_count": 5,
     "metadata": {},
     "output_type": "execute_result"
    }
   ],
   "source": [
    "features(x::Vector{Float64}) = [f(x) for f in [mean, u->moment(u,2), u->moment(u,3), \n",
    "            u->moment(u,4)]]\n",
    "features(x::Matrix{Float64}) = reduce(vcat, [features(x[:,i]) for i in 1:size(x,2)])"
   ]
  },
  {
   "cell_type": "markdown",
   "id": "0e317fa1",
   "metadata": {},
   "source": [
    "Precompute features and returns. We use an observation period of _obs_ bars to compute features. We hold the portfolio for a period of _hold_ bars."
   ]
  },
  {
   "cell_type": "code",
   "execution_count": 45,
   "id": "f41146f6",
   "metadata": {},
   "outputs": [
    {
     "data": {
      "text/plain": [
       "((28, 2446), (7, 2446))"
      ]
     },
     "execution_count": 45,
     "metadata": {},
     "output_type": "execute_result"
    }
   ],
   "source": [
    "obs, hold = 60, 10\n",
    "rx = diff(log.(Matrix(df[:, 2:end])), dims=1)\n",
    "T = size(rx,1)\n",
    "rng = obs:hold:T-hold\n",
    "fx = zeros(4 * nassets, length(rng))\n",
    "r = zeros(nassets,length(rng))\n",
    "for (i,t) ∈ enumerate(rng)\n",
    "    fx[:,i] .= vec(features(rx[t-obs+1:t,:]))\n",
    "    r[:,i] .= vec(exp.(sum(rx[t+1:t+hold, :], dims=1)) .- 1)\n",
    "end\n",
    "size(fx), size(r)"
   ]
  },
  {
   "cell_type": "markdown",
   "id": "c692ce98",
   "metadata": {},
   "source": [
    "## Loss Function"
   ]
  },
  {
   "cell_type": "code",
   "execution_count": 46,
   "id": "5793e984",
   "metadata": {},
   "outputs": [
    {
     "data": {
      "text/plain": [
       "mvo (generic function with 1 method)"
      ]
     },
     "execution_count": 46,
     "metadata": {},
     "output_type": "execute_result"
    }
   ],
   "source": [
    "function mvo(model, fx, r; γ=1.0, c=0.0005)\n",
    "    w = model(fx)\n",
    "    ret = sum(w .* r, dims=1)\n",
    "    u = γ*0.5*var(ret) - mean(ret) + c * sum(abs.(diff(w, dims=2)))/(size(w,2)-1)\n",
    "    return u\n",
    "end"
   ]
  },
  {
   "cell_type": "markdown",
   "id": "20a0b784",
   "metadata": {},
   "source": [
    "## Performance Measures\n",
    "Sharpe ratio and max drawdown are standard performance measures of trading strategies."
   ]
  },
  {
   "cell_type": "code",
   "execution_count": 8,
   "id": "1c24f46d",
   "metadata": {},
   "outputs": [
    {
     "data": {
      "text/plain": [
       "sharpe (generic function with 1 method)"
      ]
     },
     "execution_count": 8,
     "metadata": {},
     "output_type": "execute_result"
    }
   ],
   "source": [
    "function sharpe(model, fx, r; afac=1.0)\n",
    "    w = model(fx)\n",
    "    ret = sum(w.*r, dims=1)\n",
    "    return sqrt(afac)*mean(ret)/std(ret)\n",
    "end"
   ]
  },
  {
   "cell_type": "code",
   "execution_count": 9,
   "id": "5acaa842",
   "metadata": {},
   "outputs": [
    {
     "data": {
      "text/plain": [
       "maxdd (generic function with 1 method)"
      ]
     },
     "execution_count": 9,
     "metadata": {},
     "output_type": "execute_result"
    }
   ],
   "source": [
    "function maxdd(r)\n",
    "    x = cumprod(1.0 .+ r)\n",
    "    return minimum(x ./ accumulate(max, x) .- 1.0)\n",
    "end"
   ]
  },
  {
   "cell_type": "markdown",
   "id": "9ee5b925",
   "metadata": {},
   "source": [
    "## Training"
   ]
  },
  {
   "cell_type": "code",
   "execution_count": 53,
   "id": "d3c0fddf",
   "metadata": {},
   "outputs": [
    {
     "data": {
      "text/plain": [
       "(28, 1712)"
      ]
     },
     "execution_count": 53,
     "metadata": {},
     "output_type": "execute_result"
    }
   ],
   "source": [
    "tfrac = 0.7\n",
    "N = floor(Int, tfrac * size(fx,2))\n",
    "fx_train, fx_test = fx[:,1:N], fx[:,N+1:end]\n",
    "r_train, r_test = r[:,1:N], r[:,N+1:end]\n",
    "size(fx_train)"
   ]
  },
  {
   "cell_type": "markdown",
   "id": "35ec1a71",
   "metadata": {},
   "source": [
    "$\\gamma$ is the risk-aversion coefficient, _c_ is the transaction cost in %, $\\eta$ is the learning rate and _cutoff_ is the minimum annualised sharpe ratio at which we terminate learning. _afac_ is the scaling factor to compute annualised sharpe ratio."
   ]
  },
  {
   "cell_type": "code",
   "execution_count": 71,
   "id": "9275045e",
   "metadata": {},
   "outputs": [
    {
     "data": {
      "text/plain": [
       "1752.0"
      ]
     },
     "execution_count": 71,
     "metadata": {},
     "output_type": "execute_result"
    }
   ],
   "source": [
    "epochs, η, γ, c = 500, 0.01, 1.0, 0.0\n",
    "cutoff = 2.0\n",
    "afac = 365*48/hold"
   ]
  },
  {
   "cell_type": "markdown",
   "id": "13ff610e",
   "metadata": {},
   "source": [
    "We use a simple MLP with one hidden layer."
   ]
  },
  {
   "cell_type": "code",
   "execution_count": 72,
   "id": "0dbf1b82",
   "metadata": {},
   "outputs": [
    {
     "data": {
      "text/plain": [
       "Chain(\n",
       "  Dense(28 => 64, relu),                \u001b[90m# 1_856 parameters\u001b[39m\n",
       "  Dense(64 => 32, relu),                \u001b[90m# 2_080 parameters\u001b[39m\n",
       "  Dense(32 => 7),                       \u001b[90m# 231 parameters\u001b[39m\n",
       "  NNlib.softmax,\n",
       ") \u001b[90m                  # Total: 6 arrays, \u001b[39m4_167 parameters, 16.652 KiB."
      ]
     },
     "execution_count": 72,
     "metadata": {},
     "output_type": "execute_result"
    }
   ],
   "source": [
    "model = Chain(Dense(4*nassets,64,relu), Dense(64,32,relu), Dense(32,nassets), softmax)"
   ]
  },
  {
   "cell_type": "code",
   "execution_count": 73,
   "id": "a8fb6a0b",
   "metadata": {},
   "outputs": [
    {
     "data": {
      "text/plain": [
       "7.340990369"
      ]
     },
     "execution_count": 73,
     "metadata": {},
     "output_type": "execute_result"
    }
   ],
   "source": [
    "ps = Flux.params(model)\n",
    "loss(x,y) = mvo(model, x, y, γ=γ, c=c)\n",
    "@elapsed for i ∈ 1:epochs\n",
    "    gs = Flux.gradient(ps) do\n",
    "        loss(fx_train, r_train)\n",
    "    end\n",
    "    Flux.Optimise.update!(ADAM(η), ps, gs)\n",
    "    if sharpe(model, fx, r, afac=afac) > cutoff\n",
    "        break\n",
    "    end\n",
    "end"
   ]
  },
  {
   "cell_type": "markdown",
   "id": "1e933f1e",
   "metadata": {},
   "source": [
    "Evaluate performance of the model."
   ]
  },
  {
   "cell_type": "code",
   "execution_count": 74,
   "id": "8538aa54",
   "metadata": {},
   "outputs": [
    {
     "data": {
      "text/plain": [
       "(sharpe = 1.2369673160317918, maxdd = -0.798701054784891)"
      ]
     },
     "execution_count": 74,
     "metadata": {},
     "output_type": "execute_result"
    }
   ],
   "source": [
    "w = model(fx)\n",
    "tc = c .* [0.0 sum(abs.(diff(w, dims=2)), dims=1)]\n",
    "pnl = vec(sum(w.*r, dims=1) .- tc)\n",
    "(sharpe = sqrt(afac)*mean(pnl)/std(pnl), maxdd = maxdd(pnl))"
   ]
  },
  {
   "cell_type": "code",
   "execution_count": 75,
   "id": "07851745",
   "metadata": {},
   "outputs": [
    {
     "data": {
      "image/svg+xml": [
       "<?xml version=\"1.0\" encoding=\"utf-8\"?>\n",
       "<svg xmlns=\"http://www.w3.org/2000/svg\" xmlns:xlink=\"http://www.w3.org/1999/xlink\" width=\"600\" height=\"400\" viewBox=\"0 0 2400 1600\">\n",
       "<defs>\n",
       "  <clipPath id=\"clip190\">\n",
       "    <rect x=\"0\" y=\"0\" width=\"2400\" height=\"1600\"/>\n",
       "  </clipPath>\n",
       "</defs>\n",
       "<path clip-path=\"url(#clip190)\" d=\"\n",
       "M0 1600 L2400 1600 L2400 0 L0 0  Z\n",
       "  \" fill=\"#ffffff\" fill-rule=\"evenodd\" fill-opacity=\"1\"/>\n",
       "<defs>\n",
       "  <clipPath id=\"clip191\">\n",
       "    <rect x=\"480\" y=\"0\" width=\"1681\" height=\"1600\"/>\n",
       "  </clipPath>\n",
       "</defs>\n",
       "<path clip-path=\"url(#clip190)\" d=\"\n",
       "M175.445 1486.45 L2352.76 1486.45 L2352.76 47.2441 L175.445 47.2441  Z\n",
       "  \" fill=\"#ffffff\" fill-rule=\"evenodd\" fill-opacity=\"1\"/>\n",
       "<defs>\n",
       "  <clipPath id=\"clip192\">\n",
       "    <rect x=\"175\" y=\"47\" width=\"2178\" height=\"1440\"/>\n",
       "  </clipPath>\n",
       "</defs>\n",
       "<polyline clip-path=\"url(#clip192)\" style=\"stroke:#000000; stroke-linecap:butt; stroke-linejoin:round; stroke-width:2; stroke-opacity:0.1; fill:none\" points=\"\n",
       "  236.227,1486.45 236.227,47.2441 \n",
       "  \"/>\n",
       "<polyline clip-path=\"url(#clip192)\" style=\"stroke:#000000; stroke-linecap:butt; stroke-linejoin:round; stroke-width:2; stroke-opacity:0.1; fill:none\" points=\"\n",
       "  656.282,1486.45 656.282,47.2441 \n",
       "  \"/>\n",
       "<polyline clip-path=\"url(#clip192)\" style=\"stroke:#000000; stroke-linecap:butt; stroke-linejoin:round; stroke-width:2; stroke-opacity:0.1; fill:none\" points=\"\n",
       "  1076.34,1486.45 1076.34,47.2441 \n",
       "  \"/>\n",
       "<polyline clip-path=\"url(#clip192)\" style=\"stroke:#000000; stroke-linecap:butt; stroke-linejoin:round; stroke-width:2; stroke-opacity:0.1; fill:none\" points=\"\n",
       "  1496.39,1486.45 1496.39,47.2441 \n",
       "  \"/>\n",
       "<polyline clip-path=\"url(#clip192)\" style=\"stroke:#000000; stroke-linecap:butt; stroke-linejoin:round; stroke-width:2; stroke-opacity:0.1; fill:none\" points=\"\n",
       "  1916.45,1486.45 1916.45,47.2441 \n",
       "  \"/>\n",
       "<polyline clip-path=\"url(#clip192)\" style=\"stroke:#000000; stroke-linecap:butt; stroke-linejoin:round; stroke-width:2; stroke-opacity:0.1; fill:none\" points=\"\n",
       "  2336.5,1486.45 2336.5,47.2441 \n",
       "  \"/>\n",
       "<polyline clip-path=\"url(#clip190)\" style=\"stroke:#000000; stroke-linecap:butt; stroke-linejoin:round; stroke-width:4; stroke-opacity:1; fill:none\" points=\"\n",
       "  175.445,1486.45 2352.76,1486.45 \n",
       "  \"/>\n",
       "<polyline clip-path=\"url(#clip190)\" style=\"stroke:#000000; stroke-linecap:butt; stroke-linejoin:round; stroke-width:4; stroke-opacity:1; fill:none\" points=\"\n",
       "  236.227,1486.45 236.227,1467.55 \n",
       "  \"/>\n",
       "<polyline clip-path=\"url(#clip190)\" style=\"stroke:#000000; stroke-linecap:butt; stroke-linejoin:round; stroke-width:4; stroke-opacity:1; fill:none\" points=\"\n",
       "  656.282,1486.45 656.282,1467.55 \n",
       "  \"/>\n",
       "<polyline clip-path=\"url(#clip190)\" style=\"stroke:#000000; stroke-linecap:butt; stroke-linejoin:round; stroke-width:4; stroke-opacity:1; fill:none\" points=\"\n",
       "  1076.34,1486.45 1076.34,1467.55 \n",
       "  \"/>\n",
       "<polyline clip-path=\"url(#clip190)\" style=\"stroke:#000000; stroke-linecap:butt; stroke-linejoin:round; stroke-width:4; stroke-opacity:1; fill:none\" points=\"\n",
       "  1496.39,1486.45 1496.39,1467.55 \n",
       "  \"/>\n",
       "<polyline clip-path=\"url(#clip190)\" style=\"stroke:#000000; stroke-linecap:butt; stroke-linejoin:round; stroke-width:4; stroke-opacity:1; fill:none\" points=\"\n",
       "  1916.45,1486.45 1916.45,1467.55 \n",
       "  \"/>\n",
       "<polyline clip-path=\"url(#clip190)\" style=\"stroke:#000000; stroke-linecap:butt; stroke-linejoin:round; stroke-width:4; stroke-opacity:1; fill:none\" points=\"\n",
       "  2336.5,1486.45 2336.5,1467.55 \n",
       "  \"/>\n",
       "<path clip-path=\"url(#clip190)\" d=\"M236.227 1517.37 Q232.616 1517.37 230.787 1520.93 Q228.982 1524.47 228.982 1531.6 Q228.982 1538.71 230.787 1542.27 Q232.616 1545.82 236.227 1545.82 Q239.861 1545.82 241.667 1542.27 Q243.496 1538.71 243.496 1531.6 Q243.496 1524.47 241.667 1520.93 Q239.861 1517.37 236.227 1517.37 M236.227 1513.66 Q242.037 1513.66 245.093 1518.27 Q248.171 1522.85 248.171 1531.6 Q248.171 1540.33 245.093 1544.94 Q242.037 1549.52 236.227 1549.52 Q230.417 1549.52 227.338 1544.94 Q224.283 1540.33 224.283 1531.6 Q224.283 1522.85 227.338 1518.27 Q230.417 1513.66 236.227 1513.66 Z\" fill=\"#000000\" fill-rule=\"evenodd\" fill-opacity=\"1\" /><path clip-path=\"url(#clip190)\" d=\"M615.9 1514.29 L634.256 1514.29 L634.256 1518.22 L620.182 1518.22 L620.182 1526.7 Q621.201 1526.35 622.219 1526.19 Q623.238 1526 624.256 1526 Q630.043 1526 633.423 1529.17 Q636.803 1532.34 636.803 1537.76 Q636.803 1543.34 633.33 1546.44 Q629.858 1549.52 623.539 1549.52 Q621.363 1549.52 619.094 1549.15 Q616.849 1548.78 614.442 1548.04 L614.442 1543.34 Q616.525 1544.47 618.747 1545.03 Q620.969 1545.58 623.446 1545.58 Q627.451 1545.58 629.789 1543.48 Q632.127 1541.37 632.127 1537.76 Q632.127 1534.15 629.789 1532.04 Q627.451 1529.94 623.446 1529.94 Q621.571 1529.94 619.696 1530.35 Q617.844 1530.77 615.9 1531.65 L615.9 1514.29 Z\" fill=\"#000000\" fill-rule=\"evenodd\" fill-opacity=\"1\" /><path clip-path=\"url(#clip190)\" d=\"M656.015 1517.37 Q652.404 1517.37 650.576 1520.93 Q648.77 1524.47 648.77 1531.6 Q648.77 1538.71 650.576 1542.27 Q652.404 1545.82 656.015 1545.82 Q659.65 1545.82 661.455 1542.27 Q663.284 1538.71 663.284 1531.6 Q663.284 1524.47 661.455 1520.93 Q659.65 1517.37 656.015 1517.37 M656.015 1513.66 Q661.826 1513.66 664.881 1518.27 Q667.96 1522.85 667.96 1531.6 Q667.96 1540.33 664.881 1544.94 Q661.826 1549.52 656.015 1549.52 Q650.205 1549.52 647.127 1544.94 Q644.071 1540.33 644.071 1531.6 Q644.071 1522.85 647.127 1518.27 Q650.205 1513.66 656.015 1513.66 Z\" fill=\"#000000\" fill-rule=\"evenodd\" fill-opacity=\"1\" /><path clip-path=\"url(#clip190)\" d=\"M686.177 1517.37 Q682.566 1517.37 680.738 1520.93 Q678.932 1524.47 678.932 1531.6 Q678.932 1538.71 680.738 1542.27 Q682.566 1545.82 686.177 1545.82 Q689.812 1545.82 691.617 1542.27 Q693.446 1538.71 693.446 1531.6 Q693.446 1524.47 691.617 1520.93 Q689.812 1517.37 686.177 1517.37 M686.177 1513.66 Q691.987 1513.66 695.043 1518.27 Q698.122 1522.85 698.122 1531.6 Q698.122 1540.33 695.043 1544.94 Q691.987 1549.52 686.177 1549.52 Q680.367 1549.52 677.288 1544.94 Q674.233 1540.33 674.233 1531.6 Q674.233 1522.85 677.288 1518.27 Q680.367 1513.66 686.177 1513.66 Z\" fill=\"#000000\" fill-rule=\"evenodd\" fill-opacity=\"1\" /><path clip-path=\"url(#clip190)\" d=\"M1020.86 1544.91 L1028.5 1544.91 L1028.5 1518.55 L1020.19 1520.21 L1020.19 1515.95 L1028.45 1514.29 L1033.13 1514.29 L1033.13 1544.91 L1040.77 1544.91 L1040.77 1548.85 L1020.86 1548.85 L1020.86 1544.91 Z\" fill=\"#000000\" fill-rule=\"evenodd\" fill-opacity=\"1\" /><path clip-path=\"url(#clip190)\" d=\"M1060.21 1517.37 Q1056.6 1517.37 1054.77 1520.93 Q1052.97 1524.47 1052.97 1531.6 Q1052.97 1538.71 1054.77 1542.27 Q1056.6 1545.82 1060.21 1545.82 Q1063.85 1545.82 1065.65 1542.27 Q1067.48 1538.71 1067.48 1531.6 Q1067.48 1524.47 1065.65 1520.93 Q1063.85 1517.37 1060.21 1517.37 M1060.21 1513.66 Q1066.02 1513.66 1069.08 1518.27 Q1072.16 1522.85 1072.16 1531.6 Q1072.16 1540.33 1069.08 1544.94 Q1066.02 1549.52 1060.21 1549.52 Q1054.4 1549.52 1051.32 1544.94 Q1048.27 1540.33 1048.27 1531.6 Q1048.27 1522.85 1051.32 1518.27 Q1054.4 1513.66 1060.21 1513.66 Z\" fill=\"#000000\" fill-rule=\"evenodd\" fill-opacity=\"1\" /><path clip-path=\"url(#clip190)\" d=\"M1090.38 1517.37 Q1086.76 1517.37 1084.94 1520.93 Q1083.13 1524.47 1083.13 1531.6 Q1083.13 1538.71 1084.94 1542.27 Q1086.76 1545.82 1090.38 1545.82 Q1094.01 1545.82 1095.82 1542.27 Q1097.64 1538.71 1097.64 1531.6 Q1097.64 1524.47 1095.82 1520.93 Q1094.01 1517.37 1090.38 1517.37 M1090.38 1513.66 Q1096.19 1513.66 1099.24 1518.27 Q1102.32 1522.85 1102.32 1531.6 Q1102.32 1540.33 1099.24 1544.94 Q1096.19 1549.52 1090.38 1549.52 Q1084.57 1549.52 1081.49 1544.94 Q1078.43 1540.33 1078.43 1531.6 Q1078.43 1522.85 1081.49 1518.27 Q1084.57 1513.66 1090.38 1513.66 Z\" fill=\"#000000\" fill-rule=\"evenodd\" fill-opacity=\"1\" /><path clip-path=\"url(#clip190)\" d=\"M1120.54 1517.37 Q1116.93 1517.37 1115.1 1520.93 Q1113.29 1524.47 1113.29 1531.6 Q1113.29 1538.71 1115.1 1542.27 Q1116.93 1545.82 1120.54 1545.82 Q1124.17 1545.82 1125.98 1542.27 Q1127.81 1538.71 1127.81 1531.6 Q1127.81 1524.47 1125.98 1520.93 Q1124.17 1517.37 1120.54 1517.37 M1120.54 1513.66 Q1126.35 1513.66 1129.4 1518.27 Q1132.48 1522.85 1132.48 1531.6 Q1132.48 1540.33 1129.4 1544.94 Q1126.35 1549.52 1120.54 1549.52 Q1114.73 1549.52 1111.65 1544.94 Q1108.59 1540.33 1108.59 1531.6 Q1108.59 1522.85 1111.65 1518.27 Q1114.73 1513.66 1120.54 1513.66 Z\" fill=\"#000000\" fill-rule=\"evenodd\" fill-opacity=\"1\" /><path clip-path=\"url(#clip190)\" d=\"M1440.92 1544.91 L1448.56 1544.91 L1448.56 1518.55 L1440.25 1520.21 L1440.25 1515.95 L1448.51 1514.29 L1453.18 1514.29 L1453.18 1544.91 L1460.82 1544.91 L1460.82 1548.85 L1440.92 1548.85 L1440.92 1544.91 Z\" fill=\"#000000\" fill-rule=\"evenodd\" fill-opacity=\"1\" /><path clip-path=\"url(#clip190)\" d=\"M1470.31 1514.29 L1488.67 1514.29 L1488.67 1518.22 L1474.6 1518.22 L1474.6 1526.7 Q1475.62 1526.35 1476.63 1526.19 Q1477.65 1526 1478.67 1526 Q1484.46 1526 1487.84 1529.17 Q1491.22 1532.34 1491.22 1537.76 Q1491.22 1543.34 1487.74 1546.44 Q1484.27 1549.52 1477.95 1549.52 Q1475.78 1549.52 1473.51 1549.15 Q1471.26 1548.78 1468.86 1548.04 L1468.86 1543.34 Q1470.94 1544.47 1473.16 1545.03 Q1475.38 1545.58 1477.86 1545.58 Q1481.87 1545.58 1484.2 1543.48 Q1486.54 1541.37 1486.54 1537.76 Q1486.54 1534.15 1484.2 1532.04 Q1481.87 1529.94 1477.86 1529.94 Q1475.99 1529.94 1474.11 1530.35 Q1472.26 1530.77 1470.31 1531.65 L1470.31 1514.29 Z\" fill=\"#000000\" fill-rule=\"evenodd\" fill-opacity=\"1\" /><path clip-path=\"url(#clip190)\" d=\"M1510.43 1517.37 Q1506.82 1517.37 1504.99 1520.93 Q1503.18 1524.47 1503.18 1531.6 Q1503.18 1538.71 1504.99 1542.27 Q1506.82 1545.82 1510.43 1545.82 Q1514.06 1545.82 1515.87 1542.27 Q1517.7 1538.71 1517.7 1531.6 Q1517.7 1524.47 1515.87 1520.93 Q1514.06 1517.37 1510.43 1517.37 M1510.43 1513.66 Q1516.24 1513.66 1519.3 1518.27 Q1522.37 1522.85 1522.37 1531.6 Q1522.37 1540.33 1519.3 1544.94 Q1516.24 1549.52 1510.43 1549.52 Q1504.62 1549.52 1501.54 1544.94 Q1498.49 1540.33 1498.49 1531.6 Q1498.49 1522.85 1501.54 1518.27 Q1504.62 1513.66 1510.43 1513.66 Z\" fill=\"#000000\" fill-rule=\"evenodd\" fill-opacity=\"1\" /><path clip-path=\"url(#clip190)\" d=\"M1540.59 1517.37 Q1536.98 1517.37 1535.15 1520.93 Q1533.35 1524.47 1533.35 1531.6 Q1533.35 1538.71 1535.15 1542.27 Q1536.98 1545.82 1540.59 1545.82 Q1544.23 1545.82 1546.03 1542.27 Q1547.86 1538.71 1547.86 1531.6 Q1547.86 1524.47 1546.03 1520.93 Q1544.23 1517.37 1540.59 1517.37 M1540.59 1513.66 Q1546.4 1513.66 1549.46 1518.27 Q1552.54 1522.85 1552.54 1531.6 Q1552.54 1540.33 1549.46 1544.94 Q1546.4 1549.52 1540.59 1549.52 Q1534.78 1549.52 1531.7 1544.94 Q1528.65 1540.33 1528.65 1531.6 Q1528.65 1522.85 1531.7 1518.27 Q1534.78 1513.66 1540.59 1513.66 Z\" fill=\"#000000\" fill-rule=\"evenodd\" fill-opacity=\"1\" /><path clip-path=\"url(#clip190)\" d=\"M1865.06 1544.91 L1881.38 1544.91 L1881.38 1548.85 L1859.43 1548.85 L1859.43 1544.91 Q1862.09 1542.16 1866.68 1537.53 Q1871.28 1532.88 1872.46 1531.53 Q1874.71 1529.01 1875.59 1527.27 Q1876.49 1525.51 1876.49 1523.82 Q1876.49 1521.07 1874.55 1519.33 Q1872.63 1517.6 1869.52 1517.6 Q1867.33 1517.6 1864.87 1518.36 Q1862.44 1519.13 1859.66 1520.68 L1859.66 1515.95 Q1862.49 1514.82 1864.94 1514.24 Q1867.39 1513.66 1869.43 1513.66 Q1874.8 1513.66 1878 1516.35 Q1881.19 1519.03 1881.19 1523.52 Q1881.19 1525.65 1880.38 1527.57 Q1879.59 1529.47 1877.49 1532.07 Q1876.91 1532.74 1873.81 1535.95 Q1870.7 1539.15 1865.06 1544.91 Z\" fill=\"#000000\" fill-rule=\"evenodd\" fill-opacity=\"1\" /><path clip-path=\"url(#clip190)\" d=\"M1901.19 1517.37 Q1897.58 1517.37 1895.75 1520.93 Q1893.95 1524.47 1893.95 1531.6 Q1893.95 1538.71 1895.75 1542.27 Q1897.58 1545.82 1901.19 1545.82 Q1904.82 1545.82 1906.63 1542.27 Q1908.46 1538.71 1908.46 1531.6 Q1908.46 1524.47 1906.63 1520.93 Q1904.82 1517.37 1901.19 1517.37 M1901.19 1513.66 Q1907 1513.66 1910.06 1518.27 Q1913.14 1522.85 1913.14 1531.6 Q1913.14 1540.33 1910.06 1544.94 Q1907 1549.52 1901.19 1549.52 Q1895.38 1549.52 1892.3 1544.94 Q1889.25 1540.33 1889.25 1531.6 Q1889.25 1522.85 1892.3 1518.27 Q1895.38 1513.66 1901.19 1513.66 Z\" fill=\"#000000\" fill-rule=\"evenodd\" fill-opacity=\"1\" /><path clip-path=\"url(#clip190)\" d=\"M1931.35 1517.37 Q1927.74 1517.37 1925.91 1520.93 Q1924.11 1524.47 1924.11 1531.6 Q1924.11 1538.71 1925.91 1542.27 Q1927.74 1545.82 1931.35 1545.82 Q1934.99 1545.82 1936.79 1542.27 Q1938.62 1538.71 1938.62 1531.6 Q1938.62 1524.47 1936.79 1520.93 Q1934.99 1517.37 1931.35 1517.37 M1931.35 1513.66 Q1937.16 1513.66 1940.22 1518.27 Q1943.3 1522.85 1943.3 1531.6 Q1943.3 1540.33 1940.22 1544.94 Q1937.16 1549.52 1931.35 1549.52 Q1925.54 1549.52 1922.46 1544.94 Q1919.41 1540.33 1919.41 1531.6 Q1919.41 1522.85 1922.46 1518.27 Q1925.54 1513.66 1931.35 1513.66 Z\" fill=\"#000000\" fill-rule=\"evenodd\" fill-opacity=\"1\" /><path clip-path=\"url(#clip190)\" d=\"M1961.51 1517.37 Q1957.9 1517.37 1956.07 1520.93 Q1954.27 1524.47 1954.27 1531.6 Q1954.27 1538.71 1956.07 1542.27 Q1957.9 1545.82 1961.51 1545.82 Q1965.15 1545.82 1966.95 1542.27 Q1968.78 1538.71 1968.78 1531.6 Q1968.78 1524.47 1966.95 1520.93 Q1965.15 1517.37 1961.51 1517.37 M1961.51 1513.66 Q1967.32 1513.66 1970.38 1518.27 Q1973.46 1522.85 1973.46 1531.6 Q1973.46 1540.33 1970.38 1544.94 Q1967.32 1549.52 1961.51 1549.52 Q1955.7 1549.52 1952.63 1544.94 Q1949.57 1540.33 1949.57 1531.6 Q1949.57 1522.85 1952.63 1518.27 Q1955.7 1513.66 1961.51 1513.66 Z\" fill=\"#000000\" fill-rule=\"evenodd\" fill-opacity=\"1\" /><path clip-path=\"url(#clip190)\" d=\"M2285.11 1544.91 L2301.43 1544.91 L2301.43 1548.85 L2279.49 1548.85 L2279.49 1544.91 Q2282.15 1542.16 2286.73 1537.53 Q2291.34 1532.88 2292.52 1531.53 Q2294.76 1529.01 2295.64 1527.27 Q2296.55 1525.51 2296.55 1523.82 Q2296.55 1521.07 2294.6 1519.33 Q2292.68 1517.6 2289.58 1517.6 Q2287.38 1517.6 2284.93 1518.36 Q2282.5 1519.13 2279.72 1520.68 L2279.72 1515.95 Q2282.54 1514.82 2285 1514.24 Q2287.45 1513.66 2289.49 1513.66 Q2294.86 1513.66 2298.05 1516.35 Q2301.25 1519.03 2301.25 1523.52 Q2301.25 1525.65 2300.44 1527.57 Q2299.65 1529.47 2297.54 1532.07 Q2296.96 1532.74 2293.86 1535.95 Q2290.76 1539.15 2285.11 1544.91 Z\" fill=\"#000000\" fill-rule=\"evenodd\" fill-opacity=\"1\" /><path clip-path=\"url(#clip190)\" d=\"M2311.29 1514.29 L2329.65 1514.29 L2329.65 1518.22 L2315.57 1518.22 L2315.57 1526.7 Q2316.59 1526.35 2317.61 1526.19 Q2318.63 1526 2319.65 1526 Q2325.44 1526 2328.81 1529.17 Q2332.19 1532.34 2332.19 1537.76 Q2332.19 1543.34 2328.72 1546.44 Q2325.25 1549.52 2318.93 1549.52 Q2316.75 1549.52 2314.49 1549.15 Q2312.24 1548.78 2309.83 1548.04 L2309.83 1543.34 Q2311.92 1544.47 2314.14 1545.03 Q2316.36 1545.58 2318.84 1545.58 Q2322.84 1545.58 2325.18 1543.48 Q2327.52 1541.37 2327.52 1537.76 Q2327.52 1534.15 2325.18 1532.04 Q2322.84 1529.94 2318.84 1529.94 Q2316.96 1529.94 2315.09 1530.35 Q2313.24 1530.77 2311.29 1531.65 L2311.29 1514.29 Z\" fill=\"#000000\" fill-rule=\"evenodd\" fill-opacity=\"1\" /><path clip-path=\"url(#clip190)\" d=\"M2351.41 1517.37 Q2347.8 1517.37 2345.97 1520.93 Q2344.16 1524.47 2344.16 1531.6 Q2344.16 1538.71 2345.97 1542.27 Q2347.8 1545.82 2351.41 1545.82 Q2355.04 1545.82 2356.85 1542.27 Q2358.68 1538.71 2358.68 1531.6 Q2358.68 1524.47 2356.85 1520.93 Q2355.04 1517.37 2351.41 1517.37 M2351.41 1513.66 Q2357.22 1513.66 2360.27 1518.27 Q2363.35 1522.85 2363.35 1531.6 Q2363.35 1540.33 2360.27 1544.94 Q2357.22 1549.52 2351.41 1549.52 Q2345.6 1549.52 2342.52 1544.94 Q2339.46 1540.33 2339.46 1531.6 Q2339.46 1522.85 2342.52 1518.27 Q2345.6 1513.66 2351.41 1513.66 Z\" fill=\"#000000\" fill-rule=\"evenodd\" fill-opacity=\"1\" /><path clip-path=\"url(#clip190)\" d=\"M2381.57 1517.37 Q2377.96 1517.37 2376.13 1520.93 Q2374.32 1524.47 2374.32 1531.6 Q2374.32 1538.71 2376.13 1542.27 Q2377.96 1545.82 2381.57 1545.82 Q2385.2 1545.82 2387.01 1542.27 Q2388.84 1538.71 2388.84 1531.6 Q2388.84 1524.47 2387.01 1520.93 Q2385.2 1517.37 2381.57 1517.37 M2381.57 1513.66 Q2387.38 1513.66 2390.43 1518.27 Q2393.51 1522.85 2393.51 1531.6 Q2393.51 1540.33 2390.43 1544.94 Q2387.38 1549.52 2381.57 1549.52 Q2375.76 1549.52 2372.68 1544.94 Q2369.62 1540.33 2369.62 1531.6 Q2369.62 1522.85 2372.68 1518.27 Q2375.76 1513.66 2381.57 1513.66 Z\" fill=\"#000000\" fill-rule=\"evenodd\" fill-opacity=\"1\" /><polyline clip-path=\"url(#clip192)\" style=\"stroke:#000000; stroke-linecap:butt; stroke-linejoin:round; stroke-width:2; stroke-opacity:0.1; fill:none\" points=\"\n",
       "  175.445,1264.02 2352.76,1264.02 \n",
       "  \"/>\n",
       "<polyline clip-path=\"url(#clip192)\" style=\"stroke:#000000; stroke-linecap:butt; stroke-linejoin:round; stroke-width:2; stroke-opacity:0.1; fill:none\" points=\"\n",
       "  175.445,902.24 2352.76,902.24 \n",
       "  \"/>\n",
       "<polyline clip-path=\"url(#clip192)\" style=\"stroke:#000000; stroke-linecap:butt; stroke-linejoin:round; stroke-width:2; stroke-opacity:0.1; fill:none\" points=\"\n",
       "  175.445,540.459 2352.76,540.459 \n",
       "  \"/>\n",
       "<polyline clip-path=\"url(#clip192)\" style=\"stroke:#000000; stroke-linecap:butt; stroke-linejoin:round; stroke-width:2; stroke-opacity:0.1; fill:none\" points=\"\n",
       "  175.445,178.677 2352.76,178.677 \n",
       "  \"/>\n",
       "<polyline clip-path=\"url(#clip190)\" style=\"stroke:#000000; stroke-linecap:butt; stroke-linejoin:round; stroke-width:4; stroke-opacity:1; fill:none\" points=\"\n",
       "  175.445,1486.45 175.445,47.2441 \n",
       "  \"/>\n",
       "<polyline clip-path=\"url(#clip190)\" style=\"stroke:#000000; stroke-linecap:butt; stroke-linejoin:round; stroke-width:4; stroke-opacity:1; fill:none\" points=\"\n",
       "  175.445,1264.02 194.343,1264.02 \n",
       "  \"/>\n",
       "<polyline clip-path=\"url(#clip190)\" style=\"stroke:#000000; stroke-linecap:butt; stroke-linejoin:round; stroke-width:4; stroke-opacity:1; fill:none\" points=\"\n",
       "  175.445,902.24 194.343,902.24 \n",
       "  \"/>\n",
       "<polyline clip-path=\"url(#clip190)\" style=\"stroke:#000000; stroke-linecap:butt; stroke-linejoin:round; stroke-width:4; stroke-opacity:1; fill:none\" points=\"\n",
       "  175.445,540.459 194.343,540.459 \n",
       "  \"/>\n",
       "<polyline clip-path=\"url(#clip190)\" style=\"stroke:#000000; stroke-linecap:butt; stroke-linejoin:round; stroke-width:4; stroke-opacity:1; fill:none\" points=\"\n",
       "  175.445,178.677 194.343,178.677 \n",
       "  \"/>\n",
       "<path clip-path=\"url(#clip190)\" d=\"M123.126 1277.37 L139.445 1277.37 L139.445 1281.3 L117.501 1281.3 L117.501 1277.37 Q120.163 1274.61 124.746 1269.98 Q129.353 1265.33 130.533 1263.99 Q132.779 1261.46 133.658 1259.73 Q134.561 1257.97 134.561 1256.28 Q134.561 1253.52 132.617 1251.79 Q130.695 1250.05 127.593 1250.05 Q125.394 1250.05 122.941 1250.81 Q120.51 1251.58 117.732 1253.13 L117.732 1248.41 Q120.556 1247.27 123.01 1246.69 Q125.464 1246.12 127.501 1246.12 Q132.871 1246.12 136.066 1248.8 Q139.26 1251.49 139.26 1255.98 Q139.26 1258.11 138.45 1260.03 Q137.663 1261.93 135.556 1264.52 Q134.978 1265.19 131.876 1268.41 Q128.774 1271.6 123.126 1277.37 Z\" fill=\"#000000\" fill-rule=\"evenodd\" fill-opacity=\"1\" /><path clip-path=\"url(#clip190)\" d=\"M129.862 889.034 L118.056 907.483 L129.862 907.483 L129.862 889.034 M128.635 884.96 L134.515 884.96 L134.515 907.483 L139.445 907.483 L139.445 911.371 L134.515 911.371 L134.515 919.52 L129.862 919.52 L129.862 911.371 L114.26 911.371 L114.26 906.858 L128.635 884.96 Z\" fill=\"#000000\" fill-rule=\"evenodd\" fill-opacity=\"1\" /><path clip-path=\"url(#clip190)\" d=\"M127.917 538.595 Q124.769 538.595 122.918 540.748 Q121.089 542.901 121.089 546.651 Q121.089 550.377 122.918 552.553 Q124.769 554.706 127.917 554.706 Q131.066 554.706 132.894 552.553 Q134.746 550.377 134.746 546.651 Q134.746 542.901 132.894 540.748 Q131.066 538.595 127.917 538.595 M137.2 523.942 L137.2 528.202 Q135.441 527.368 133.635 526.929 Q131.853 526.489 130.093 526.489 Q125.464 526.489 123.01 529.614 Q120.58 532.739 120.232 539.058 Q121.598 537.044 123.658 535.979 Q125.718 534.891 128.195 534.891 Q133.404 534.891 136.413 538.063 Q139.445 541.211 139.445 546.651 Q139.445 551.975 136.297 555.192 Q133.149 558.41 127.917 558.41 Q121.922 558.41 118.751 553.827 Q115.58 549.22 115.58 540.493 Q115.58 532.299 119.468 527.438 Q123.357 522.554 129.908 522.554 Q131.667 522.554 133.45 522.901 Q135.255 523.248 137.2 523.942 Z\" fill=\"#000000\" fill-rule=\"evenodd\" fill-opacity=\"1\" /><path clip-path=\"url(#clip190)\" d=\"M127.593 179.546 Q124.26 179.546 122.339 181.328 Q120.441 183.11 120.441 186.235 Q120.441 189.36 122.339 191.143 Q124.26 192.925 127.593 192.925 Q130.927 192.925 132.848 191.143 Q134.769 189.337 134.769 186.235 Q134.769 183.11 132.848 181.328 Q130.95 179.546 127.593 179.546 M122.918 177.555 Q119.908 176.814 118.218 174.754 Q116.552 172.694 116.552 169.731 Q116.552 165.587 119.492 163.18 Q122.455 160.772 127.593 160.772 Q132.755 160.772 135.695 163.18 Q138.635 165.587 138.635 169.731 Q138.635 172.694 136.945 174.754 Q135.279 176.814 132.292 177.555 Q135.672 178.342 137.547 180.633 Q139.445 182.925 139.445 186.235 Q139.445 191.258 136.367 193.944 Q133.311 196.629 127.593 196.629 Q121.876 196.629 118.797 193.944 Q115.742 191.258 115.742 186.235 Q115.742 182.925 117.64 180.633 Q119.538 178.342 122.918 177.555 M121.205 170.171 Q121.205 172.856 122.871 174.36 Q124.561 175.865 127.593 175.865 Q130.603 175.865 132.292 174.36 Q134.005 172.856 134.005 170.171 Q134.005 167.485 132.292 165.981 Q130.603 164.476 127.593 164.476 Q124.561 164.476 122.871 165.981 Q121.205 167.485 121.205 170.171 Z\" fill=\"#000000\" fill-rule=\"evenodd\" fill-opacity=\"1\" /><path clip-path=\"url(#clip190)\" d=\"M42.4881 792.977 L64.0042 792.977 L64.0042 798.834 L42.679 798.834 Q37.6183 798.834 35.1038 800.807 Q32.5894 802.78 32.5894 806.727 Q32.5894 811.47 35.6131 814.207 Q38.6368 816.944 43.8567 816.944 L64.0042 816.944 L64.0042 822.832 L28.3562 822.832 L28.3562 816.944 L33.8944 816.944 Q30.6797 814.843 29.0883 812.011 Q27.4968 809.146 27.4968 805.422 Q27.4968 799.279 31.3163 796.128 Q35.1038 792.977 42.4881 792.977 Z\" fill=\"#000000\" fill-rule=\"evenodd\" fill-opacity=\"1\" /><path clip-path=\"url(#clip190)\" d=\"M46.0847 765.095 Q46.0847 772.193 47.7079 774.93 Q49.3312 777.668 53.2461 777.668 Q56.3653 777.668 58.2114 775.631 Q60.0256 773.562 60.0256 770.029 Q60.0256 765.159 56.5881 762.231 Q53.1188 759.271 47.3897 759.271 L46.0847 759.271 L46.0847 765.095 M43.6657 753.414 L64.0042 753.414 L64.0042 759.271 L58.5933 759.271 Q61.8398 761.276 63.3994 764.268 Q64.9272 767.26 64.9272 771.588 Q64.9272 777.063 61.8716 780.309 Q58.7843 783.524 53.6281 783.524 Q47.6125 783.524 44.5569 779.514 Q41.5014 775.472 41.5014 767.483 L41.5014 759.271 L40.9285 759.271 Q36.8862 759.271 34.6901 761.944 Q32.4621 764.586 32.4621 769.392 Q32.4621 772.448 33.1941 775.344 Q33.9262 778.241 35.3903 780.914 L29.9795 780.914 Q28.7381 777.7 28.1334 774.676 Q27.4968 771.652 27.4968 768.788 Q27.4968 761.053 31.5072 757.234 Q35.5176 753.414 43.6657 753.414 Z\" fill=\"#000000\" fill-rule=\"evenodd\" fill-opacity=\"1\" /><path clip-path=\"url(#clip190)\" d=\"M28.3562 745.553 L28.3562 739.346 L58.275 728.206 L28.3562 717.066 L28.3562 710.86 L64.0042 724.228 L64.0042 732.185 L28.3562 745.553 Z\" fill=\"#000000\" fill-rule=\"evenodd\" fill-opacity=\"1\" /><polyline clip-path=\"url(#clip192)\" style=\"stroke:#009af9; stroke-linecap:butt; stroke-linejoin:round; stroke-width:8; stroke-opacity:1; fill:none\" points=\"\n",
       "  237.067,1442.62 237.907,1441.54 238.747,1441.77 239.588,1437.07 240.428,1435.3 241.268,1437.14 242.108,1440.84 242.948,1445.72 243.788,1445.06 244.628,1442.84 \n",
       "  245.468,1442.18 246.308,1439.08 247.149,1439.74 247.989,1439.01 248.829,1441.92 249.669,1438.58 250.509,1438.17 251.349,1435.4 252.189,1434.98 253.029,1431.34 \n",
       "  253.869,1436.29 254.709,1432.64 255.55,1429.97 256.39,1431.3 257.23,1444.46 258.07,1443.06 258.91,1440.63 259.75,1439.42 260.59,1436.3 261.43,1437.06 \n",
       "  262.27,1436.63 263.111,1436.19 263.951,1434.5 264.791,1433.89 265.631,1434.05 266.471,1434.38 267.311,1434.78 268.151,1428.9 268.991,1427.39 269.831,1428.9 \n",
       "  270.672,1431.02 271.512,1430.88 272.352,1431.1 273.192,1414.46 274.032,1420.12 274.872,1413.26 275.712,1415.89 276.552,1419.19 277.392,1421.23 278.233,1423.84 \n",
       "  279.073,1421.67 279.913,1416.21 280.753,1421.12 281.593,1412.57 282.433,1378.99 283.273,1385.78 284.113,1334.89 284.953,1263.62 285.794,1292.34 286.634,1295.7 \n",
       "  287.474,1306.56 288.314,1290.59 289.154,1284.6 289.994,1286.92 290.834,1234.29 291.674,1166.41 292.514,1058.17 293.355,1012.27 294.195,750.217 295.035,816.791 \n",
       "  295.875,860.55 296.715,920.961 297.555,1002.77 298.395,1001.2 299.235,961.84 300.075,981.311 300.915,1019.57 301.756,1001.21 302.596,967.77 303.436,945.733 \n",
       "  304.276,938.374 305.116,847.686 305.956,849.027 306.796,833.299 307.636,826.455 308.476,855.18 309.317,811.824 310.157,872.895 310.997,911.311 311.837,897.978 \n",
       "  312.677,909.432 313.517,926.385 314.357,895.721 315.197,898.101 316.037,896.685 316.878,914.162 317.718,941.47 318.558,905.2 319.398,967.033 320.238,1127.02 \n",
       "  321.078,1085.77 321.918,1046.81 322.758,1030.56 323.598,1019.6 324.439,1009.62 325.279,933.991 326.119,964.963 326.959,958.783 327.799,964.606 328.639,959.736 \n",
       "  329.479,973.469 330.319,961.502 331.159,991.547 332,979.429 332.84,959.149 333.68,946.007 334.52,947.414 335.36,947.346 336.2,935.581 337.04,922.808 \n",
       "  337.88,922.932 338.72,916.706 339.561,914.551 340.401,904.621 341.241,907.548 342.081,849.447 342.921,880.774 343.761,876.699 344.601,853.286 345.441,882.49 \n",
       "  346.281,879.744 347.121,898.906 347.962,884.162 348.802,872.32 349.642,863.272 350.482,869.842 351.322,852.946 352.162,850.115 353.002,810.159 353.842,823.224 \n",
       "  354.682,818.87 355.523,795.018 356.363,770.074 357.203,785.926 358.043,787.762 358.883,782.4 359.723,763.794 360.563,775.387 361.403,763.944 362.243,757.727 \n",
       "  363.084,731.481 363.924,697.858 364.764,728.464 365.604,653.664 366.444,525.666 367.284,507.563 368.124,520.797 368.964,310.578 369.804,359.984 370.645,354.414 \n",
       "  371.485,417.576 372.325,373.159 373.165,383.049 374.005,395.949 374.845,379.733 375.685,405.987 376.525,439.145 377.365,422.852 378.206,371.643 379.046,332.178 \n",
       "  379.886,273.715 380.726,236.322 381.566,234.461 382.406,179.345 383.246,301.62 384.086,279.542 384.926,249.876 385.767,345.538 386.607,423.18 387.447,353.479 \n",
       "  388.287,336.114 389.127,364.251 389.967,378.027 390.807,405.151 391.647,423.002 392.487,437.722 393.327,448.914 394.168,377.064 395.008,390.156 395.848,372.073 \n",
       "  396.688,390.529 397.528,385.61 398.368,398.99 399.208,451.668 400.048,432.843 400.888,500.963 401.729,515.15 402.569,565.922 403.409,636.817 404.249,547.913 \n",
       "  405.089,404.436 405.929,329.604 406.769,308.66 407.609,193.983 408.449,218.527 409.29,278.472 410.13,313.526 410.97,319.503 411.81,364.445 412.65,335.333 \n",
       "  413.49,307.113 414.33,295.343 415.17,352.34 416.01,379.879 416.851,403.599 417.691,409.963 418.531,391.694 419.371,427.89 420.211,417.871 421.051,431.225 \n",
       "  421.891,411.171 422.731,416.329 423.571,424.263 424.412,430.689 425.252,527.582 426.092,591.407 426.932,857.862 427.772,742.502 428.612,790.431 429.452,775.314 \n",
       "  430.292,770.36 431.132,627.845 431.973,648.936 432.813,644.081 433.653,672.819 434.493,670.206 435.333,765.596 436.173,802.994 437.013,768.915 437.853,855.764 \n",
       "  438.693,787.027 439.533,800.718 440.374,802.996 441.214,804.916 442.054,832.552 442.894,910.514 443.734,936.163 444.574,868.823 445.414,875.129 446.254,830.219 \n",
       "  447.094,817.268 447.935,777.646 448.775,758.907 449.615,783.499 450.455,774.444 451.295,762.546 452.135,774.966 452.975,768.988 453.815,714.801 454.655,732.18 \n",
       "  455.496,754.194 456.336,737.713 457.176,752.262 458.016,757.625 458.856,734.216 459.696,748.106 460.536,756.54 461.376,765.405 462.216,809.335 463.057,818.076 \n",
       "  463.897,825.243 464.737,851.858 465.577,814.303 466.417,830.342 467.257,872.057 468.097,891.194 468.937,859.657 469.777,867.828 470.618,838.318 471.458,864.258 \n",
       "  472.298,834.23 473.138,857.374 473.978,867.692 474.818,815.108 475.658,800.41 476.498,787.858 477.338,761.704 478.179,764.962 479.019,782.929 479.859,801.157 \n",
       "  480.699,756.205 481.539,717.061 482.379,659.497 483.219,577.745 484.059,642.69 484.899,615.035 485.739,597.599 486.58,572.67 487.42,592.992 488.26,603.451 \n",
       "  489.1,585.996 489.94,618.534 490.78,680.875 491.62,683.705 492.46,628.437 493.3,625.744 494.141,613.712 494.981,638.234 495.821,647.924 496.661,660.857 \n",
       "  497.501,656.95 498.341,662.435 499.181,665.754 500.021,653.581 500.861,651.952 501.702,641.269 502.542,649.182 503.382,640.549 504.222,670.66 505.062,718.415 \n",
       "  505.902,786.115 506.742,745.096 507.582,778.626 508.422,770.398 509.263,751.265 510.103,790.983 510.943,761.861 511.783,761.041 512.623,741.275 513.463,730.459 \n",
       "  514.303,750.646 515.143,729.026 515.983,756.497 516.824,783.591 517.664,796.268 518.504,785.125 519.344,784.688 520.184,807.679 521.024,807.505 521.864,851.387 \n",
       "  522.704,834.75 523.544,820.46 524.385,819.305 525.225,820.217 526.065,832.189 526.905,826.767 527.745,824.562 528.585,799.327 529.425,781.714 530.265,788.977 \n",
       "  531.105,786.239 531.945,756.753 532.786,774.05 533.626,744.968 534.466,745.221 535.306,751.348 536.146,770.312 536.986,772.991 537.826,784.858 538.666,768.155 \n",
       "  539.506,787.04 540.347,794.655 541.187,782.674 542.027,758.776 542.867,758.867 543.707,781.275 544.547,782.464 545.387,786.969 546.227,792.867 547.067,790.874 \n",
       "  547.908,822.822 548.748,849.705 549.588,833.158 550.428,840.021 551.268,830.91 552.108,828.141 552.948,838.273 553.788,863.858 554.628,848.32 555.469,890.2 \n",
       "  556.309,879.185 557.149,836.297 557.989,869.587 558.829,911.517 559.669,1016.51 560.509,1020.18 561.349,1037.77 562.189,1047.63 563.03,1029.59 563.87,1124.28 \n",
       "  564.71,1067.44 565.55,1083.14 566.39,1015.08 567.23,996.843 568.07,943.453 568.91,990.66 569.75,979.425 570.591,994.86 571.431,975.259 572.271,970.821 \n",
       "  573.111,933.351 573.951,898.481 574.791,904.009 575.631,956.757 576.471,960.301 577.311,960.973 578.151,989.824 578.992,960.913 579.832,988.322 580.672,996.431 \n",
       "  581.512,1001.51 582.352,958.852 583.192,969.397 584.032,969.4 584.872,969.035 585.712,945.729 586.553,935.379 587.393,911.899 588.233,920.509 589.073,907.51 \n",
       "  589.913,905.367 590.753,893.588 591.593,874.151 592.433,851.05 593.273,855.723 594.114,868.977 594.954,895.624 595.794,885.757 596.634,912.737 597.474,869.157 \n",
       "  598.314,877.161 599.154,892.672 599.994,889.298 600.834,905.18 601.675,905.678 602.515,914.661 603.355,923.157 604.195,928.428 605.035,905.989 605.875,905.355 \n",
       "  606.715,903.315 607.555,886.375 608.395,881.81 609.236,883.188 610.076,890.122 610.916,885.1 611.756,863.772 612.596,863.626 613.436,854.945 614.276,866.787 \n",
       "  615.116,872.753 615.956,855.016 616.797,885.209 617.637,866.22 618.477,869.375 619.317,854.106 620.157,877.553 620.997,873.893 621.837,878.332 622.677,875.16 \n",
       "  623.517,859.241 624.357,860.849 625.198,866.547 626.038,871.694 626.878,909.609 627.718,935.698 628.558,937.495 629.398,920.496 630.238,939.395 631.078,934.341 \n",
       "  631.918,889.159 632.759,884.118 633.599,897.792 634.439,878.238 635.279,904.737 636.119,901.725 636.959,897.324 637.799,907.569 638.639,885.79 639.479,889.636 \n",
       "  640.32,888.058 641.16,878.021 642,883.445 642.84,888.106 643.68,882.414 644.52,905.784 645.36,920.141 646.2,917.157 647.04,916.331 647.881,923.44 \n",
       "  648.721,936.291 649.561,945.162 650.401,955.856 651.241,986.243 652.081,971.382 652.921,954.13 653.761,969.63 654.601,968.292 655.442,978.544 656.282,992.521 \n",
       "  657.122,996.748 657.962,994.923 658.802,993.074 659.642,998.374 660.482,1019.09 661.322,983.656 662.162,1000.27 663.003,1032.49 663.843,1019.05 664.683,1019.73 \n",
       "  665.523,1007.09 666.363,994.254 667.203,986.304 668.043,986.683 668.883,985.96 669.723,995.695 670.563,1008.99 671.404,1015.25 672.244,1017.79 673.084,1042.82 \n",
       "  673.924,1041.28 674.764,1037.94 675.604,1075.08 676.444,1080.23 677.284,1059.14 678.124,1042.89 678.965,1062.99 679.805,1023.43 680.645,1003.99 681.485,967.527 \n",
       "  682.325,995.411 683.165,986.215 684.005,970.319 684.845,988.832 685.685,962.251 686.526,971.823 687.366,960.703 688.206,964.067 689.046,961.968 689.886,977.623 \n",
       "  690.726,954.38 691.566,952.403 692.406,953.44 693.246,945.115 694.087,940.236 694.927,938.708 695.767,944.559 696.607,937.807 697.447,957.055 698.287,950.838 \n",
       "  699.127,910.713 699.967,865.592 700.807,881.879 701.648,874.914 702.488,919.432 703.328,943.62 704.168,939.52 705.008,920.041 705.848,939.992 706.688,924.326 \n",
       "  707.528,916.273 708.368,909.902 709.209,917.057 710.049,918.584 710.889,918.369 711.729,920.867 712.569,916.107 713.409,918.635 714.249,925.371 715.089,909.617 \n",
       "  715.929,903.566 716.769,926.542 717.61,922.814 718.45,907.897 719.29,895.315 720.13,903.497 720.97,888.287 721.81,882.364 722.65,871.171 723.49,857.148 \n",
       "  724.33,852.095 725.171,851.705 726.011,866.605 726.851,862.805 727.691,876.652 728.531,877.202 729.371,877.796 730.211,870.552 731.051,874.455 731.891,890.321 \n",
       "  732.732,902.908 733.572,896.884 734.412,906.2 735.252,903.469 736.092,902.079 736.932,908.116 737.772,880.71 738.612,874.296 739.452,883.234 740.293,880.514 \n",
       "  741.133,887.282 741.973,871.195 742.813,862.112 743.653,867.178 744.493,866.963 745.333,857.065 746.173,834.161 747.013,833.836 747.854,821.816 748.694,806.603 \n",
       "  749.534,780.305 750.374,764.24 751.214,735.048 752.054,706.96 752.894,697.481 753.734,742.604 754.574,788.912 755.415,797.145 756.255,781.977 757.095,751.433 \n",
       "  757.935,733.599 758.775,727.127 759.615,741.575 760.455,743.875 761.295,730.823 762.135,756.976 762.975,721.437 763.816,713.957 764.656,681.472 765.496,692.391 \n",
       "  766.336,666.216 767.176,706.771 768.016,654.987 768.856,692.975 769.696,707.567 770.536,725.858 771.377,724.475 772.217,714.388 773.057,682.398 773.897,679.91 \n",
       "  774.737,691.99 775.577,638.561 776.417,647.529 777.257,664.128 778.097,646.74 778.938,668.975 779.778,612.04 780.618,625.451 781.458,635.086 782.298,614.413 \n",
       "  783.138,550.42 783.978,526.444 784.818,521.779 785.658,510.99 786.499,536.5 787.339,551.013 788.179,546.38 789.019,544.623 789.859,532.952 790.699,544.651 \n",
       "  791.539,606.389 792.379,627.846 793.219,630.997 794.06,634.584 794.9,579.543 795.74,566.011 796.58,558.366 797.42,562.491 798.26,555.712 799.1,525.673 \n",
       "  799.94,504.621 800.78,495 801.621,500.248 802.461,469.945 803.301,483.53 804.141,481.107 804.981,479.525 805.821,442.594 806.661,429.311 807.501,442.896 \n",
       "  808.341,456.232 809.181,450.187 810.022,455.796 810.862,492.854 811.702,460.136 812.542,433.882 813.382,431.428 814.222,436.238 815.062,457.714 815.902,451.441 \n",
       "  816.742,457.592 817.583,457.844 818.423,511.382 819.263,511.571 820.103,549.682 820.943,523.519 821.783,567.139 822.623,530.692 823.463,530.723 824.303,539.513 \n",
       "  825.144,593.771 825.984,580.488 826.824,599.511 827.664,592.99 828.504,621.882 829.344,587.845 830.184,582.115 831.024,539.401 831.864,516.282 832.705,521.921 \n",
       "  833.545,528.828 834.385,540.806 835.225,538.338 836.065,520.231 836.905,537.714 837.745,522.62 838.585,538.839 839.425,527.075 840.266,530.919 841.106,554.588 \n",
       "  841.946,556.809 842.786,551.801 843.626,502.644 844.466,526.486 845.306,512.159 846.146,474.682 846.986,491.609 847.827,509.257 848.667,498.206 849.507,492.643 \n",
       "  850.347,483.271 851.187,424.162 852.027,407.975 852.867,412.948 853.707,417.025 854.547,399.237 855.387,411.243 856.228,414.825 857.068,407.671 857.908,392.529 \n",
       "  858.748,382.819 859.588,404.292 860.428,408.547 861.268,404.489 862.108,404.002 862.948,385.337 863.789,396.707 864.629,394.523 865.469,401.039 866.309,388.905 \n",
       "  867.149,369.359 867.989,357.362 868.829,346.336 869.669,342.751 870.509,377.183 871.35,368.1 872.19,363.52 873.03,360.128 873.87,416.002 874.71,487.851 \n",
       "  875.55,572.809 876.39,574.571 877.23,562.935 878.07,618.574 878.911,595.871 879.751,579.686 880.591,568.414 881.431,555.834 882.271,542.425 883.111,499.818 \n",
       "  883.951,527.061 884.791,497.119 885.631,528.522 886.472,529.534 887.312,555.284 888.152,551.679 888.992,544.281 889.832,555.399 890.672,533.474 891.512,533.343 \n",
       "  892.352,555.342 893.192,546.153 894.033,514.795 894.873,491.56 895.713,499.02 896.553,463.639 897.393,523.412 898.233,531.683 899.073,503.303 899.913,488.439 \n",
       "  900.753,498.425 901.593,487.849 902.434,492.69 903.274,488.25 904.114,504.81 904.954,499.336 905.794,490.289 906.634,486.639 907.474,458.888 908.314,458.796 \n",
       "  909.154,487.222 909.995,471.124 910.835,455.955 911.675,464.444 912.515,453.196 913.355,411.578 914.195,433.145 915.035,457.934 915.875,474.166 916.715,494.688 \n",
       "  917.556,464.649 918.396,447.268 919.236,423.569 920.076,431.163 920.916,441.562 921.756,434.977 922.596,445.003 923.436,410.174 924.276,423.073 925.117,459.634 \n",
       "  925.957,497.24 926.797,584.28 927.637,539.856 928.477,558.387 929.317,571.94 930.157,558.777 930.997,559.655 931.837,595.811 932.678,645.888 933.518,625.404 \n",
       "  934.358,588.17 935.198,582.339 936.038,499.995 936.878,497.749 937.718,483.141 938.558,496.76 939.398,483.503 940.239,474.875 941.079,473.054 941.919,487.471 \n",
       "  942.759,587.318 943.599,553.245 944.439,519.358 945.279,522.946 946.119,542.411 946.959,541.756 947.799,538.062 948.64,541.656 949.48,564.324 950.32,612.593 \n",
       "  951.16,558.484 952,540.585 952.84,558.159 953.68,539.675 954.52,538.459 955.36,555.54 956.201,579.387 957.041,591.417 957.881,590.584 958.721,605.43 \n",
       "  959.561,615.956 960.401,614.897 961.241,623.127 962.081,603.436 962.921,596.779 963.762,624.052 964.602,642.104 965.442,601.703 966.282,599.728 967.122,605.296 \n",
       "  967.962,608.936 968.802,581.793 969.642,593.556 970.482,558.174 971.323,515.972 972.163,501.751 973.003,496.422 973.843,507.041 974.683,493.424 975.523,483.532 \n",
       "  976.363,452.058 977.203,472.69 978.043,473.053 978.884,475.829 979.724,474.941 980.564,464.19 981.404,489.233 982.244,511.735 983.084,515.927 983.924,469.993 \n",
       "  984.764,428.744 985.604,430.273 986.445,430.993 987.285,429.452 988.125,393.369 988.965,397.755 989.805,416.497 990.645,434.79 991.485,386.488 992.325,384.794 \n",
       "  993.165,401.798 994.005,426.049 994.846,413.994 995.686,396.783 996.526,398.167 997.366,398.787 998.206,412.926 999.046,386.772 999.886,391.228 1000.73,394.924 \n",
       "  1001.57,422.836 1002.41,402.207 1003.25,397.642 1004.09,398.039 1004.93,407.153 1005.77,425.879 1006.61,410.747 1007.45,429.349 1008.29,441.059 1009.13,485.142 \n",
       "  1009.97,471.548 1010.81,440.958 1011.65,459.016 1012.49,481.237 1013.33,487.62 1014.17,505.597 1015.01,512.816 1015.85,493.489 1016.69,488.699 1017.53,464.828 \n",
       "  1018.37,466.226 1019.21,490.985 1020.05,485.085 1020.89,464.724 1021.73,423.798 1022.57,430.308 1023.41,408.243 1024.25,416.667 1025.09,422.834 1025.93,424.443 \n",
       "  1026.77,419.945 1027.61,437.463 1028.45,414.062 1029.29,417.897 1030.13,405.085 1030.97,395.531 1031.81,399.902 1032.65,404.084 1033.49,405.299 1034.33,405.044 \n",
       "  1035.17,402.042 1036.01,409.286 1036.85,423.073 1037.69,413.394 1038.53,413.017 1039.37,349.901 1040.21,411.158 1041.05,397.798 1041.89,422.698 1042.73,411.657 \n",
       "  1043.57,399.229 1044.41,408.627 1045.25,394.746 1046.09,397.377 1046.93,397.131 1047.77,386.185 1048.61,336.722 1049.45,324.382 1050.29,328.069 1051.13,316.648 \n",
       "  1051.97,307.898 1052.81,348.628 1053.65,366.003 1054.49,347.093 1055.33,338.771 1056.17,371.778 1057.01,338.527 1057.85,368.48 1058.69,360.012 1059.53,355.033 \n",
       "  1060.37,337.228 1061.21,340.986 1062.05,329.542 1062.89,338.857 1063.73,328.238 1064.57,340.61 1065.41,311.701 1066.25,277.547 1067.09,274.425 1067.94,296.446 \n",
       "  1068.78,290.961 1069.62,289.565 1070.46,281.697 1071.3,264.405 1072.14,247.297 1072.98,243.155 1073.82,273.051 1074.66,237.151 1075.5,380.688 1076.34,353.931 \n",
       "  1077.18,353.659 1078.02,348.948 1078.86,293.974 1079.7,107.846 1080.54,87.9763 1081.38,90.7485 1082.22,93.8114 1083.06,127.843 1083.9,134.629 1084.74,120.064 \n",
       "  1085.58,130.836 1086.42,157.019 1087.26,150.645 1088.1,170.133 1088.94,207.519 1089.78,236.654 1090.62,215.165 1091.46,229.947 1092.3,269.286 1093.14,204.822 \n",
       "  1093.98,170.587 1094.82,239.501 1095.66,204.73 1096.5,202.988 1097.34,208.13 1098.18,209.775 1099.02,211.338 1099.86,189.714 1100.7,184.598 1101.54,172.676 \n",
       "  1102.38,181.76 1103.22,190.29 1104.06,187.53 1104.9,201.806 1105.74,177.309 1106.58,180.395 1107.42,183.089 1108.26,206.097 1109.1,235.848 1109.94,218.352 \n",
       "  1110.78,204.53 1111.62,202.563 1112.46,206.551 1113.3,214.933 1114.14,230.881 1114.98,220.019 1115.82,227.587 1116.66,264.105 1117.5,246.04 1118.34,236.531 \n",
       "  1119.18,233.695 1120.02,216.866 1120.86,223.795 1121.7,223.097 1122.54,197.873 1123.38,188.345 1124.22,165.81 1125.06,178.457 1125.9,174.467 1126.74,148.757 \n",
       "  1127.58,158.347 1128.42,180.493 1129.26,191.969 1130.1,192.715 1130.94,212.333 1131.78,199.479 1132.62,208.493 1133.46,199.785 1134.3,300.7 1135.14,256.739 \n",
       "  1135.98,239.548 1136.82,264.882 1137.66,247.849 1138.5,253.846 1139.34,251.909 1140.18,288.182 1141.02,302.755 1141.86,276.855 1142.7,274.741 1143.54,282.165 \n",
       "  1144.39,275.58 1145.23,262.289 1146.07,268.235 1146.91,260.747 1147.75,268.839 1148.59,268.375 1149.43,287.819 1150.27,277.034 1151.11,259.9 1151.95,264.57 \n",
       "  1152.79,255.797 1153.63,284.62 1154.47,298.717 1155.31,360.042 1156.15,376.367 1156.99,371.616 1157.83,390.064 1158.67,419.785 1159.51,432.69 1160.35,427.759 \n",
       "  1161.19,427.54 1162.03,404.435 1162.87,391.167 1163.71,412.082 1164.55,426.161 1165.39,489.374 1166.23,472.297 1167.07,489.498 1167.91,483.742 1168.75,451.702 \n",
       "  1169.59,414.295 1170.43,419.339 1171.27,418.225 1172.11,420.074 1172.95,417.257 1173.79,409.252 1174.63,396.683 1175.47,411.878 1176.31,412.855 1177.15,426.628 \n",
       "  1177.99,411.054 1178.83,412.318 1179.67,443.966 1180.51,423.786 1181.35,392.847 1182.19,425.1 1183.03,409.843 1183.87,426.73 1184.71,408.049 1185.55,373.932 \n",
       "  1186.39,377.222 1187.23,411.712 1188.07,412.603 1188.91,424.933 1189.75,449.062 1190.59,437.898 1191.43,426.324 1192.27,434.242 1193.11,398.315 1193.95,398.551 \n",
       "  1194.79,396.931 1195.63,423.627 1196.47,529.345 1197.31,495.03 1198.15,492.896 1198.99,492.839 1199.83,484.607 1200.67,487.254 1201.51,482.468 1202.35,487.348 \n",
       "  1203.19,511.678 1204.03,528.129 1204.87,518.061 1205.71,535.213 1206.55,500.55 1207.39,477.578 1208.23,470.597 1209.07,489.098 1209.91,441.542 1210.75,437.493 \n",
       "  1211.59,435.717 1212.43,442.699 1213.27,412.604 1214.11,431.801 1214.95,427.684 1215.79,433.566 1216.63,437.796 1217.47,428.814 1218.31,450.529 1219.15,476.877 \n",
       "  1219.99,485.721 1220.83,457.512 1221.68,468.162 1222.52,468.78 1223.36,456.303 1224.2,443.621 1225.04,428.39 1225.88,464.847 1226.72,477.871 1227.56,504.194 \n",
       "  1228.4,680.654 1229.24,683.766 1230.08,613.049 1230.92,602.652 1231.76,606.485 1232.6,608.282 1233.44,623.781 1234.28,654.002 1235.12,649.434 1235.96,652.912 \n",
       "  1236.8,693.098 1237.64,681.158 1238.48,657.129 1239.32,623.376 1240.16,622.791 1241,614.057 1241.84,610.481 1242.68,632.096 1243.52,626.036 1244.36,622.599 \n",
       "  1245.2,653.403 1246.04,603.77 1246.88,610.42 1247.72,623.893 1248.56,625.84 1249.4,627.549 1250.24,641.073 1251.08,660.934 1251.92,669.76 1252.76,686.996 \n",
       "  1253.6,664.449 1254.44,681.461 1255.28,683.849 1256.12,686.212 1256.96,677.357 1257.8,672.421 1258.64,671.214 1259.48,662.699 1260.32,666.561 1261.16,677.91 \n",
       "  1262,668.46 1262.84,644.82 1263.68,679.661 1264.52,682.629 1265.36,689.616 1266.2,732.136 1267.04,749.99 1267.88,744.499 1268.72,741.549 1269.56,536.599 \n",
       "  1270.4,625.928 1271.24,643.315 1272.08,662.849 1272.92,662.984 1273.76,691.058 1274.6,695.295 1275.44,649.072 1276.28,650.033 1277.12,640.873 1277.96,633.817 \n",
       "  1278.8,661.782 1279.64,670.35 1280.48,666.091 1281.32,694.802 1282.16,721.068 1283,702.181 1283.84,711.394 1284.68,689.756 1285.52,677.53 1286.36,678.481 \n",
       "  1287.2,678.092 1288.04,673.608 1288.88,662.243 1289.72,675.006 1290.56,682.935 1291.4,683.149 1292.24,693.947 1293.08,703.66 1293.92,724.712 1294.76,722.664 \n",
       "  1295.6,702.757 1296.44,680.187 1297.28,681.188 1298.12,680.594 1298.97,679.041 1299.81,669.871 1300.65,655.395 1301.49,655.319 1302.33,639.315 1303.17,628.525 \n",
       "  1304.01,642.105 1304.85,634.766 1305.69,634.258 1306.53,632.175 1307.37,600.095 1308.21,592.525 1309.05,602.454 1309.89,583.745 1310.73,583.711 1311.57,586.474 \n",
       "  1312.41,597.657 1313.25,591.171 1314.09,582.236 1314.93,574.466 1315.77,563.797 1316.61,580.598 1317.45,563.605 1318.29,558.433 1319.13,548.194 1319.97,539.987 \n",
       "  1320.81,544.832 1321.65,553.953 1322.49,544.541 1323.33,550.704 1324.17,587.531 1325.01,599.522 1325.85,598.444 1326.69,638.254 1327.53,641.237 1328.37,642.247 \n",
       "  1329.21,655.626 1330.05,681.185 1330.89,659.034 1331.73,650.062 1332.57,669.218 1333.41,641.79 1334.25,629.612 1335.09,628.998 1335.93,628.964 1336.77,617.43 \n",
       "  1337.61,601.568 1338.45,606.816 1339.29,634.286 1340.13,607.055 1340.97,593.429 1341.81,608.379 1342.65,585.079 1343.49,568.787 1344.33,576.624 1345.17,575.952 \n",
       "  1346.01,577.232 1346.85,568.99 1347.69,572.951 1348.53,579.952 1349.37,577.807 1350.21,553.105 1351.05,559.965 1351.89,552.475 1352.73,568.931 1353.57,545.821 \n",
       "  1354.41,533.074 1355.25,536.541 1356.09,530.143 1356.93,535.439 1357.77,535.159 1358.61,545.837 1359.45,571.356 1360.29,602.161 1361.13,623.624 1361.97,631.838 \n",
       "  1362.81,625.081 1363.65,585.465 1364.49,601.379 1365.33,623.306 1366.17,589.212 1367.01,598.814 1367.85,612.534 1368.69,617.555 1369.53,611.14 1370.37,619.105 \n",
       "  1371.21,655.695 1372.05,634.677 1372.89,643.009 1373.73,659.418 1374.57,675.705 1375.42,645.076 1376.26,669.798 1377.1,650.591 1377.94,651.192 1378.78,728.414 \n",
       "  1379.62,682.978 1380.46,679.212 1381.3,660.605 1382.14,670.177 1382.98,654.514 1383.82,626.214 1384.66,620.955 1385.5,618.054 1386.34,618.84 1387.18,582.614 \n",
       "  1388.02,574.151 1388.86,587.233 1389.7,562.055 1390.54,554.584 1391.38,597.787 1392.22,581.395 1393.06,549.798 1393.9,468.447 1394.74,477.391 1395.58,489.683 \n",
       "  1396.42,507.231 1397.26,469.411 1398.1,485.235 1398.94,489.676 1399.78,482.548 1400.62,495.865 1401.46,485.854 1402.3,475.041 1403.14,483.956 1403.98,492.786 \n",
       "  1404.82,490.242 1405.66,515.048 1406.5,525.989 1407.34,540.718 1408.18,559.842 1409.02,546.072 1409.86,539.967 1410.7,579.779 1411.54,589.556 1412.38,559.364 \n",
       "  1413.22,558.448 1414.06,612.113 1414.9,575.293 1415.74,583.185 1416.58,587.533 1417.42,566.929 1418.26,561.485 1419.1,542.423 1419.94,531.232 1420.78,585.204 \n",
       "  1421.62,639.236 1422.46,624.825 1423.3,649.905 1424.14,669.021 1424.98,703.084 1425.82,763.016 1426.66,797.225 1427.5,789.83 1428.34,783.386 1429.18,759.825 \n",
       "  1430.02,733.638 1430.86,735.478 1431.7,735.492 1432.54,740.054 1433.38,730.664 1434.22,755.911 1435.06,801.111 1435.9,744.973 1436.74,724.518 1437.58,723.857 \n",
       "  1438.42,724.014 1439.26,708.776 1440.1,687.86 1440.94,702.516 1441.78,692.114 1442.62,685.945 1443.46,677.107 1444.3,701.774 1445.14,726.806 1445.98,753.036 \n",
       "  1446.82,731.126 1447.66,736.365 1448.5,776.864 1449.34,761.654 1450.18,756.868 1451.02,776.438 1451.86,761.927 1452.71,745.896 1453.55,743.129 1454.39,733.08 \n",
       "  1455.23,735.144 1456.07,743.059 1456.91,740.873 1457.75,744.573 1458.59,745.52 1459.43,755.767 1460.27,769.505 1461.11,769.462 1461.95,790.035 1462.79,783.346 \n",
       "  1463.63,755.29 1464.47,750.644 1465.31,740.332 1466.15,729.011 1466.99,725.554 1467.83,723.429 1468.67,719.847 1469.51,724.039 1470.35,727.799 1471.19,715.76 \n",
       "  1472.03,747.438 1472.87,764.766 1473.71,771.345 1474.55,761.011 1475.39,772.322 1476.23,754.06 1477.07,742.62 1477.91,736.975 1478.75,717.264 1479.59,724.019 \n",
       "  1480.43,684.434 1481.27,668.861 1482.11,656.233 1482.95,660.167 1483.79,653.54 1484.63,668.929 1485.47,657.412 1486.31,661.892 1487.15,663.527 1487.99,673.145 \n",
       "  1488.83,652.017 1489.67,613.877 1490.51,609.835 1491.35,621.298 1492.19,589.003 1493.03,569.91 1493.87,585.287 1494.71,596.006 1495.55,623.989 1496.39,627.266 \n",
       "  1497.23,610.279 1498.07,630.241 1498.91,623.674 1499.75,603.477 1500.59,594.649 1501.43,604.323 1502.27,617.681 1503.11,602.78 1503.95,618.816 1504.79,640.966 \n",
       "  1505.63,659.082 1506.47,651.781 1507.31,650.726 1508.15,651.579 1508.99,690.87 1509.83,704.614 1510.67,702.983 1511.51,705.827 1512.35,695.34 1513.19,709.466 \n",
       "  1514.03,707.126 1514.87,700.341 1515.71,669.016 1516.55,676.721 1517.39,702.47 1518.23,723.034 1519.07,723.509 1519.91,703.709 1520.75,724.821 1521.59,699.115 \n",
       "  1522.43,680.053 1523.27,658.486 1524.11,658.962 1524.95,656.232 1525.79,648.406 1526.63,654.877 1527.47,657 1528.31,674.545 1529.15,655.622 1530,658.427 \n",
       "  1530.84,648.445 1531.68,653.9 1532.52,673.438 1533.36,707.784 1534.2,699.712 1535.04,692.412 1535.88,704.774 1536.72,724.337 1537.56,722.57 1538.4,707.683 \n",
       "  1539.24,707.938 1540.08,718.28 1540.92,720.162 1541.76,723.61 1542.6,738.929 1543.44,739.15 1544.28,745.14 1545.12,743.76 1545.96,725.868 1546.8,719.903 \n",
       "  1547.64,741.316 1548.48,738.634 1549.32,755.159 1550.16,800.384 1551,813.687 1551.84,789.332 1552.68,796.045 1553.52,789.485 1554.36,775.216 1555.2,755.986 \n",
       "  1556.04,746.383 1556.88,772.9 1557.72,792.119 1558.56,876.053 1559.4,877.438 1560.24,897.033 1561.08,836.996 1561.92,804.451 1562.76,820.384 1563.6,815.767 \n",
       "  1564.44,791.531 1565.28,795.917 1566.12,752.102 1566.96,763.105 1567.8,768.43 1568.64,759.197 1569.48,740.956 1570.32,780.029 1571.16,770.56 1572,759.267 \n",
       "  1572.84,768.008 1573.68,801.285 1574.52,802.563 1575.36,789.331 1576.2,799.011 1577.04,761.579 1577.88,720.88 1578.72,717.474 1579.56,721.177 1580.4,689.993 \n",
       "  1581.24,704.55 1582.08,711.625 1582.92,706.102 1583.76,694.921 1584.6,710.511 1585.44,703.239 1586.28,685.017 1587.12,705.182 1587.96,696.22 1588.8,720.71 \n",
       "  1589.64,708.536 1590.48,724.804 1591.32,716.465 1592.16,718.733 1593,728.295 1593.84,773.298 1594.68,766.926 1595.52,765.155 1596.36,766.535 1597.2,752.905 \n",
       "  1598.04,749.333 1598.88,769.267 1599.72,773.584 1600.56,775.122 1601.4,781.008 1602.24,801.052 1603.08,806.938 1603.92,805.047 1604.76,787.789 1605.6,817.664 \n",
       "  1606.45,796.039 1607.29,807.35 1608.13,794.574 1608.97,818.161 1609.81,811.926 1610.65,783.47 1611.49,752.385 1612.33,746.92 1613.17,750.905 1614.01,760.665 \n",
       "  1614.85,776.751 1615.69,804.77 1616.53,799.165 1617.37,807.635 1618.21,797.727 1619.05,812.273 1619.89,801.506 1620.73,795.881 1621.57,811.755 1622.41,804.182 \n",
       "  1623.25,801.504 1624.09,804.101 1624.93,809.548 1625.77,808.033 1626.61,810.417 1627.45,810.285 1628.29,813.366 1629.13,815.449 1629.97,825.337 1630.81,839.082 \n",
       "  1631.65,820.245 1632.49,820.193 1633.33,836.223 1634.17,830.51 1635.01,830.985 1635.85,836.583 1636.69,831.052 1637.53,818.575 1638.37,823.702 1639.21,824.326 \n",
       "  1640.05,808.058 1640.89,801.258 1641.73,788.508 1642.57,782.424 1643.41,782.739 1644.25,787.665 1645.09,776.062 1645.93,781.537 1646.77,789.144 1647.61,786.28 \n",
       "  1648.45,799.435 1649.29,777.182 1650.13,763.008 1650.97,755.931 1651.81,760.035 1652.65,747.991 1653.49,745.893 1654.33,753.989 1655.17,753.885 1656.01,752.765 \n",
       "  1656.85,774.252 1657.69,780.188 1658.53,776.494 1659.37,775.931 1660.21,766.753 1661.05,777.416 1661.89,774.019 1662.73,775.723 1663.57,748.058 1664.41,746.797 \n",
       "  1665.25,747.009 1666.09,752.91 1666.93,763.102 1667.77,760.895 1668.61,765.96 1669.45,738.22 1670.29,735.168 1671.13,694.177 1671.97,689.792 1672.81,686.106 \n",
       "  1673.65,678.979 1674.49,677.027 1675.33,681.045 1676.17,689.199 1677.01,674.725 1677.85,704.259 1678.69,709.31 1679.53,701.822 1680.37,692.931 1681.21,694.171 \n",
       "  1682.05,684.835 1682.89,678.73 1683.74,656.028 1684.58,661.286 1685.42,665.938 1686.26,665.399 1687.1,618.929 1687.94,609.433 1688.78,600.708 1689.62,603.491 \n",
       "  1690.46,591.384 1691.3,604.487 1692.14,598.351 1692.98,587.011 1693.82,615.777 1694.66,623.024 1695.5,623.914 1696.34,606.709 1697.18,619.961 1698.02,603.246 \n",
       "  1698.86,610.927 1699.7,609.385 1700.54,596.807 1701.38,636.375 1702.22,650.8 1703.06,645.229 1703.9,670.605 1704.74,663.558 1705.58,635.517 1706.42,629.652 \n",
       "  1707.26,619.788 1708.1,618.064 1708.94,611.951 1709.78,615.12 1710.62,615.588 1711.46,626.17 1712.3,600.813 1713.14,598.999 1713.98,591.686 1714.82,570.108 \n",
       "  1715.66,589.297 1716.5,594.134 1717.34,584.685 1718.18,617.295 1719.02,581.308 1719.86,580.461 1720.7,578.508 1721.54,557.017 1722.38,521.256 1723.22,542.832 \n",
       "  1724.06,550.819 1724.9,577.592 1725.74,637.1 1726.58,642.024 1727.42,669.207 1728.26,654.577 1729.1,645.935 1729.94,663.19 1730.78,660.119 1731.62,624.303 \n",
       "  1732.46,631.462 1733.3,645.662 1734.14,650.719 1734.98,669.055 1735.82,672.78 1736.66,666.045 1737.5,657.809 1738.34,664.674 1739.18,660.159 1740.02,637.179 \n",
       "  1740.86,643.08 1741.7,615.822 1742.54,610.047 1743.38,648.057 1744.22,657.029 1745.06,693.948 1745.9,704.309 1746.74,721.517 1747.58,734.19 1748.42,718.079 \n",
       "  1749.26,697.093 1750.1,714.808 1750.94,727.281 1751.78,712.642 1752.62,707.402 1753.46,722.82 1754.3,706.077 1755.14,703.732 1755.98,701.06 1756.82,702.315 \n",
       "  1757.66,691.659 1758.5,715.244 1759.34,705.61 1760.18,704.573 1761.03,699.327 1761.87,705.607 1762.71,700.42 1763.55,696.243 1764.39,694.421 1765.23,698.525 \n",
       "  1766.07,710.394 1766.91,711.121 1767.75,704.834 1768.59,704.181 1769.43,705.441 1770.27,699.072 1771.11,707.515 1771.95,726.373 1772.79,757.158 1773.63,747.875 \n",
       "  1774.47,737.549 1775.31,720.939 1776.15,717.943 1776.99,718.213 1777.83,715.2 1778.67,701.99 1779.51,701.027 1780.35,695.842 1781.19,693.49 1782.03,703.417 \n",
       "  1782.87,717.16 1783.71,709.794 1784.55,711.56 1785.39,710.093 1786.23,704.942 1787.07,732.206 1787.91,741.436 1788.75,732.562 1789.59,738.062 1790.43,750.538 \n",
       "  1791.27,748.696 1792.11,754.547 1792.95,754.837 1793.79,751.625 1794.63,750.666 1795.47,749.633 1796.31,755.385 1797.15,756.166 1797.99,766.078 1798.83,770.152 \n",
       "  1799.67,772.641 1800.51,794.674 1801.35,824.099 1802.19,759.514 1803.03,647.887 1803.87,674.845 1804.71,662.677 1805.55,651.71 1806.39,721.696 1807.23,768.166 \n",
       "  1808.07,778.824 1808.91,759.522 1809.75,773.346 1810.59,743.134 1811.43,757.816 1812.27,752.224 1813.11,753.574 1813.95,752.959 1814.79,755.62 1815.63,767.862 \n",
       "  1816.47,768.491 1817.31,757.744 1818.15,768.553 1818.99,782.64 1819.83,797.166 1820.67,793.923 1821.51,798.444 1822.35,812.738 1823.19,820.477 1824.03,846.317 \n",
       "  1824.87,809.818 1825.71,823.323 1826.55,817.665 1827.39,834.554 1828.23,817.046 1829.07,816.701 1829.91,834.906 1830.75,826.684 1831.59,827.503 1832.43,827.24 \n",
       "  1833.27,818.341 1834.11,818.904 1834.95,829.395 1835.79,835.306 1836.63,831.516 1837.48,823.179 1838.32,821.391 1839.16,817.07 1840,787.088 1840.84,779.773 \n",
       "  1841.68,790.489 1842.52,806.215 1843.36,853.231 1844.2,840.221 1845.04,837.73 1845.88,847.185 1846.72,844.366 1847.56,849.43 1848.4,851.89 1849.24,859.553 \n",
       "  1850.08,851.701 1850.92,843.842 1851.76,862.443 1852.6,882.931 1853.44,873.66 1854.28,875.623 1855.12,885.863 1855.96,881.652 1856.8,901.654 1857.64,911.266 \n",
       "  1858.48,933.639 1859.32,973.874 1860.16,996.416 1861,986.776 1861.84,953.098 1862.68,945.847 1863.52,962.951 1864.36,967.794 1865.2,974.156 1866.04,987.378 \n",
       "  1866.88,1055.32 1867.72,1100.6 1868.56,1079.85 1869.4,1152.63 1870.24,1137.01 1871.08,1107.38 1871.92,1130.91 1872.76,1084.87 1873.6,1063.84 1874.44,1057.96 \n",
       "  1875.28,1072.17 1876.12,1068.66 1876.96,1074.32 1877.8,1077.28 1878.64,1098.42 1879.48,1083.52 1880.32,1069.18 1881.16,1082.04 1882,1078.28 1882.84,1067.9 \n",
       "  1883.68,1057.79 1884.52,1043.67 1885.36,1053.3 1886.2,1071.75 1887.04,1078.51 1887.88,1076.6 1888.72,1072.81 1889.56,1060.57 1890.4,1060.5 1891.24,1072.09 \n",
       "  1892.08,1064.24 1892.92,1063.08 1893.76,1074.82 1894.6,1074.98 1895.44,1100.14 1896.28,1099.88 1897.12,1105.53 1897.96,1103.54 1898.8,1094.09 1899.64,1085.6 \n",
       "  1900.48,1084.08 1901.32,1076.59 1902.16,1076 1903,1076.79 1903.84,1094.72 1904.68,1090.45 1905.52,1095.43 1906.36,1096.7 1907.2,1093.16 1908.04,1092.06 \n",
       "  1908.88,1090.68 1909.72,1091.38 1910.56,1081.64 1911.4,1087.41 1912.24,1084.67 1913.08,1082.43 1913.92,1065.5 1914.77,1061.37 1915.61,1069.48 1916.45,1096.16 \n",
       "  1917.29,1089.34 1918.13,1092.57 1918.97,1101.35 1919.81,1099.72 1920.65,1094.05 1921.49,1091.98 1922.33,1101.1 1923.17,1099.21 1924.01,1101.86 1924.85,1100.01 \n",
       "  1925.69,1111.27 1926.53,1140.9 1927.37,1134.96 1928.21,1139.21 1929.05,1151.89 1929.89,1155.42 1930.73,1139.41 1931.57,1121.35 1932.41,1131.85 1933.25,1128.49 \n",
       "  1934.09,1127.73 1934.93,1130.28 1935.77,1130.46 1936.61,1132.43 1937.45,1136.89 1938.29,1129.67 1939.13,1123.2 1939.97,1126.05 1940.81,1121.97 1941.65,1107.85 \n",
       "  1942.49,1100.81 1943.33,1098.3 1944.17,1096.31 1945.01,1079.67 1945.85,1081.05 1946.69,1088.18 1947.53,1094.9 1948.37,1091.96 1949.21,1088.34 1950.05,1092.29 \n",
       "  1950.89,1087.21 1951.73,1113.45 1952.57,1130.44 1953.41,1129.04 1954.25,1124.99 1955.09,1121.91 1955.93,1122.26 1956.77,1116.67 1957.61,1117.94 1958.45,1123.19 \n",
       "  1959.29,1137.97 1960.13,1135.67 1960.97,1135.37 1961.81,1134.02 1962.65,1127.58 1963.49,1129.42 1964.33,1131.72 1965.17,1126.92 1966.01,1130.75 1966.85,1129.05 \n",
       "  1967.69,1127.93 1968.53,1123.72 1969.37,1118.62 1970.21,1115.93 1971.05,1106.34 1971.89,1119.9 1972.73,1117.08 1973.57,1148.67 1974.41,1140.95 1975.25,1147.52 \n",
       "  1976.09,1141.52 1976.93,1128.49 1977.77,1140.46 1978.61,1139.68 1979.45,1140.21 1980.29,1143.27 1981.13,1142 1981.97,1141.17 1982.81,1134.03 1983.65,1139.62 \n",
       "  1984.49,1144.4 1985.33,1149.9 1986.17,1140.98 1987.01,1147.65 1987.85,1163.07 1988.69,1169.73 1989.53,1170.38 1990.37,1167.9 1991.21,1188.73 1992.06,1210.52 \n",
       "  1992.9,1202.63 1993.74,1232.66 1994.58,1233.73 1995.42,1225.37 1996.26,1210.02 1997.1,1228.39 1997.94,1264.32 1998.78,1288 1999.62,1299.63 2000.46,1282.54 \n",
       "  2001.3,1296.74 2002.14,1288.72 2002.98,1281.06 2003.82,1284.28 2004.66,1288.72 2005.5,1283.72 2006.34,1306.36 2007.18,1306.52 2008.02,1293.39 2008.86,1269.05 \n",
       "  2009.7,1246.94 2010.54,1264.35 2011.38,1283.28 2012.22,1277.41 2013.06,1282.42 2013.9,1284.6 2014.74,1276.65 2015.58,1279.2 2016.42,1284.42 2017.26,1283.43 \n",
       "  2018.1,1286.46 2018.94,1306.96 2019.78,1301.68 2020.62,1316.24 2021.46,1304.04 2022.3,1310.31 2023.14,1284.51 2023.98,1281.55 2024.82,1262.21 2025.66,1263.64 \n",
       "  2026.5,1274.79 2027.34,1259.66 2028.18,1259.63 2029.02,1261.97 2029.86,1259.92 2030.7,1248.37 2031.54,1243.21 2032.38,1231.26 2033.22,1241.94 2034.06,1254.85 \n",
       "  2034.9,1260.17 2035.74,1254.97 2036.58,1251.85 2037.42,1259.12 2038.26,1245.7 2039.1,1237.73 2039.94,1237.15 2040.78,1241.85 2041.62,1227.97 2042.46,1222.57 \n",
       "  2043.3,1223.36 2044.14,1211.53 2044.98,1209.84 2045.82,1207.44 2046.66,1203.83 2047.5,1203.29 2048.34,1213.17 2049.18,1204.39 2050.02,1199.33 2050.86,1202.6 \n",
       "  2051.7,1185.32 2052.54,1177.94 2053.38,1175.12 2054.22,1181.3 2055.06,1167.06 2055.9,1173.8 2056.74,1194.99 2057.58,1192.33 2058.42,1211.78 2059.26,1200.28 \n",
       "  2060.1,1197.36 2060.94,1218.02 2061.78,1228.09 2062.62,1226.65 2063.46,1229.51 2064.3,1226.92 2065.14,1216.11 2065.98,1219.65 2066.82,1224.45 2067.66,1248.23 \n",
       "  2068.5,1236.61 2069.35,1241.4 2070.19,1217.92 2071.03,1233.67 2071.87,1236.92 2072.71,1221.93 2073.55,1216.69 2074.39,1218.7 2075.23,1222.19 2076.07,1220.66 \n",
       "  2076.91,1217.53 2077.75,1217.99 2078.59,1224.22 2079.43,1226.68 2080.27,1226.78 2081.11,1221.48 2081.95,1219.45 2082.79,1223.02 2083.63,1221.93 2084.47,1213.92 \n",
       "  2085.31,1205.21 2086.15,1193.49 2086.99,1190.46 2087.83,1202.12 2088.67,1215.59 2089.51,1192.69 2090.35,1199.63 2091.19,1204.07 2092.03,1205.87 2092.87,1199.36 \n",
       "  2093.71,1197.78 2094.55,1195.6 2095.39,1196.91 2096.23,1190.3 2097.07,1180.54 2097.91,1177.79 2098.75,1170.52 2099.59,1176.35 2100.43,1186.79 2101.27,1179.08 \n",
       "  2102.11,1178.94 2102.95,1182.89 2103.79,1179.69 2104.63,1182.56 2105.47,1182.56 2106.31,1185.29 2107.15,1192.65 2107.99,1193.94 2108.83,1202.23 2109.67,1198.14 \n",
       "  2110.51,1207.12 2111.35,1209.92 2112.19,1206.07 2113.03,1207.3 2113.87,1214.84 2114.71,1226.45 2115.55,1234.71 2116.39,1233.16 2117.23,1233.61 2118.07,1242.73 \n",
       "  2118.91,1243.45 2119.75,1235.67 2120.59,1256.79 2121.43,1241.16 2122.27,1232.27 2123.11,1233.02 2123.95,1237.69 2124.79,1238.5 2125.63,1212.36 2126.47,1217.54 \n",
       "  2127.31,1214.66 2128.15,1206.24 2128.99,1204.59 2129.83,1191.53 2130.67,1207.79 2131.51,1213.93 2132.35,1212.74 2133.19,1190.69 2134.03,1190.56 2134.87,1193.46 \n",
       "  2135.71,1186.03 2136.55,1189.43 2137.39,1187.69 2138.23,1191.86 2139.07,1181.76 2139.91,1169.9 2140.75,1165.45 2141.59,1169.78 2142.43,1157.8 2143.27,1168.42 \n",
       "  2144.11,1162.66 2144.95,1152.16 2145.8,1138.24 2146.64,1147.72 2147.48,1138.99 2148.32,1121.64 2149.16,1123.82 2150,1160.74 2150.84,1146.3 2151.68,1154.5 \n",
       "  2152.52,1153.65 2153.36,1132.45 2154.2,1128.12 2155.04,1135.1 2155.88,1128.66 2156.72,1121.07 2157.56,1139.55 2158.4,1147.92 2159.24,1138.15 2160.08,1132.7 \n",
       "  2160.92,1154.53 2161.76,1160.62 2162.6,1149.56 2163.44,1152.27 2164.28,1143.91 2165.12,1145.94 2165.96,1148.25 2166.8,1160.28 2167.64,1174.56 2168.48,1171.71 \n",
       "  2169.32,1176.73 2170.16,1176.62 2171,1198.35 2171.84,1191.59 2172.68,1189.73 2173.52,1199.39 2174.36,1197.7 2175.2,1192.39 2176.04,1182 2176.88,1186.6 \n",
       "  2177.72,1177.68 2178.56,1146.48 2179.4,1139.84 2180.24,1147.57 2181.08,1138.24 2181.92,1122.76 2182.76,1120.56 2183.6,1114.12 2184.44,1120.46 2185.28,1119.65 \n",
       "  2186.12,1126.25 2186.96,1117.74 2187.8,1126.46 2188.64,1118.06 2189.48,1107.93 2190.32,1119.84 2191.16,1121.5 2192,1119.01 2192.84,1120.58 2193.68,1119.3 \n",
       "  2194.52,1119.46 2195.36,1124.58 2196.2,1134.3 2197.04,1136.1 2197.88,1144.49 2198.72,1141.91 2199.56,1155.37 2200.4,1153.79 2201.24,1153.07 2202.08,1142.72 \n",
       "  2202.92,1146.93 2203.76,1149.97 2204.6,1140.68 2205.44,1137.87 2206.28,1138.64 2207.12,1145.13 2207.96,1139.9 2208.8,1144.37 2209.64,1146.08 2210.48,1148.97 \n",
       "  2211.32,1144.12 2212.16,1131.51 2213,1123.61 2213.84,1132.38 2214.68,1123.75 2215.52,1117.74 2216.36,1121.61 2217.2,1122.05 2218.04,1124.68 2218.88,1126.2 \n",
       "  2219.72,1132.81 2220.56,1128.33 2221.4,1120.16 2222.24,1116.12 2223.09,1121.64 2223.93,1114.73 2224.77,1101.79 2225.61,1094.95 2226.45,1102.13 2227.29,1101.35 \n",
       "  2228.13,1095.11 2228.97,1106.39 2229.81,1122.04 2230.65,1121.44 2231.49,1129.85 2232.33,1134.22 2233.17,1125.81 2234.01,1100.19 2234.85,1095.7 2235.69,1095.37 \n",
       "  2236.53,1087.11 2237.37,1082.79 2238.21,1088.02 2239.05,1093.03 2239.89,1093.25 2240.73,1092.65 2241.57,1097.87 2242.41,1092.7 2243.25,1082.58 2244.09,1075.99 \n",
       "  2244.93,1075.45 2245.77,1076.43 2246.61,1079.24 2247.45,1078.33 2248.29,1063.51 2249.13,1054.08 2249.97,1050.37 2250.81,1048.96 2251.65,1047.6 2252.49,1064.18 \n",
       "  2253.33,1073.48 2254.17,1066.19 2255.01,1069.23 2255.85,1061.87 2256.69,1055.97 2257.53,1028.41 2258.37,1039.38 2259.21,1034.85 2260.05,1034.36 2260.89,1041.34 \n",
       "  2261.73,1045.8 2262.57,1047.21 2263.41,1058.16 2264.25,1050.36 2265.09,1052.78 2265.93,1052.02 2266.77,1058.5 2267.61,1086.31 2268.45,1091.87 2269.29,1117.8 \n",
       "  2270.13,1116.16 2270.97,1114.93 2271.81,1114.78 2272.65,1113.4 2273.49,1112.28 2274.33,1116.18 2275.17,1127.23 2276.01,1126.29 2276.85,1130.77 2277.69,1117.6 \n",
       "  2278.53,1118.25 2279.37,1121.97 2280.21,1123.22 2281.05,1145.82 2281.89,1140.63 2282.73,1129.09 2283.57,1122.89 2284.41,1109.44 2285.25,1115.46 2286.09,1106.21 \n",
       "  2286.93,1103.99 2287.77,1100.87 2288.61,1107.54 2289.45,1108.28 2290.29,1097.2 2291.13,1087.12 \n",
       "  \"/>\n",
       "<polyline clip-path=\"url(#clip192)\" style=\"stroke:#ff0000; stroke-linecap:butt; stroke-linejoin:round; stroke-width:8; stroke-opacity:1; fill:none\" points=\"\n",
       "  1675.33,681.045 1676.17,689.199 1677.01,674.725 1677.85,704.259 1678.69,709.31 1679.53,701.822 1680.37,692.931 1681.21,694.171 1682.05,684.835 1682.89,678.73 \n",
       "  1683.74,656.028 1684.58,661.286 1685.42,665.938 1686.26,665.399 1687.1,618.929 1687.94,609.433 1688.78,600.708 1689.62,603.491 1690.46,591.384 1691.3,604.487 \n",
       "  1692.14,598.351 1692.98,587.011 1693.82,615.777 1694.66,623.024 1695.5,623.914 1696.34,606.709 1697.18,619.961 1698.02,603.246 1698.86,610.927 1699.7,609.385 \n",
       "  1700.54,596.807 1701.38,636.375 1702.22,650.8 1703.06,645.229 1703.9,670.605 1704.74,663.558 1705.58,635.517 1706.42,629.652 1707.26,619.788 1708.1,618.064 \n",
       "  1708.94,611.951 1709.78,615.12 1710.62,615.588 1711.46,626.17 1712.3,600.813 1713.14,598.999 1713.98,591.686 1714.82,570.108 1715.66,589.297 1716.5,594.134 \n",
       "  1717.34,584.685 1718.18,617.295 1719.02,581.308 1719.86,580.461 1720.7,578.508 1721.54,557.017 1722.38,521.256 1723.22,542.832 1724.06,550.819 1724.9,577.592 \n",
       "  1725.74,637.1 1726.58,642.024 1727.42,669.207 1728.26,654.577 1729.1,645.935 1729.94,663.19 1730.78,660.119 1731.62,624.303 1732.46,631.462 1733.3,645.662 \n",
       "  1734.14,650.719 1734.98,669.055 1735.82,672.78 1736.66,666.045 1737.5,657.809 1738.34,664.674 1739.18,660.159 1740.02,637.179 1740.86,643.08 1741.7,615.822 \n",
       "  1742.54,610.047 1743.38,648.057 1744.22,657.029 1745.06,693.948 1745.9,704.309 1746.74,721.517 1747.58,734.19 1748.42,718.079 1749.26,697.093 1750.1,714.808 \n",
       "  1750.94,727.281 1751.78,712.642 1752.62,707.402 1753.46,722.82 1754.3,706.077 1755.14,703.732 1755.98,701.06 1756.82,702.315 1757.66,691.659 1758.5,715.244 \n",
       "  1759.34,705.61 1760.18,704.573 1761.03,699.327 1761.87,705.607 1762.71,700.42 1763.55,696.243 1764.39,694.421 1765.23,698.525 1766.07,710.394 1766.91,711.121 \n",
       "  1767.75,704.834 1768.59,704.181 1769.43,705.441 1770.27,699.072 1771.11,707.515 1771.95,726.373 1772.79,757.158 1773.63,747.875 1774.47,737.549 1775.31,720.939 \n",
       "  1776.15,717.943 1776.99,718.213 1777.83,715.2 1778.67,701.99 1779.51,701.027 1780.35,695.842 1781.19,693.49 1782.03,703.417 1782.87,717.16 1783.71,709.794 \n",
       "  1784.55,711.56 1785.39,710.093 1786.23,704.942 1787.07,732.206 1787.91,741.436 1788.75,732.562 1789.59,738.062 1790.43,750.538 1791.27,748.696 1792.11,754.547 \n",
       "  1792.95,754.837 1793.79,751.625 1794.63,750.666 1795.47,749.633 1796.31,755.385 1797.15,756.166 1797.99,766.078 1798.83,770.152 1799.67,772.641 1800.51,794.674 \n",
       "  1801.35,824.099 1802.19,759.514 1803.03,647.887 1803.87,674.845 1804.71,662.677 1805.55,651.71 1806.39,721.696 1807.23,768.166 1808.07,778.824 1808.91,759.522 \n",
       "  1809.75,773.346 1810.59,743.134 1811.43,757.816 1812.27,752.224 1813.11,753.574 1813.95,752.959 1814.79,755.62 1815.63,767.862 1816.47,768.491 1817.31,757.744 \n",
       "  1818.15,768.553 1818.99,782.64 1819.83,797.166 1820.67,793.923 1821.51,798.444 1822.35,812.738 1823.19,820.477 1824.03,846.317 1824.87,809.818 1825.71,823.323 \n",
       "  1826.55,817.665 1827.39,834.554 1828.23,817.046 1829.07,816.701 1829.91,834.906 1830.75,826.684 1831.59,827.503 1832.43,827.24 1833.27,818.341 1834.11,818.904 \n",
       "  1834.95,829.395 1835.79,835.306 1836.63,831.516 1837.48,823.179 1838.32,821.391 1839.16,817.07 1840,787.088 1840.84,779.773 1841.68,790.489 1842.52,806.215 \n",
       "  1843.36,853.231 1844.2,840.221 1845.04,837.73 1845.88,847.185 1846.72,844.366 1847.56,849.43 1848.4,851.89 1849.24,859.553 1850.08,851.701 1850.92,843.842 \n",
       "  1851.76,862.443 1852.6,882.931 1853.44,873.66 1854.28,875.623 1855.12,885.863 1855.96,881.652 1856.8,901.654 1857.64,911.266 1858.48,933.639 1859.32,973.874 \n",
       "  1860.16,996.416 1861,986.776 1861.84,953.098 1862.68,945.847 1863.52,962.951 1864.36,967.794 1865.2,974.156 1866.04,987.378 1866.88,1055.32 1867.72,1100.6 \n",
       "  1868.56,1079.85 1869.4,1152.63 1870.24,1137.01 1871.08,1107.38 1871.92,1130.91 1872.76,1084.87 1873.6,1063.84 1874.44,1057.96 1875.28,1072.17 1876.12,1068.66 \n",
       "  1876.96,1074.32 1877.8,1077.28 1878.64,1098.42 1879.48,1083.52 1880.32,1069.18 1881.16,1082.04 1882,1078.28 1882.84,1067.9 1883.68,1057.79 1884.52,1043.67 \n",
       "  1885.36,1053.3 1886.2,1071.75 1887.04,1078.51 1887.88,1076.6 1888.72,1072.81 1889.56,1060.57 1890.4,1060.5 1891.24,1072.09 1892.08,1064.24 1892.92,1063.08 \n",
       "  1893.76,1074.82 1894.6,1074.98 1895.44,1100.14 1896.28,1099.88 1897.12,1105.53 1897.96,1103.54 1898.8,1094.09 1899.64,1085.6 1900.48,1084.08 1901.32,1076.59 \n",
       "  1902.16,1076 1903,1076.79 1903.84,1094.72 1904.68,1090.45 1905.52,1095.43 1906.36,1096.7 1907.2,1093.16 1908.04,1092.06 1908.88,1090.68 1909.72,1091.38 \n",
       "  1910.56,1081.64 1911.4,1087.41 1912.24,1084.67 1913.08,1082.43 1913.92,1065.5 1914.77,1061.37 1915.61,1069.48 1916.45,1096.16 1917.29,1089.34 1918.13,1092.57 \n",
       "  1918.97,1101.35 1919.81,1099.72 1920.65,1094.05 1921.49,1091.98 1922.33,1101.1 1923.17,1099.21 1924.01,1101.86 1924.85,1100.01 1925.69,1111.27 1926.53,1140.9 \n",
       "  1927.37,1134.96 1928.21,1139.21 1929.05,1151.89 1929.89,1155.42 1930.73,1139.41 1931.57,1121.35 1932.41,1131.85 1933.25,1128.49 1934.09,1127.73 1934.93,1130.28 \n",
       "  1935.77,1130.46 1936.61,1132.43 1937.45,1136.89 1938.29,1129.67 1939.13,1123.2 1939.97,1126.05 1940.81,1121.97 1941.65,1107.85 1942.49,1100.81 1943.33,1098.3 \n",
       "  1944.17,1096.31 1945.01,1079.67 1945.85,1081.05 1946.69,1088.18 1947.53,1094.9 1948.37,1091.96 1949.21,1088.34 1950.05,1092.29 1950.89,1087.21 1951.73,1113.45 \n",
       "  1952.57,1130.44 1953.41,1129.04 1954.25,1124.99 1955.09,1121.91 1955.93,1122.26 1956.77,1116.67 1957.61,1117.94 1958.45,1123.19 1959.29,1137.97 1960.13,1135.67 \n",
       "  1960.97,1135.37 1961.81,1134.02 1962.65,1127.58 1963.49,1129.42 1964.33,1131.72 1965.17,1126.92 1966.01,1130.75 1966.85,1129.05 1967.69,1127.93 1968.53,1123.72 \n",
       "  1969.37,1118.62 1970.21,1115.93 1971.05,1106.34 1971.89,1119.9 1972.73,1117.08 1973.57,1148.67 1974.41,1140.95 1975.25,1147.52 1976.09,1141.52 1976.93,1128.49 \n",
       "  1977.77,1140.46 1978.61,1139.68 1979.45,1140.21 1980.29,1143.27 1981.13,1142 1981.97,1141.17 1982.81,1134.03 1983.65,1139.62 1984.49,1144.4 1985.33,1149.9 \n",
       "  1986.17,1140.98 1987.01,1147.65 1987.85,1163.07 1988.69,1169.73 1989.53,1170.38 1990.37,1167.9 1991.21,1188.73 1992.06,1210.52 1992.9,1202.63 1993.74,1232.66 \n",
       "  1994.58,1233.73 1995.42,1225.37 1996.26,1210.02 1997.1,1228.39 1997.94,1264.32 1998.78,1288 1999.62,1299.63 2000.46,1282.54 2001.3,1296.74 2002.14,1288.72 \n",
       "  2002.98,1281.06 2003.82,1284.28 2004.66,1288.72 2005.5,1283.72 2006.34,1306.36 2007.18,1306.52 2008.02,1293.39 2008.86,1269.05 2009.7,1246.94 2010.54,1264.35 \n",
       "  2011.38,1283.28 2012.22,1277.41 2013.06,1282.42 2013.9,1284.6 2014.74,1276.65 2015.58,1279.2 2016.42,1284.42 2017.26,1283.43 2018.1,1286.46 2018.94,1306.96 \n",
       "  2019.78,1301.68 2020.62,1316.24 2021.46,1304.04 2022.3,1310.31 2023.14,1284.51 2023.98,1281.55 2024.82,1262.21 2025.66,1263.64 2026.5,1274.79 2027.34,1259.66 \n",
       "  2028.18,1259.63 2029.02,1261.97 2029.86,1259.92 2030.7,1248.37 2031.54,1243.21 2032.38,1231.26 2033.22,1241.94 2034.06,1254.85 2034.9,1260.17 2035.74,1254.97 \n",
       "  2036.58,1251.85 2037.42,1259.12 2038.26,1245.7 2039.1,1237.73 2039.94,1237.15 2040.78,1241.85 2041.62,1227.97 2042.46,1222.57 2043.3,1223.36 2044.14,1211.53 \n",
       "  2044.98,1209.84 2045.82,1207.44 2046.66,1203.83 2047.5,1203.29 2048.34,1213.17 2049.18,1204.39 2050.02,1199.33 2050.86,1202.6 2051.7,1185.32 2052.54,1177.94 \n",
       "  2053.38,1175.12 2054.22,1181.3 2055.06,1167.06 2055.9,1173.8 2056.74,1194.99 2057.58,1192.33 2058.42,1211.78 2059.26,1200.28 2060.1,1197.36 2060.94,1218.02 \n",
       "  2061.78,1228.09 2062.62,1226.65 2063.46,1229.51 2064.3,1226.92 2065.14,1216.11 2065.98,1219.65 2066.82,1224.45 2067.66,1248.23 2068.5,1236.61 2069.35,1241.4 \n",
       "  2070.19,1217.92 2071.03,1233.67 2071.87,1236.92 2072.71,1221.93 2073.55,1216.69 2074.39,1218.7 2075.23,1222.19 2076.07,1220.66 2076.91,1217.53 2077.75,1217.99 \n",
       "  2078.59,1224.22 2079.43,1226.68 2080.27,1226.78 2081.11,1221.48 2081.95,1219.45 2082.79,1223.02 2083.63,1221.93 2084.47,1213.92 2085.31,1205.21 2086.15,1193.49 \n",
       "  2086.99,1190.46 2087.83,1202.12 2088.67,1215.59 2089.51,1192.69 2090.35,1199.63 2091.19,1204.07 2092.03,1205.87 2092.87,1199.36 2093.71,1197.78 2094.55,1195.6 \n",
       "  2095.39,1196.91 2096.23,1190.3 2097.07,1180.54 2097.91,1177.79 2098.75,1170.52 2099.59,1176.35 2100.43,1186.79 2101.27,1179.08 2102.11,1178.94 2102.95,1182.89 \n",
       "  2103.79,1179.69 2104.63,1182.56 2105.47,1182.56 2106.31,1185.29 2107.15,1192.65 2107.99,1193.94 2108.83,1202.23 2109.67,1198.14 2110.51,1207.12 2111.35,1209.92 \n",
       "  2112.19,1206.07 2113.03,1207.3 2113.87,1214.84 2114.71,1226.45 2115.55,1234.71 2116.39,1233.16 2117.23,1233.61 2118.07,1242.73 2118.91,1243.45 2119.75,1235.67 \n",
       "  2120.59,1256.79 2121.43,1241.16 2122.27,1232.27 2123.11,1233.02 2123.95,1237.69 2124.79,1238.5 2125.63,1212.36 2126.47,1217.54 2127.31,1214.66 2128.15,1206.24 \n",
       "  2128.99,1204.59 2129.83,1191.53 2130.67,1207.79 2131.51,1213.93 2132.35,1212.74 2133.19,1190.69 2134.03,1190.56 2134.87,1193.46 2135.71,1186.03 2136.55,1189.43 \n",
       "  2137.39,1187.69 2138.23,1191.86 2139.07,1181.76 2139.91,1169.9 2140.75,1165.45 2141.59,1169.78 2142.43,1157.8 2143.27,1168.42 2144.11,1162.66 2144.95,1152.16 \n",
       "  2145.8,1138.24 2146.64,1147.72 2147.48,1138.99 2148.32,1121.64 2149.16,1123.82 2150,1160.74 2150.84,1146.3 2151.68,1154.5 2152.52,1153.65 2153.36,1132.45 \n",
       "  2154.2,1128.12 2155.04,1135.1 2155.88,1128.66 2156.72,1121.07 2157.56,1139.55 2158.4,1147.92 2159.24,1138.15 2160.08,1132.7 2160.92,1154.53 2161.76,1160.62 \n",
       "  2162.6,1149.56 2163.44,1152.27 2164.28,1143.91 2165.12,1145.94 2165.96,1148.25 2166.8,1160.28 2167.64,1174.56 2168.48,1171.71 2169.32,1176.73 2170.16,1176.62 \n",
       "  2171,1198.35 2171.84,1191.59 2172.68,1189.73 2173.52,1199.39 2174.36,1197.7 2175.2,1192.39 2176.04,1182 2176.88,1186.6 2177.72,1177.68 2178.56,1146.48 \n",
       "  2179.4,1139.84 2180.24,1147.57 2181.08,1138.24 2181.92,1122.76 2182.76,1120.56 2183.6,1114.12 2184.44,1120.46 2185.28,1119.65 2186.12,1126.25 2186.96,1117.74 \n",
       "  2187.8,1126.46 2188.64,1118.06 2189.48,1107.93 2190.32,1119.84 2191.16,1121.5 2192,1119.01 2192.84,1120.58 2193.68,1119.3 2194.52,1119.46 2195.36,1124.58 \n",
       "  2196.2,1134.3 2197.04,1136.1 2197.88,1144.49 2198.72,1141.91 2199.56,1155.37 2200.4,1153.79 2201.24,1153.07 2202.08,1142.72 2202.92,1146.93 2203.76,1149.97 \n",
       "  2204.6,1140.68 2205.44,1137.87 2206.28,1138.64 2207.12,1145.13 2207.96,1139.9 2208.8,1144.37 2209.64,1146.08 2210.48,1148.97 2211.32,1144.12 2212.16,1131.51 \n",
       "  2213,1123.61 2213.84,1132.38 2214.68,1123.75 2215.52,1117.74 2216.36,1121.61 2217.2,1122.05 2218.04,1124.68 2218.88,1126.2 2219.72,1132.81 2220.56,1128.33 \n",
       "  2221.4,1120.16 2222.24,1116.12 2223.09,1121.64 2223.93,1114.73 2224.77,1101.79 2225.61,1094.95 2226.45,1102.13 2227.29,1101.35 2228.13,1095.11 2228.97,1106.39 \n",
       "  2229.81,1122.04 2230.65,1121.44 2231.49,1129.85 2232.33,1134.22 2233.17,1125.81 2234.01,1100.19 2234.85,1095.7 2235.69,1095.37 2236.53,1087.11 2237.37,1082.79 \n",
       "  2238.21,1088.02 2239.05,1093.03 2239.89,1093.25 2240.73,1092.65 2241.57,1097.87 2242.41,1092.7 2243.25,1082.58 2244.09,1075.99 2244.93,1075.45 2245.77,1076.43 \n",
       "  2246.61,1079.24 2247.45,1078.33 2248.29,1063.51 2249.13,1054.08 2249.97,1050.37 2250.81,1048.96 2251.65,1047.6 2252.49,1064.18 2253.33,1073.48 2254.17,1066.19 \n",
       "  2255.01,1069.23 2255.85,1061.87 2256.69,1055.97 2257.53,1028.41 2258.37,1039.38 2259.21,1034.85 2260.05,1034.36 2260.89,1041.34 2261.73,1045.8 2262.57,1047.21 \n",
       "  2263.41,1058.16 2264.25,1050.36 2265.09,1052.78 2265.93,1052.02 2266.77,1058.5 2267.61,1086.31 2268.45,1091.87 2269.29,1117.8 2270.13,1116.16 2270.97,1114.93 \n",
       "  2271.81,1114.78 2272.65,1113.4 2273.49,1112.28 2274.33,1116.18 2275.17,1127.23 2276.01,1126.29 2276.85,1130.77 2277.69,1117.6 2278.53,1118.25 2279.37,1121.97 \n",
       "  2280.21,1123.22 2281.05,1145.82 2281.89,1140.63 2282.73,1129.09 2283.57,1122.89 2284.41,1109.44 2285.25,1115.46 2286.09,1106.21 2286.93,1103.99 2287.77,1100.87 \n",
       "  2288.61,1107.54 2289.45,1108.28 2290.29,1097.2 2291.13,1087.12 \n",
       "  \"/>\n",
       "<path clip-path=\"url(#clip190)\" d=\"\n",
       "M1717.56 250.738 L2280.18 250.738 L2280.18 95.2176 L1717.56 95.2176  Z\n",
       "  \" fill=\"#ffffff\" fill-rule=\"evenodd\" fill-opacity=\"1\"/>\n",
       "<polyline clip-path=\"url(#clip190)\" style=\"stroke:#000000; stroke-linecap:butt; stroke-linejoin:round; stroke-width:4; stroke-opacity:1; fill:none\" points=\"\n",
       "  1717.56,250.738 2280.18,250.738 2280.18,95.2176 1717.56,95.2176 1717.56,250.738 \n",
       "  \"/>\n",
       "<polyline clip-path=\"url(#clip190)\" style=\"stroke:#009af9; stroke-linecap:butt; stroke-linejoin:round; stroke-width:4; stroke-opacity:1; fill:none\" points=\"\n",
       "  1741.76,147.058 1886.91,147.058 \n",
       "  \"/>\n",
       "<path clip-path=\"url(#clip190)\" d=\"M1911.1 138.412 L1915.36 138.412 L1915.36 164.338 L1911.1 164.338 L1911.1 138.412 M1911.1 128.319 L1915.36 128.319 L1915.36 133.713 L1911.1 133.713 L1911.1 128.319 Z\" fill=\"#000000\" fill-rule=\"evenodd\" fill-opacity=\"1\" /><path clip-path=\"url(#clip190)\" d=\"M1945.82 148.689 L1945.82 164.338 L1941.56 164.338 L1941.56 148.828 Q1941.56 145.148 1940.13 143.319 Q1938.69 141.49 1935.82 141.49 Q1932.37 141.49 1930.38 143.69 Q1928.39 145.889 1928.39 149.685 L1928.39 164.338 L1924.11 164.338 L1924.11 138.412 L1928.39 138.412 L1928.39 142.44 Q1929.92 140.102 1931.98 138.944 Q1934.06 137.787 1936.77 137.787 Q1941.24 137.787 1943.53 140.565 Q1945.82 143.319 1945.82 148.689 Z\" fill=\"#000000\" fill-rule=\"evenodd\" fill-opacity=\"1\" /><path clip-path=\"url(#clip190)\" d=\"M1985.92 139.176 L1985.92 143.203 Q1984.11 142.277 1982.17 141.815 Q1980.22 141.352 1978.14 141.352 Q1974.97 141.352 1973.37 142.324 Q1971.8 143.296 1971.8 145.24 Q1971.8 146.722 1972.93 147.578 Q1974.06 148.412 1977.49 149.176 L1978.95 149.5 Q1983.49 150.472 1985.38 152.254 Q1987.3 154.014 1987.3 157.185 Q1987.3 160.796 1984.43 162.902 Q1981.59 165.009 1976.59 165.009 Q1974.5 165.009 1972.24 164.592 Q1969.99 164.199 1967.49 163.388 L1967.49 158.99 Q1969.85 160.217 1972.14 160.842 Q1974.43 161.444 1976.68 161.444 Q1979.69 161.444 1981.31 160.426 Q1982.93 159.384 1982.93 157.509 Q1982.93 155.773 1981.75 154.847 Q1980.59 153.921 1976.63 153.064 L1975.15 152.717 Q1971.19 151.884 1969.43 150.171 Q1967.68 148.435 1967.68 145.426 Q1967.68 141.768 1970.27 139.778 Q1972.86 137.787 1977.63 137.787 Q1979.99 137.787 1982.07 138.134 Q1984.16 138.481 1985.92 139.176 Z\" fill=\"#000000\" fill-rule=\"evenodd\" fill-opacity=\"1\" /><path clip-path=\"url(#clip190)\" d=\"M2005.87 151.305 Q2000.71 151.305 1998.72 152.486 Q1996.73 153.666 1996.73 156.514 Q1996.73 158.782 1998.21 160.125 Q1999.71 161.444 2002.28 161.444 Q2005.82 161.444 2007.95 158.944 Q2010.11 156.421 2010.11 152.254 L2010.11 151.305 L2005.87 151.305 M2014.36 149.546 L2014.36 164.338 L2010.11 164.338 L2010.11 160.402 Q2008.65 162.763 2006.47 163.898 Q2004.3 165.009 2001.15 165.009 Q1997.17 165.009 1994.8 162.787 Q1992.47 160.541 1992.47 156.791 Q1992.47 152.416 1995.38 150.194 Q1998.32 147.972 2004.13 147.972 L2010.11 147.972 L2010.11 147.555 Q2010.11 144.615 2008.16 143.018 Q2006.24 141.398 2002.74 141.398 Q2000.52 141.398 1998.42 141.93 Q1996.31 142.463 1994.36 143.527 L1994.36 139.592 Q1996.7 138.69 1998.9 138.25 Q2001.1 137.787 2003.18 137.787 Q2008.81 137.787 2011.59 140.703 Q2014.36 143.62 2014.36 149.546 Z\" fill=\"#000000\" fill-rule=\"evenodd\" fill-opacity=\"1\" /><path clip-path=\"url(#clip190)\" d=\"M2043.32 143.389 Q2044.92 140.518 2047.14 139.153 Q2049.36 137.787 2052.37 137.787 Q2056.42 137.787 2058.62 140.634 Q2060.82 143.458 2060.82 148.689 L2060.82 164.338 L2056.54 164.338 L2056.54 148.828 Q2056.54 145.102 2055.22 143.296 Q2053.9 141.49 2051.19 141.49 Q2047.88 141.49 2045.96 143.69 Q2044.04 145.889 2044.04 149.685 L2044.04 164.338 L2039.76 164.338 L2039.76 148.828 Q2039.76 145.078 2038.44 143.296 Q2037.12 141.49 2034.36 141.49 Q2031.1 141.49 2029.18 143.713 Q2027.26 145.912 2027.26 149.685 L2027.26 164.338 L2022.98 164.338 L2022.98 138.412 L2027.26 138.412 L2027.26 142.44 Q2028.72 140.055 2030.75 138.921 Q2032.79 137.787 2035.59 137.787 Q2038.42 137.787 2040.38 139.222 Q2042.37 140.657 2043.32 143.389 Z\" fill=\"#000000\" fill-rule=\"evenodd\" fill-opacity=\"1\" /><path clip-path=\"url(#clip190)\" d=\"M2073.44 160.449 L2073.44 174.199 L2069.16 174.199 L2069.16 138.412 L2073.44 138.412 L2073.44 142.347 Q2074.78 140.032 2076.82 138.921 Q2078.88 137.787 2081.73 137.787 Q2086.45 137.787 2089.39 141.537 Q2092.35 145.287 2092.35 151.398 Q2092.35 157.509 2089.39 161.259 Q2086.45 165.009 2081.73 165.009 Q2078.88 165.009 2076.82 163.898 Q2074.78 162.763 2073.44 160.449 M2087.93 151.398 Q2087.93 146.699 2085.98 144.037 Q2084.06 141.352 2080.68 141.352 Q2077.3 141.352 2075.36 144.037 Q2073.44 146.699 2073.44 151.398 Q2073.44 156.097 2075.36 158.782 Q2077.3 161.444 2080.68 161.444 Q2084.06 161.444 2085.98 158.782 Q2087.93 156.097 2087.93 151.398 Z\" fill=\"#000000\" fill-rule=\"evenodd\" fill-opacity=\"1\" /><path clip-path=\"url(#clip190)\" d=\"M2099.41 128.319 L2103.67 128.319 L2103.67 164.338 L2099.41 164.338 L2099.41 128.319 Z\" fill=\"#000000\" fill-rule=\"evenodd\" fill-opacity=\"1\" /><path clip-path=\"url(#clip190)\" d=\"M2134.76 150.31 L2134.76 152.393 L2115.17 152.393 Q2115.45 156.791 2117.81 159.106 Q2120.2 161.398 2124.43 161.398 Q2126.89 161.398 2129.18 160.796 Q2131.49 160.194 2133.76 158.99 L2133.76 163.018 Q2131.47 163.99 2129.06 164.5 Q2126.66 165.009 2124.18 165.009 Q2117.98 165.009 2114.34 161.398 Q2110.73 157.787 2110.73 151.629 Q2110.73 145.264 2114.16 141.537 Q2117.6 137.787 2123.44 137.787 Q2128.67 137.787 2131.7 141.166 Q2134.76 144.523 2134.76 150.31 M2130.5 149.06 Q2130.45 145.565 2128.53 143.481 Q2126.63 141.398 2123.48 141.398 Q2119.92 141.398 2117.77 143.412 Q2115.64 145.426 2115.31 149.083 L2130.5 149.06 Z\" fill=\"#000000\" fill-rule=\"evenodd\" fill-opacity=\"1\" /><polyline clip-path=\"url(#clip190)\" style=\"stroke:#ff0000; stroke-linecap:butt; stroke-linejoin:round; stroke-width:4; stroke-opacity:1; fill:none\" points=\"\n",
       "  1741.76,198.898 1886.91,198.898 \n",
       "  \"/>\n",
       "<path clip-path=\"url(#clip190)\" d=\"M1923 193.238 Q1919.57 193.238 1917.58 195.923 Q1915.59 198.585 1915.59 203.238 Q1915.59 207.891 1917.56 210.576 Q1919.55 213.238 1923 213.238 Q1926.4 213.238 1928.39 210.553 Q1930.38 207.867 1930.38 203.238 Q1930.38 198.631 1928.39 195.946 Q1926.4 193.238 1923 193.238 M1923 189.627 Q1928.56 189.627 1931.73 193.238 Q1934.9 196.849 1934.9 203.238 Q1934.9 209.604 1931.73 213.238 Q1928.56 216.849 1923 216.849 Q1917.42 216.849 1914.25 213.238 Q1911.1 209.604 1911.1 203.238 Q1911.1 196.849 1914.25 193.238 Q1917.42 189.627 1923 189.627 Z\" fill=\"#000000\" fill-rule=\"evenodd\" fill-opacity=\"1\" /><path clip-path=\"url(#clip190)\" d=\"M1941.52 205.946 L1941.52 190.252 L1945.78 190.252 L1945.78 205.784 Q1945.78 209.465 1947.21 211.316 Q1948.65 213.145 1951.52 213.145 Q1954.97 213.145 1956.96 210.946 Q1958.97 208.747 1958.97 204.951 L1958.97 190.252 L1963.23 190.252 L1963.23 216.178 L1958.97 216.178 L1958.97 212.196 Q1957.42 214.557 1955.36 215.715 Q1953.32 216.849 1950.62 216.849 Q1946.15 216.849 1943.83 214.071 Q1941.52 211.293 1941.52 205.946 M1952.24 189.627 L1952.24 189.627 Z\" fill=\"#000000\" fill-rule=\"evenodd\" fill-opacity=\"1\" /><path clip-path=\"url(#clip190)\" d=\"M1976.22 182.891 L1976.22 190.252 L1984.99 190.252 L1984.99 193.562 L1976.22 193.562 L1976.22 207.636 Q1976.22 210.807 1977.07 211.71 Q1977.95 212.613 1980.61 212.613 L1984.99 212.613 L1984.99 216.178 L1980.61 216.178 Q1975.68 216.178 1973.81 214.349 Q1971.93 212.497 1971.93 207.636 L1971.93 193.562 L1968.81 193.562 L1968.81 190.252 L1971.93 190.252 L1971.93 182.891 L1976.22 182.891 Z\" fill=\"#000000\" fill-rule=\"evenodd\" fill-opacity=\"1\" /><path clip-path=\"url(#clip190)\" d=\"M2015.71 193.238 Q2012.28 193.238 2010.29 195.923 Q2008.3 198.585 2008.3 203.238 Q2008.3 207.891 2010.27 210.576 Q2012.26 213.238 2015.71 213.238 Q2019.11 213.238 2021.1 210.553 Q2023.09 207.867 2023.09 203.238 Q2023.09 198.631 2021.1 195.946 Q2019.11 193.238 2015.71 193.238 M2015.71 189.627 Q2021.26 189.627 2024.43 193.238 Q2027.61 196.849 2027.61 203.238 Q2027.61 209.604 2024.43 213.238 Q2021.26 216.849 2015.71 216.849 Q2010.13 216.849 2006.96 213.238 Q2003.81 209.604 2003.81 203.238 Q2003.81 196.849 2006.96 193.238 Q2010.13 189.627 2015.71 189.627 Z\" fill=\"#000000\" fill-rule=\"evenodd\" fill-opacity=\"1\" /><path clip-path=\"url(#clip190)\" d=\"M2047.79 180.159 L2047.79 183.701 L2043.72 183.701 Q2041.42 183.701 2040.52 184.627 Q2039.64 185.553 2039.64 187.96 L2039.64 190.252 L2046.66 190.252 L2046.66 193.562 L2039.64 193.562 L2039.64 216.178 L2035.36 216.178 L2035.36 193.562 L2031.29 193.562 L2031.29 190.252 L2035.36 190.252 L2035.36 188.446 Q2035.36 184.118 2037.37 182.15 Q2039.39 180.159 2043.76 180.159 L2047.79 180.159 Z\" fill=\"#000000\" fill-rule=\"evenodd\" fill-opacity=\"1\" /><path clip-path=\"url(#clip190)\" d=\"M2082.95 191.016 L2082.95 195.043 Q2081.15 194.117 2079.2 193.655 Q2077.26 193.192 2075.17 193.192 Q2072 193.192 2070.41 194.164 Q2068.83 195.136 2068.83 197.08 Q2068.83 198.562 2069.97 199.418 Q2071.1 200.252 2074.53 201.016 L2075.98 201.34 Q2080.52 202.312 2082.42 204.094 Q2084.34 205.854 2084.34 209.025 Q2084.34 212.636 2081.47 214.742 Q2078.62 216.849 2073.62 216.849 Q2071.54 216.849 2069.27 216.432 Q2067.03 216.039 2064.53 215.228 L2064.53 210.83 Q2066.89 212.057 2069.18 212.682 Q2071.47 213.284 2073.72 213.284 Q2076.73 213.284 2078.35 212.266 Q2079.97 211.224 2079.97 209.349 Q2079.97 207.613 2078.79 206.687 Q2077.63 205.761 2073.67 204.904 L2072.19 204.557 Q2068.23 203.724 2066.47 202.011 Q2064.71 200.275 2064.71 197.266 Q2064.71 193.608 2067.3 191.618 Q2069.9 189.627 2074.67 189.627 Q2077.03 189.627 2079.11 189.974 Q2081.19 190.321 2082.95 191.016 Z\" fill=\"#000000\" fill-rule=\"evenodd\" fill-opacity=\"1\" /><path clip-path=\"url(#clip190)\" d=\"M2102.91 203.145 Q2097.74 203.145 2095.75 204.326 Q2093.76 205.506 2093.76 208.354 Q2093.76 210.622 2095.24 211.965 Q2096.75 213.284 2099.32 213.284 Q2102.86 213.284 2104.99 210.784 Q2107.14 208.261 2107.14 204.094 L2107.14 203.145 L2102.91 203.145 M2111.4 201.386 L2111.4 216.178 L2107.14 216.178 L2107.14 212.242 Q2105.68 214.603 2103.51 215.738 Q2101.33 216.849 2098.18 216.849 Q2094.2 216.849 2091.84 214.627 Q2089.5 212.381 2089.5 208.631 Q2089.5 204.256 2092.42 202.034 Q2095.36 199.812 2101.17 199.812 L2107.14 199.812 L2107.14 199.395 Q2107.14 196.455 2105.2 194.858 Q2103.28 193.238 2099.78 193.238 Q2097.56 193.238 2095.45 193.77 Q2093.35 194.303 2091.4 195.367 L2091.4 191.432 Q2093.74 190.53 2095.94 190.09 Q2098.14 189.627 2100.22 189.627 Q2105.85 189.627 2108.62 192.543 Q2111.4 195.46 2111.4 201.386 Z\" fill=\"#000000\" fill-rule=\"evenodd\" fill-opacity=\"1\" /><path clip-path=\"url(#clip190)\" d=\"M2140.36 195.229 Q2141.96 192.358 2144.18 190.993 Q2146.4 189.627 2149.41 189.627 Q2153.46 189.627 2155.66 192.474 Q2157.86 195.298 2157.86 200.529 L2157.86 216.178 L2153.58 216.178 L2153.58 200.668 Q2153.58 196.942 2152.26 195.136 Q2150.94 193.33 2148.23 193.33 Q2144.92 193.33 2143 195.53 Q2141.08 197.729 2141.08 201.525 L2141.08 216.178 L2136.79 216.178 L2136.79 200.668 Q2136.79 196.918 2135.48 195.136 Q2134.16 193.33 2131.4 193.33 Q2128.14 193.33 2126.22 195.553 Q2124.29 197.752 2124.29 201.525 L2124.29 216.178 L2120.01 216.178 L2120.01 190.252 L2124.29 190.252 L2124.29 194.28 Q2125.75 191.895 2127.79 190.761 Q2129.83 189.627 2132.63 189.627 Q2135.45 189.627 2137.42 191.062 Q2139.41 192.497 2140.36 195.229 Z\" fill=\"#000000\" fill-rule=\"evenodd\" fill-opacity=\"1\" /><path clip-path=\"url(#clip190)\" d=\"M2170.48 212.289 L2170.48 226.039 L2166.19 226.039 L2166.19 190.252 L2170.48 190.252 L2170.48 194.187 Q2171.82 191.872 2173.85 190.761 Q2175.91 189.627 2178.76 189.627 Q2183.48 189.627 2186.42 193.377 Q2189.39 197.127 2189.39 203.238 Q2189.39 209.349 2186.42 213.099 Q2183.48 216.849 2178.76 216.849 Q2175.91 216.849 2173.85 215.738 Q2171.82 214.603 2170.48 212.289 M2184.97 203.238 Q2184.97 198.539 2183.02 195.877 Q2181.1 193.192 2177.72 193.192 Q2174.34 193.192 2172.4 195.877 Q2170.48 198.539 2170.48 203.238 Q2170.48 207.937 2172.4 210.622 Q2174.34 213.284 2177.72 213.284 Q2181.1 213.284 2183.02 210.622 Q2184.97 207.937 2184.97 203.238 Z\" fill=\"#000000\" fill-rule=\"evenodd\" fill-opacity=\"1\" /><path clip-path=\"url(#clip190)\" d=\"M2196.45 180.159 L2200.71 180.159 L2200.71 216.178 L2196.45 216.178 L2196.45 180.159 Z\" fill=\"#000000\" fill-rule=\"evenodd\" fill-opacity=\"1\" /><path clip-path=\"url(#clip190)\" d=\"M2231.79 202.15 L2231.79 204.233 L2212.21 204.233 Q2212.49 208.631 2214.85 210.946 Q2217.23 213.238 2221.47 213.238 Q2223.92 213.238 2226.22 212.636 Q2228.53 212.034 2230.8 210.83 L2230.8 214.858 Q2228.51 215.83 2226.1 216.34 Q2223.69 216.849 2221.22 216.849 Q2215.01 216.849 2211.38 213.238 Q2207.77 209.627 2207.77 203.469 Q2207.77 197.104 2211.19 193.377 Q2214.64 189.627 2220.47 189.627 Q2225.71 189.627 2228.74 193.006 Q2231.79 196.363 2231.79 202.15 M2227.53 200.9 Q2227.49 197.405 2225.57 195.321 Q2223.67 193.238 2220.52 193.238 Q2216.96 193.238 2214.8 195.252 Q2212.67 197.266 2212.35 200.923 L2227.53 200.9 Z\" fill=\"#000000\" fill-rule=\"evenodd\" fill-opacity=\"1\" /></svg>\n"
      ]
     },
     "execution_count": 75,
     "metadata": {},
     "output_type": "execute_result"
    }
   ],
   "source": [
    "nav = cumprod(1 .+ vec(pnl))\n",
    "plot(1:length(nav), nav, w=2, label=\"in sample\", ylabel=\"nav\")\n",
    "plot!(N+1:length(nav), nav[N+1:end], w=2, label=\"out of sample\", c=\"red\")"
   ]
  },
  {
   "cell_type": "code",
   "execution_count": 76,
   "id": "a4d09b55",
   "metadata": {},
   "outputs": [
    {
     "data": {
      "text/plain": [
       "7×2446 Matrix{Float64}:\n",
       " 4.5603e-8   3.07205e-8  7.17599e-8  …  2.63226e-8  1.24503e-8  2.90718e-8\n",
       " 0.435457    0.376557    0.507763       0.313074    0.217826    0.334711\n",
       " 2.55658e-7  1.68409e-7  4.08703e-7     1.3655e-7   6.14443e-8  1.52748e-7\n",
       " 0.196081    0.183953    0.184525       0.239617    0.261016    0.223927\n",
       " 6.88111e-7  4.97655e-7  9.98754e-7     4.24022e-7  2.21373e-7  4.64179e-7\n",
       " 0.368459    0.439487    0.307707    …  0.447307    0.521157    0.441361\n",
       " 2.68574e-6  1.90189e-6  4.11784e-6     1.39793e-6  6.41669e-7  1.59485e-6"
      ]
     },
     "execution_count": 76,
     "metadata": {},
     "output_type": "execute_result"
    }
   ],
   "source": [
    "w"
   ]
  },
  {
   "cell_type": "code",
   "execution_count": null,
   "id": "a8f5086a",
   "metadata": {},
   "outputs": [],
   "source": []
  }
 ],
 "metadata": {
  "kernelspec": {
   "display_name": "Julia 1.7.1",
   "language": "julia",
   "name": "julia-1.7"
  },
  "language_info": {
   "file_extension": ".jl",
   "mimetype": "application/julia",
   "name": "julia",
   "version": "1.7.1"
  }
 },
 "nbformat": 4,
 "nbformat_minor": 5
}

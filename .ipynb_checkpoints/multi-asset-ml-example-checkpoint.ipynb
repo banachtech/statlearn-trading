{
 "cells": [
  {
   "cell_type": "markdown",
   "id": "4e4311c7",
   "metadata": {},
   "source": [
    "# Offline Machine-Learning Example\n",
    "\n",
    "## Methodology\n",
    "\n",
    "There are $M$ assets in the investment universe. We parametrize allocations to assets in the portfolio with a neural network. Portfolio return over period from $t$ to $t+1$ is\n",
    "\n",
    "$$ r_{t+1}^{(p)} = \\mathscr{N}(x_{t})^T r_{t+1}$$\n",
    "\n",
    "where $x_{t}$ is the feature vector at time $t$, $\\mathscr{N}(.)$ is a neural network producing $M-$dimensional simplex as output and $r_{t+1}$ is $M-$ dimensional vector of returns of assets."
   ]
  },
  {
   "cell_type": "markdown",
   "id": "8c25becd",
   "metadata": {},
   "source": [
    "We train the neural network such that the parametric portfolio has minimal mean-variance loss over a given return path of length $T$.\n",
    "\n",
    "$$J_\\tau = \\frac{\\gamma}{2} \\text{var}(r^p) - \\text{mean}(r^p) - \\bar{c}$$\n",
    "\n",
    "where $\\tau = \\{t, t+1, \\ldots, t+T-1\\}$ is the set of return path dates (a contiguous segment or \"batch\" of historical data), $r^p$ is the vector of portfolio returns computed for $t \\in \\tau$ as above and $\\bar{c}$ is the average transaction cost.\n",
    "\n",
    "$$ \\bar{c} = \\frac{c}{T}\\sum_{t\\in \\tau} \\Vert \\mathscr{N}(x_{t}) - \\mathscr{N}(x_{t-1}) \\Vert_1 $$\n",
    "\n",
    "where $c$ is the transaction cost in %."
   ]
  },
  {
   "cell_type": "code",
   "execution_count": 1,
   "id": "2387c11c",
   "metadata": {},
   "outputs": [],
   "source": [
    "using DataFrames, CSV, Flux, Plots, StatsBase, Random"
   ]
  },
  {
   "cell_type": "markdown",
   "id": "cd74c450",
   "metadata": {},
   "source": [
    "## Data"
   ]
  },
  {
   "cell_type": "code",
   "execution_count": 2,
   "id": "20cddea7",
   "metadata": {},
   "outputs": [
    {
     "data": {
      "text/plain": [
       "7"
      ]
     },
     "execution_count": 2,
     "metadata": {},
     "output_type": "execute_result"
    }
   ],
   "source": [
    "ccys = [\"BTC\", \"ETH\", \"ADA\", \"ATOM\", \"BNB\", \"DOGE\", \"LTC\"]\n",
    "nassets = length(ccys)"
   ]
  },
  {
   "cell_type": "code",
   "execution_count": 3,
   "id": "ba3e2371",
   "metadata": {},
   "outputs": [],
   "source": [
    "data = []\n",
    "for ccy in ccys\n",
    "    tmp = CSV.File(\"data/crypto/\"*ccy*\"_ohlcv.csv\", dateformat=\"yyyy-mm-dd H:M:S\", \n",
    "        missingstring=[\"\", \"0.0\", \"0\", \"NaN\"]) |> DataFrame\n",
    "    rename!(tmp, \"close\" => ccy)\n",
    "    push!(data, tmp[:,[\"datetime\", ccy]])\n",
    "end"
   ]
  },
  {
   "cell_type": "code",
   "execution_count": 4,
   "id": "9b143903",
   "metadata": {},
   "outputs": [
    {
     "data": {
      "text/html": [
       "<div><div style = \"float: left;\"><span>8×7 DataFrame</span></div><div style = \"clear: both;\"></div></div><div class = \"data-frame\" style = \"overflow-x: scroll;\"><table class = \"data-frame\" style = \"margin-bottom: 6px;\"><thead><tr class = \"header\"><th class = \"rowNumber\" style = \"font-weight: bold; text-align: right;\">Row</th><th style = \"text-align: left;\">variable</th><th style = \"text-align: left;\">mean</th><th style = \"text-align: left;\">min</th><th style = \"text-align: left;\">median</th><th style = \"text-align: left;\">max</th><th style = \"text-align: left;\">nmissing</th><th style = \"text-align: left;\">eltype</th></tr><tr class = \"subheader headerLastRow\"><th class = \"rowNumber\" style = \"font-weight: bold; text-align: right;\"></th><th title = \"Symbol\" style = \"text-align: left;\">Symbol</th><th title = \"Union{Nothing, Float64}\" style = \"text-align: left;\">Union…</th><th title = \"Any\" style = \"text-align: left;\">Any</th><th title = \"Any\" style = \"text-align: left;\">Any</th><th title = \"Any\" style = \"text-align: left;\">Any</th><th title = \"Int64\" style = \"text-align: left;\">Int64</th><th title = \"DataType\" style = \"text-align: left;\">DataType</th></tr></thead><tbody><tr><td class = \"rowNumber\" style = \"font-weight: bold; text-align: right;\">1</td><td style = \"text-align: left;\">datetime</td><td style = \"font-style: italic; text-align: left;\"></td><td style = \"text-align: left;\">2021-04-01T00:30:00</td><td style = \"text-align: left;\">2021-12-12T12:15:00</td><td style = \"text-align: left;\">2022-08-25T00:00:00</td><td style = \"text-align: right;\">0</td><td style = \"text-align: left;\">DateTime</td></tr><tr><td class = \"rowNumber\" style = \"font-weight: bold; text-align: right;\">2</td><td style = \"text-align: left;\">BTC</td><td style = \"text-align: left;\">41357.5</td><td style = \"text-align: left;\">17719.5</td><td style = \"text-align: left;\">41463.4</td><td style = \"text-align: left;\">68633.7</td><td style = \"text-align: right;\">0</td><td style = \"text-align: left;\">Float64</td></tr><tr><td class = \"rowNumber\" style = \"font-weight: bold; text-align: right;\">3</td><td style = \"text-align: left;\">ETH</td><td style = \"text-align: left;\">2787.61</td><td style = \"text-align: left;\">902.28</td><td style = \"text-align: left;\">2791.03</td><td style = \"text-align: left;\">4846.71</td><td style = \"text-align: right;\">0</td><td style = \"text-align: left;\">Float64</td></tr><tr><td class = \"rowNumber\" style = \"font-weight: bold; text-align: right;\">4</td><td style = \"text-align: left;\">ADA</td><td style = \"text-align: left;\">1.29892</td><td style = \"text-align: left;\">0.4059</td><td style = \"text-align: left;\">1.24</td><td style = \"text-align: left;\">3.095</td><td style = \"text-align: right;\">0</td><td style = \"text-align: left;\">Float64</td></tr><tr><td class = \"rowNumber\" style = \"font-weight: bold; text-align: right;\">5</td><td style = \"text-align: left;\">ATOM</td><td style = \"text-align: left;\">21.7201</td><td style = \"text-align: left;\">5.63</td><td style = \"text-align: left;\">22.33</td><td style = \"text-align: left;\">44.33</td><td style = \"text-align: right;\">0</td><td style = \"text-align: left;\">Float64</td></tr><tr><td class = \"rowNumber\" style = \"font-weight: bold; text-align: right;\">6</td><td style = \"text-align: left;\">BNB</td><td style = \"text-align: left;\">404.175</td><td style = \"text-align: left;\">186.1</td><td style = \"text-align: left;\">394.255</td><td style = \"text-align: left;\">689.12</td><td style = \"text-align: right;\">0</td><td style = \"text-align: left;\">Float64</td></tr><tr><td class = \"rowNumber\" style = \"font-weight: bold; text-align: right;\">7</td><td style = \"text-align: left;\">DOGE</td><td style = \"text-align: left;\">0.189377</td><td style = \"text-align: left;\">0.04985</td><td style = \"text-align: left;\">0.1712</td><td style = \"text-align: left;\">0.73623</td><td style = \"text-align: right;\">0</td><td style = \"text-align: left;\">Float64</td></tr><tr><td class = \"rowNumber\" style = \"font-weight: bold; text-align: right;\">8</td><td style = \"text-align: left;\">LTC</td><td style = \"text-align: left;\">143.663</td><td style = \"text-align: left;\">40.6</td><td style = \"text-align: left;\">138.005</td><td style = \"text-align: left;\">409.84</td><td style = \"text-align: right;\">0</td><td style = \"text-align: left;\">Float64</td></tr></tbody></table></div>"
      ],
      "text/latex": [
       "\\begin{tabular}{r|cccccc}\n",
       "\t& variable & mean & min & median & max & \\\\\n",
       "\t\\hline\n",
       "\t& Symbol & Union… & Any & Any & Any & \\\\\n",
       "\t\\hline\n",
       "\t1 & datetime &  & 2021-04-01T00:30:00 & 2021-12-12T12:15:00 & 2022-08-25T00:00:00 & $\\dots$ \\\\\n",
       "\t2 & BTC & 41357.5 & 17719.5 & 41463.4 & 68633.7 & $\\dots$ \\\\\n",
       "\t3 & ETH & 2787.61 & 902.28 & 2791.03 & 4846.71 & $\\dots$ \\\\\n",
       "\t4 & ADA & 1.29892 & 0.4059 & 1.24 & 3.095 & $\\dots$ \\\\\n",
       "\t5 & ATOM & 21.7201 & 5.63 & 22.33 & 44.33 & $\\dots$ \\\\\n",
       "\t6 & BNB & 404.175 & 186.1 & 394.255 & 689.12 & $\\dots$ \\\\\n",
       "\t7 & DOGE & 0.189377 & 0.04985 & 0.1712 & 0.73623 & $\\dots$ \\\\\n",
       "\t8 & LTC & 143.663 & 40.6 & 138.005 & 409.84 & $\\dots$ \\\\\n",
       "\\end{tabular}\n"
      ],
      "text/plain": [
       "\u001b[1m8×7 DataFrame\u001b[0m\n",
       "\u001b[1m Row \u001b[0m│\u001b[1m variable \u001b[0m\u001b[1m mean     \u001b[0m\u001b[1m min                 \u001b[0m\u001b[1m median              \u001b[0m\u001b[1m max      \u001b[0m ⋯\n",
       "     │\u001b[90m Symbol   \u001b[0m\u001b[90m Union…   \u001b[0m\u001b[90m Any                 \u001b[0m\u001b[90m Any                 \u001b[0m\u001b[90m Any      \u001b[0m ⋯\n",
       "─────┼──────────────────────────────────────────────────────────────────────────\n",
       "   1 │ datetime \u001b[90m          \u001b[0m 2021-04-01T00:30:00  2021-12-12T12:15:00  2022-08-2 ⋯\n",
       "   2 │ BTC       41357.5   17719.5              41463.4              68633.7\n",
       "   3 │ ETH       2787.61   902.28               2791.03              4846.71\n",
       "   4 │ ADA       1.29892   0.4059               1.24                 3.095\n",
       "   5 │ ATOM      21.7201   5.63                 22.33                44.33     ⋯\n",
       "   6 │ BNB       404.175   186.1                394.255              689.12\n",
       "   7 │ DOGE      0.189377  0.04985              0.1712               0.73623\n",
       "   8 │ LTC       143.663   40.6                 138.005              409.84\n",
       "\u001b[36m                                                               3 columns omitted\u001b[0m"
      ]
     },
     "execution_count": 4,
     "metadata": {},
     "output_type": "execute_result"
    }
   ],
   "source": [
    "df = data[1]\n",
    "for d in data[2:end]\n",
    "    df = innerjoin(df, d, on=:datetime)\n",
    "end\n",
    "dropmissing!(df)\n",
    "describe(df)"
   ]
  },
  {
   "cell_type": "markdown",
   "id": "3dc2c30f",
   "metadata": {},
   "source": [
    "## Features\n",
    "We use statistical moments of order upto four of past returns as features. This implies a features vector of length $M \\times 4$. One could treat this as an image apply a CNN architecture. We consider a simple MLP architecture for this example."
   ]
  },
  {
   "cell_type": "code",
   "execution_count": 10,
   "id": "e81fcb46",
   "metadata": {},
   "outputs": [
    {
     "data": {
      "text/plain": [
       "features (generic function with 2 methods)"
      ]
     },
     "execution_count": 10,
     "metadata": {},
     "output_type": "execute_result"
    }
   ],
   "source": [
    "features(x::Vector{Float64}) = [f(x) for f in [mean, u->moment(u,2), u->moment(u,3), \n",
    "            u->moment(u,4)]]\n",
    "features(x::Matrix{Float64}) = reduce(vcat, [features(x[:,i]) for i in 1:size(x,2)])"
   ]
  },
  {
   "cell_type": "markdown",
   "id": "0e317fa1",
   "metadata": {},
   "source": [
    "Precompute features and returns. We use an observation period of _obs_ bars to compute features. We hold the portfolio for a period of _hold_ bars."
   ]
  },
  {
   "cell_type": "code",
   "execution_count": 11,
   "id": "f41146f6",
   "metadata": {},
   "outputs": [
    {
     "data": {
      "text/plain": [
       "((28, 2446), (7, 2446))"
      ]
     },
     "execution_count": 11,
     "metadata": {},
     "output_type": "execute_result"
    }
   ],
   "source": [
    "obs, hold = 60, 10\n",
    "rx = diff(log.(Matrix(df[:, 2:end])), dims=1)\n",
    "T = size(rx,1)\n",
    "rng = obs:hold:T-hold\n",
    "fx = zeros(4 * nassets, length(rng))\n",
    "r = zeros(nassets,length(rng))\n",
    "for (i,t) ∈ enumerate(rng)\n",
    "    fx[:,i] .= vec(features(rx[t-obs+1:t,:]))\n",
    "    r[:,i] .= vec(exp.(sum(rx[t+1:t+hold, :], dims=1)) .- 1)\n",
    "end\n",
    "size(fx), size(r)"
   ]
  },
  {
   "cell_type": "markdown",
   "id": "c692ce98",
   "metadata": {},
   "source": [
    "## Loss Function"
   ]
  },
  {
   "cell_type": "code",
   "execution_count": 5,
   "id": "5793e984",
   "metadata": {},
   "outputs": [
    {
     "data": {
      "text/plain": [
       "mvo (generic function with 1 method)"
      ]
     },
     "execution_count": 5,
     "metadata": {},
     "output_type": "execute_result"
    }
   ],
   "source": [
    "function mvo(model, fx, r; γ=1.0, c=0.0005)\n",
    "    w = model(fx)\n",
    "    ret = sum(w .* r, dims=1)\n",
    "    u = γ*0.5*var(ret) - mean(ret) + c * sum(abs.(diff(w, dims=2)))/(size(w,2)-1)\n",
    "    return u\n",
    "end"
   ]
  },
  {
   "cell_type": "markdown",
   "id": "20a0b784",
   "metadata": {},
   "source": [
    "## Performance Measures\n",
    "Sharpe ratio and max drawdown are standard performance measures of trading strategies."
   ]
  },
  {
   "cell_type": "code",
   "execution_count": 6,
   "id": "1c24f46d",
   "metadata": {},
   "outputs": [
    {
     "data": {
      "text/plain": [
       "sharpe (generic function with 1 method)"
      ]
     },
     "execution_count": 6,
     "metadata": {},
     "output_type": "execute_result"
    }
   ],
   "source": [
    "function sharpe(model, fx, r; afac=1.0)\n",
    "    w = model(fx)\n",
    "    ret = sum(w.*r, dims=1)\n",
    "    return sqrt(afac)*mean(ret)/std(ret)\n",
    "end"
   ]
  },
  {
   "cell_type": "code",
   "execution_count": 7,
   "id": "5acaa842",
   "metadata": {},
   "outputs": [
    {
     "data": {
      "text/plain": [
       "maxdd (generic function with 1 method)"
      ]
     },
     "execution_count": 7,
     "metadata": {},
     "output_type": "execute_result"
    }
   ],
   "source": [
    "function maxdd(r)\n",
    "    x = cumprod(1.0 .+ r)\n",
    "    return minimum(x ./ accumulate(max, x) .- 1.0)\n",
    "end"
   ]
  },
  {
   "cell_type": "markdown",
   "id": "9ee5b925",
   "metadata": {},
   "source": [
    "## Training"
   ]
  },
  {
   "cell_type": "code",
   "execution_count": 12,
   "id": "d3c0fddf",
   "metadata": {},
   "outputs": [
    {
     "data": {
      "text/plain": [
       "(28, 1712)"
      ]
     },
     "execution_count": 12,
     "metadata": {},
     "output_type": "execute_result"
    }
   ],
   "source": [
    "tfrac = 0.7\n",
    "N = floor(Int, tfrac * size(fx,2))\n",
    "fx_train, fx_test = fx[:,1:N], fx[:,N+1:end]\n",
    "r_train, r_test = r[:,1:N], r[:,N+1:end]\n",
    "size(fx_train)"
   ]
  },
  {
   "cell_type": "markdown",
   "id": "35ec1a71",
   "metadata": {},
   "source": [
    "$\\gamma$ is the risk-aversion coefficient, _c_ is the transaction cost in %, $\\eta$ is the learning rate and _cutoff_ is the minimum annualised sharpe ratio at which we terminate learning. _afac_ is the scaling factor to compute annualised sharpe ratio."
   ]
  },
  {
   "cell_type": "code",
   "execution_count": 22,
   "id": "9275045e",
   "metadata": {},
   "outputs": [
    {
     "data": {
      "text/plain": [
       "1752.0"
      ]
     },
     "execution_count": 22,
     "metadata": {},
     "output_type": "execute_result"
    }
   ],
   "source": [
    "epochs, η, γ, c = 500, 0.01, 0.7, 0.0002\n",
    "cutoff = 2.0\n",
    "afac = 365*48/hold"
   ]
  },
  {
   "cell_type": "markdown",
   "id": "13ff610e",
   "metadata": {},
   "source": [
    "We use a simple MLP with one hidden layer."
   ]
  },
  {
   "cell_type": "code",
   "execution_count": 23,
   "id": "0dbf1b82",
   "metadata": {},
   "outputs": [
    {
     "data": {
      "text/plain": [
       "Chain(\n",
       "  Dense(28 => 64, relu),                \u001b[90m# 1_856 parameters\u001b[39m\n",
       "  Dense(64 => 32, relu),                \u001b[90m# 2_080 parameters\u001b[39m\n",
       "  Dense(32 => 7),                       \u001b[90m# 231 parameters\u001b[39m\n",
       "  NNlib.softmax,\n",
       ") \u001b[90m                  # Total: 6 arrays, \u001b[39m4_167 parameters, 16.652 KiB."
      ]
     },
     "execution_count": 23,
     "metadata": {},
     "output_type": "execute_result"
    }
   ],
   "source": [
    "model = Chain(Dense(4*nassets,64,relu), Dense(64,32,relu), Dense(32,nassets), softmax)"
   ]
  },
  {
   "cell_type": "code",
   "execution_count": 24,
   "id": "a8fb6a0b",
   "metadata": {},
   "outputs": [
    {
     "data": {
      "text/plain": [
       "1.877416698"
      ]
     },
     "execution_count": 24,
     "metadata": {},
     "output_type": "execute_result"
    }
   ],
   "source": [
    "ps = Flux.params(model)\n",
    "loss(x,y) = mvo(model, x, y, γ=γ, c=c)\n",
    "@elapsed for i ∈ 1:epochs\n",
    "    gs = Flux.gradient(ps) do\n",
    "        loss(fx_train, r_train)\n",
    "    end\n",
    "    Flux.Optimise.update!(ADAM(η), ps, gs)\n",
    "    if sharpe(model, fx, r, afac=afac) > cutoff\n",
    "        break\n",
    "    end\n",
    "end"
   ]
  },
  {
   "cell_type": "markdown",
   "id": "1e933f1e",
   "metadata": {},
   "source": [
    "Evaluate performance of the model."
   ]
  },
  {
   "cell_type": "code",
   "execution_count": 25,
   "id": "8538aa54",
   "metadata": {},
   "outputs": [
    {
     "data": {
      "text/plain": [
       "(sharpe = 1.2903478293670367, maxdd = -0.774801178333044)"
      ]
     },
     "execution_count": 25,
     "metadata": {},
     "output_type": "execute_result"
    }
   ],
   "source": [
    "w = model(fx)\n",
    "tc = c .* [0.0 sum(abs.(diff(w, dims=2)), dims=1)]\n",
    "pnl = vec(sum(w.*r, dims=1) .- tc)\n",
    "(sharpe = sqrt(afac)*mean(pnl)/std(pnl), maxdd = maxdd(pnl))"
   ]
  },
  {
   "cell_type": "code",
   "execution_count": 26,
   "id": "07851745",
   "metadata": {},
   "outputs": [
    {
     "data": {
      "image/svg+xml": [
       "<?xml version=\"1.0\" encoding=\"utf-8\"?>\n",
       "<svg xmlns=\"http://www.w3.org/2000/svg\" xmlns:xlink=\"http://www.w3.org/1999/xlink\" width=\"600\" height=\"400\" viewBox=\"0 0 2400 1600\">\n",
       "<defs>\n",
       "  <clipPath id=\"clip730\">\n",
       "    <rect x=\"0\" y=\"0\" width=\"2400\" height=\"1600\"/>\n",
       "  </clipPath>\n",
       "</defs>\n",
       "<path clip-path=\"url(#clip730)\" d=\"\n",
       "M0 1600 L2400 1600 L2400 0 L0 0  Z\n",
       "  \" fill=\"#ffffff\" fill-rule=\"evenodd\" fill-opacity=\"1\"/>\n",
       "<defs>\n",
       "  <clipPath id=\"clip731\">\n",
       "    <rect x=\"480\" y=\"0\" width=\"1681\" height=\"1600\"/>\n",
       "  </clipPath>\n",
       "</defs>\n",
       "<path clip-path=\"url(#clip730)\" d=\"\n",
       "M175.445 1486.45 L2352.76 1486.45 L2352.76 47.2441 L175.445 47.2441  Z\n",
       "  \" fill=\"#ffffff\" fill-rule=\"evenodd\" fill-opacity=\"1\"/>\n",
       "<defs>\n",
       "  <clipPath id=\"clip732\">\n",
       "    <rect x=\"175\" y=\"47\" width=\"2178\" height=\"1440\"/>\n",
       "  </clipPath>\n",
       "</defs>\n",
       "<polyline clip-path=\"url(#clip732)\" style=\"stroke:#000000; stroke-linecap:round; stroke-linejoin:round; stroke-width:2; stroke-opacity:0.1; fill:none\" points=\"\n",
       "  236.227,1486.45 236.227,47.2441 \n",
       "  \"/>\n",
       "<polyline clip-path=\"url(#clip732)\" style=\"stroke:#000000; stroke-linecap:round; stroke-linejoin:round; stroke-width:2; stroke-opacity:0.1; fill:none\" points=\"\n",
       "  656.282,1486.45 656.282,47.2441 \n",
       "  \"/>\n",
       "<polyline clip-path=\"url(#clip732)\" style=\"stroke:#000000; stroke-linecap:round; stroke-linejoin:round; stroke-width:2; stroke-opacity:0.1; fill:none\" points=\"\n",
       "  1076.34,1486.45 1076.34,47.2441 \n",
       "  \"/>\n",
       "<polyline clip-path=\"url(#clip732)\" style=\"stroke:#000000; stroke-linecap:round; stroke-linejoin:round; stroke-width:2; stroke-opacity:0.1; fill:none\" points=\"\n",
       "  1496.39,1486.45 1496.39,47.2441 \n",
       "  \"/>\n",
       "<polyline clip-path=\"url(#clip732)\" style=\"stroke:#000000; stroke-linecap:round; stroke-linejoin:round; stroke-width:2; stroke-opacity:0.1; fill:none\" points=\"\n",
       "  1916.45,1486.45 1916.45,47.2441 \n",
       "  \"/>\n",
       "<polyline clip-path=\"url(#clip732)\" style=\"stroke:#000000; stroke-linecap:round; stroke-linejoin:round; stroke-width:2; stroke-opacity:0.1; fill:none\" points=\"\n",
       "  2336.5,1486.45 2336.5,47.2441 \n",
       "  \"/>\n",
       "<polyline clip-path=\"url(#clip730)\" style=\"stroke:#000000; stroke-linecap:round; stroke-linejoin:round; stroke-width:4; stroke-opacity:1; fill:none\" points=\"\n",
       "  175.445,1486.45 2352.76,1486.45 \n",
       "  \"/>\n",
       "<polyline clip-path=\"url(#clip730)\" style=\"stroke:#000000; stroke-linecap:round; stroke-linejoin:round; stroke-width:4; stroke-opacity:1; fill:none\" points=\"\n",
       "  236.227,1486.45 236.227,1467.55 \n",
       "  \"/>\n",
       "<polyline clip-path=\"url(#clip730)\" style=\"stroke:#000000; stroke-linecap:round; stroke-linejoin:round; stroke-width:4; stroke-opacity:1; fill:none\" points=\"\n",
       "  656.282,1486.45 656.282,1467.55 \n",
       "  \"/>\n",
       "<polyline clip-path=\"url(#clip730)\" style=\"stroke:#000000; stroke-linecap:round; stroke-linejoin:round; stroke-width:4; stroke-opacity:1; fill:none\" points=\"\n",
       "  1076.34,1486.45 1076.34,1467.55 \n",
       "  \"/>\n",
       "<polyline clip-path=\"url(#clip730)\" style=\"stroke:#000000; stroke-linecap:round; stroke-linejoin:round; stroke-width:4; stroke-opacity:1; fill:none\" points=\"\n",
       "  1496.39,1486.45 1496.39,1467.55 \n",
       "  \"/>\n",
       "<polyline clip-path=\"url(#clip730)\" style=\"stroke:#000000; stroke-linecap:round; stroke-linejoin:round; stroke-width:4; stroke-opacity:1; fill:none\" points=\"\n",
       "  1916.45,1486.45 1916.45,1467.55 \n",
       "  \"/>\n",
       "<polyline clip-path=\"url(#clip730)\" style=\"stroke:#000000; stroke-linecap:round; stroke-linejoin:round; stroke-width:4; stroke-opacity:1; fill:none\" points=\"\n",
       "  2336.5,1486.45 2336.5,1467.55 \n",
       "  \"/>\n",
       "<path clip-path=\"url(#clip730)\" d=\"M236.227 1517.37 Q232.616 1517.37 230.787 1520.93 Q228.982 1524.47 228.982 1531.6 Q228.982 1538.71 230.787 1542.27 Q232.616 1545.82 236.227 1545.82 Q239.861 1545.82 241.667 1542.27 Q243.496 1538.71 243.496 1531.6 Q243.496 1524.47 241.667 1520.93 Q239.861 1517.37 236.227 1517.37 M236.227 1513.66 Q242.037 1513.66 245.093 1518.27 Q248.171 1522.85 248.171 1531.6 Q248.171 1540.33 245.093 1544.94 Q242.037 1549.52 236.227 1549.52 Q230.417 1549.52 227.338 1544.94 Q224.283 1540.33 224.283 1531.6 Q224.283 1522.85 227.338 1518.27 Q230.417 1513.66 236.227 1513.66 Z\" fill=\"#000000\" fill-rule=\"evenodd\" fill-opacity=\"1\" /><path clip-path=\"url(#clip730)\" d=\"M615.9 1514.29 L634.256 1514.29 L634.256 1518.22 L620.182 1518.22 L620.182 1526.7 Q621.201 1526.35 622.219 1526.19 Q623.238 1526 624.256 1526 Q630.043 1526 633.423 1529.17 Q636.803 1532.34 636.803 1537.76 Q636.803 1543.34 633.33 1546.44 Q629.858 1549.52 623.539 1549.52 Q621.363 1549.52 619.094 1549.15 Q616.849 1548.78 614.442 1548.04 L614.442 1543.34 Q616.525 1544.47 618.747 1545.03 Q620.969 1545.58 623.446 1545.58 Q627.451 1545.58 629.789 1543.48 Q632.127 1541.37 632.127 1537.76 Q632.127 1534.15 629.789 1532.04 Q627.451 1529.94 623.446 1529.94 Q621.571 1529.94 619.696 1530.35 Q617.844 1530.77 615.9 1531.65 L615.9 1514.29 Z\" fill=\"#000000\" fill-rule=\"evenodd\" fill-opacity=\"1\" /><path clip-path=\"url(#clip730)\" d=\"M656.015 1517.37 Q652.404 1517.37 650.576 1520.93 Q648.77 1524.47 648.77 1531.6 Q648.77 1538.71 650.576 1542.27 Q652.404 1545.82 656.015 1545.82 Q659.65 1545.82 661.455 1542.27 Q663.284 1538.71 663.284 1531.6 Q663.284 1524.47 661.455 1520.93 Q659.65 1517.37 656.015 1517.37 M656.015 1513.66 Q661.826 1513.66 664.881 1518.27 Q667.96 1522.85 667.96 1531.6 Q667.96 1540.33 664.881 1544.94 Q661.826 1549.52 656.015 1549.52 Q650.205 1549.52 647.127 1544.94 Q644.071 1540.33 644.071 1531.6 Q644.071 1522.85 647.127 1518.27 Q650.205 1513.66 656.015 1513.66 Z\" fill=\"#000000\" fill-rule=\"evenodd\" fill-opacity=\"1\" /><path clip-path=\"url(#clip730)\" d=\"M686.177 1517.37 Q682.566 1517.37 680.738 1520.93 Q678.932 1524.47 678.932 1531.6 Q678.932 1538.71 680.738 1542.27 Q682.566 1545.82 686.177 1545.82 Q689.812 1545.82 691.617 1542.27 Q693.446 1538.71 693.446 1531.6 Q693.446 1524.47 691.617 1520.93 Q689.812 1517.37 686.177 1517.37 M686.177 1513.66 Q691.987 1513.66 695.043 1518.27 Q698.122 1522.85 698.122 1531.6 Q698.122 1540.33 695.043 1544.94 Q691.987 1549.52 686.177 1549.52 Q680.367 1549.52 677.288 1544.94 Q674.233 1540.33 674.233 1531.6 Q674.233 1522.85 677.288 1518.27 Q680.367 1513.66 686.177 1513.66 Z\" fill=\"#000000\" fill-rule=\"evenodd\" fill-opacity=\"1\" /><path clip-path=\"url(#clip730)\" d=\"M1020.86 1544.91 L1028.5 1544.91 L1028.5 1518.55 L1020.19 1520.21 L1020.19 1515.95 L1028.45 1514.29 L1033.13 1514.29 L1033.13 1544.91 L1040.77 1544.91 L1040.77 1548.85 L1020.86 1548.85 L1020.86 1544.91 Z\" fill=\"#000000\" fill-rule=\"evenodd\" fill-opacity=\"1\" /><path clip-path=\"url(#clip730)\" d=\"M1060.21 1517.37 Q1056.6 1517.37 1054.77 1520.93 Q1052.97 1524.47 1052.97 1531.6 Q1052.97 1538.71 1054.77 1542.27 Q1056.6 1545.82 1060.21 1545.82 Q1063.85 1545.82 1065.65 1542.27 Q1067.48 1538.71 1067.48 1531.6 Q1067.48 1524.47 1065.65 1520.93 Q1063.85 1517.37 1060.21 1517.37 M1060.21 1513.66 Q1066.02 1513.66 1069.08 1518.27 Q1072.16 1522.85 1072.16 1531.6 Q1072.16 1540.33 1069.08 1544.94 Q1066.02 1549.52 1060.21 1549.52 Q1054.4 1549.52 1051.32 1544.94 Q1048.27 1540.33 1048.27 1531.6 Q1048.27 1522.85 1051.32 1518.27 Q1054.4 1513.66 1060.21 1513.66 Z\" fill=\"#000000\" fill-rule=\"evenodd\" fill-opacity=\"1\" /><path clip-path=\"url(#clip730)\" d=\"M1090.38 1517.37 Q1086.76 1517.37 1084.94 1520.93 Q1083.13 1524.47 1083.13 1531.6 Q1083.13 1538.71 1084.94 1542.27 Q1086.76 1545.82 1090.38 1545.82 Q1094.01 1545.82 1095.82 1542.27 Q1097.64 1538.71 1097.64 1531.6 Q1097.64 1524.47 1095.82 1520.93 Q1094.01 1517.37 1090.38 1517.37 M1090.38 1513.66 Q1096.19 1513.66 1099.24 1518.27 Q1102.32 1522.85 1102.32 1531.6 Q1102.32 1540.33 1099.24 1544.94 Q1096.19 1549.52 1090.38 1549.52 Q1084.57 1549.52 1081.49 1544.94 Q1078.43 1540.33 1078.43 1531.6 Q1078.43 1522.85 1081.49 1518.27 Q1084.57 1513.66 1090.38 1513.66 Z\" fill=\"#000000\" fill-rule=\"evenodd\" fill-opacity=\"1\" /><path clip-path=\"url(#clip730)\" d=\"M1120.54 1517.37 Q1116.93 1517.37 1115.1 1520.93 Q1113.29 1524.47 1113.29 1531.6 Q1113.29 1538.71 1115.1 1542.27 Q1116.93 1545.82 1120.54 1545.82 Q1124.17 1545.82 1125.98 1542.27 Q1127.81 1538.71 1127.81 1531.6 Q1127.81 1524.47 1125.98 1520.93 Q1124.17 1517.37 1120.54 1517.37 M1120.54 1513.66 Q1126.35 1513.66 1129.4 1518.27 Q1132.48 1522.85 1132.48 1531.6 Q1132.48 1540.33 1129.4 1544.94 Q1126.35 1549.52 1120.54 1549.52 Q1114.73 1549.52 1111.65 1544.94 Q1108.59 1540.33 1108.59 1531.6 Q1108.59 1522.85 1111.65 1518.27 Q1114.73 1513.66 1120.54 1513.66 Z\" fill=\"#000000\" fill-rule=\"evenodd\" fill-opacity=\"1\" /><path clip-path=\"url(#clip730)\" d=\"M1440.92 1544.91 L1448.56 1544.91 L1448.56 1518.55 L1440.25 1520.21 L1440.25 1515.95 L1448.51 1514.29 L1453.18 1514.29 L1453.18 1544.91 L1460.82 1544.91 L1460.82 1548.85 L1440.92 1548.85 L1440.92 1544.91 Z\" fill=\"#000000\" fill-rule=\"evenodd\" fill-opacity=\"1\" /><path clip-path=\"url(#clip730)\" d=\"M1470.31 1514.29 L1488.67 1514.29 L1488.67 1518.22 L1474.6 1518.22 L1474.6 1526.7 Q1475.62 1526.35 1476.63 1526.19 Q1477.65 1526 1478.67 1526 Q1484.46 1526 1487.84 1529.17 Q1491.22 1532.34 1491.22 1537.76 Q1491.22 1543.34 1487.74 1546.44 Q1484.27 1549.52 1477.95 1549.52 Q1475.78 1549.52 1473.51 1549.15 Q1471.26 1548.78 1468.86 1548.04 L1468.86 1543.34 Q1470.94 1544.47 1473.16 1545.03 Q1475.38 1545.58 1477.86 1545.58 Q1481.87 1545.58 1484.2 1543.48 Q1486.54 1541.37 1486.54 1537.76 Q1486.54 1534.15 1484.2 1532.04 Q1481.87 1529.94 1477.86 1529.94 Q1475.99 1529.94 1474.11 1530.35 Q1472.26 1530.77 1470.31 1531.65 L1470.31 1514.29 Z\" fill=\"#000000\" fill-rule=\"evenodd\" fill-opacity=\"1\" /><path clip-path=\"url(#clip730)\" d=\"M1510.43 1517.37 Q1506.82 1517.37 1504.99 1520.93 Q1503.18 1524.47 1503.18 1531.6 Q1503.18 1538.71 1504.99 1542.27 Q1506.82 1545.82 1510.43 1545.82 Q1514.06 1545.82 1515.87 1542.27 Q1517.7 1538.71 1517.7 1531.6 Q1517.7 1524.47 1515.87 1520.93 Q1514.06 1517.37 1510.43 1517.37 M1510.43 1513.66 Q1516.24 1513.66 1519.3 1518.27 Q1522.37 1522.85 1522.37 1531.6 Q1522.37 1540.33 1519.3 1544.94 Q1516.24 1549.52 1510.43 1549.52 Q1504.62 1549.52 1501.54 1544.94 Q1498.49 1540.33 1498.49 1531.6 Q1498.49 1522.85 1501.54 1518.27 Q1504.62 1513.66 1510.43 1513.66 Z\" fill=\"#000000\" fill-rule=\"evenodd\" fill-opacity=\"1\" /><path clip-path=\"url(#clip730)\" d=\"M1540.59 1517.37 Q1536.98 1517.37 1535.15 1520.93 Q1533.35 1524.47 1533.35 1531.6 Q1533.35 1538.71 1535.15 1542.27 Q1536.98 1545.82 1540.59 1545.82 Q1544.23 1545.82 1546.03 1542.27 Q1547.86 1538.71 1547.86 1531.6 Q1547.86 1524.47 1546.03 1520.93 Q1544.23 1517.37 1540.59 1517.37 M1540.59 1513.66 Q1546.4 1513.66 1549.46 1518.27 Q1552.54 1522.85 1552.54 1531.6 Q1552.54 1540.33 1549.46 1544.94 Q1546.4 1549.52 1540.59 1549.52 Q1534.78 1549.52 1531.7 1544.94 Q1528.65 1540.33 1528.65 1531.6 Q1528.65 1522.85 1531.7 1518.27 Q1534.78 1513.66 1540.59 1513.66 Z\" fill=\"#000000\" fill-rule=\"evenodd\" fill-opacity=\"1\" /><path clip-path=\"url(#clip730)\" d=\"M1865.06 1544.91 L1881.38 1544.91 L1881.38 1548.85 L1859.43 1548.85 L1859.43 1544.91 Q1862.09 1542.16 1866.68 1537.53 Q1871.28 1532.88 1872.46 1531.53 Q1874.71 1529.01 1875.59 1527.27 Q1876.49 1525.51 1876.49 1523.82 Q1876.49 1521.07 1874.55 1519.33 Q1872.63 1517.6 1869.52 1517.6 Q1867.33 1517.6 1864.87 1518.36 Q1862.44 1519.13 1859.66 1520.68 L1859.66 1515.95 Q1862.49 1514.82 1864.94 1514.24 Q1867.39 1513.66 1869.43 1513.66 Q1874.8 1513.66 1878 1516.35 Q1881.19 1519.03 1881.19 1523.52 Q1881.19 1525.65 1880.38 1527.57 Q1879.59 1529.47 1877.49 1532.07 Q1876.91 1532.74 1873.81 1535.95 Q1870.7 1539.15 1865.06 1544.91 Z\" fill=\"#000000\" fill-rule=\"evenodd\" fill-opacity=\"1\" /><path clip-path=\"url(#clip730)\" d=\"M1901.19 1517.37 Q1897.58 1517.37 1895.75 1520.93 Q1893.95 1524.47 1893.95 1531.6 Q1893.95 1538.71 1895.75 1542.27 Q1897.58 1545.82 1901.19 1545.82 Q1904.82 1545.82 1906.63 1542.27 Q1908.46 1538.71 1908.46 1531.6 Q1908.46 1524.47 1906.63 1520.93 Q1904.82 1517.37 1901.19 1517.37 M1901.19 1513.66 Q1907 1513.66 1910.06 1518.27 Q1913.14 1522.85 1913.14 1531.6 Q1913.14 1540.33 1910.06 1544.94 Q1907 1549.52 1901.19 1549.52 Q1895.38 1549.52 1892.3 1544.94 Q1889.25 1540.33 1889.25 1531.6 Q1889.25 1522.85 1892.3 1518.27 Q1895.38 1513.66 1901.19 1513.66 Z\" fill=\"#000000\" fill-rule=\"evenodd\" fill-opacity=\"1\" /><path clip-path=\"url(#clip730)\" d=\"M1931.35 1517.37 Q1927.74 1517.37 1925.91 1520.93 Q1924.11 1524.47 1924.11 1531.6 Q1924.11 1538.71 1925.91 1542.27 Q1927.74 1545.82 1931.35 1545.82 Q1934.99 1545.82 1936.79 1542.27 Q1938.62 1538.71 1938.62 1531.6 Q1938.62 1524.47 1936.79 1520.93 Q1934.99 1517.37 1931.35 1517.37 M1931.35 1513.66 Q1937.16 1513.66 1940.22 1518.27 Q1943.3 1522.85 1943.3 1531.6 Q1943.3 1540.33 1940.22 1544.94 Q1937.16 1549.52 1931.35 1549.52 Q1925.54 1549.52 1922.46 1544.94 Q1919.41 1540.33 1919.41 1531.6 Q1919.41 1522.85 1922.46 1518.27 Q1925.54 1513.66 1931.35 1513.66 Z\" fill=\"#000000\" fill-rule=\"evenodd\" fill-opacity=\"1\" /><path clip-path=\"url(#clip730)\" d=\"M1961.51 1517.37 Q1957.9 1517.37 1956.07 1520.93 Q1954.27 1524.47 1954.27 1531.6 Q1954.27 1538.71 1956.07 1542.27 Q1957.9 1545.82 1961.51 1545.82 Q1965.15 1545.82 1966.95 1542.27 Q1968.78 1538.71 1968.78 1531.6 Q1968.78 1524.47 1966.95 1520.93 Q1965.15 1517.37 1961.51 1517.37 M1961.51 1513.66 Q1967.32 1513.66 1970.38 1518.27 Q1973.46 1522.85 1973.46 1531.6 Q1973.46 1540.33 1970.38 1544.94 Q1967.32 1549.52 1961.51 1549.52 Q1955.7 1549.52 1952.63 1544.94 Q1949.57 1540.33 1949.57 1531.6 Q1949.57 1522.85 1952.63 1518.27 Q1955.7 1513.66 1961.51 1513.66 Z\" fill=\"#000000\" fill-rule=\"evenodd\" fill-opacity=\"1\" /><path clip-path=\"url(#clip730)\" d=\"M2285.11 1544.91 L2301.43 1544.91 L2301.43 1548.85 L2279.49 1548.85 L2279.49 1544.91 Q2282.15 1542.16 2286.73 1537.53 Q2291.34 1532.88 2292.52 1531.53 Q2294.76 1529.01 2295.64 1527.27 Q2296.55 1525.51 2296.55 1523.82 Q2296.55 1521.07 2294.6 1519.33 Q2292.68 1517.6 2289.58 1517.6 Q2287.38 1517.6 2284.93 1518.36 Q2282.5 1519.13 2279.72 1520.68 L2279.72 1515.95 Q2282.54 1514.82 2285 1514.24 Q2287.45 1513.66 2289.49 1513.66 Q2294.86 1513.66 2298.05 1516.35 Q2301.25 1519.03 2301.25 1523.52 Q2301.25 1525.65 2300.44 1527.57 Q2299.65 1529.47 2297.54 1532.07 Q2296.96 1532.74 2293.86 1535.95 Q2290.76 1539.15 2285.11 1544.91 Z\" fill=\"#000000\" fill-rule=\"evenodd\" fill-opacity=\"1\" /><path clip-path=\"url(#clip730)\" d=\"M2311.29 1514.29 L2329.65 1514.29 L2329.65 1518.22 L2315.57 1518.22 L2315.57 1526.7 Q2316.59 1526.35 2317.61 1526.19 Q2318.63 1526 2319.65 1526 Q2325.44 1526 2328.81 1529.17 Q2332.19 1532.34 2332.19 1537.76 Q2332.19 1543.34 2328.72 1546.44 Q2325.25 1549.52 2318.93 1549.52 Q2316.75 1549.52 2314.49 1549.15 Q2312.24 1548.78 2309.83 1548.04 L2309.83 1543.34 Q2311.92 1544.47 2314.14 1545.03 Q2316.36 1545.58 2318.84 1545.58 Q2322.84 1545.58 2325.18 1543.48 Q2327.52 1541.37 2327.52 1537.76 Q2327.52 1534.15 2325.18 1532.04 Q2322.84 1529.94 2318.84 1529.94 Q2316.96 1529.94 2315.09 1530.35 Q2313.24 1530.77 2311.29 1531.65 L2311.29 1514.29 Z\" fill=\"#000000\" fill-rule=\"evenodd\" fill-opacity=\"1\" /><path clip-path=\"url(#clip730)\" d=\"M2351.41 1517.37 Q2347.8 1517.37 2345.97 1520.93 Q2344.16 1524.47 2344.16 1531.6 Q2344.16 1538.71 2345.97 1542.27 Q2347.8 1545.82 2351.41 1545.82 Q2355.04 1545.82 2356.85 1542.27 Q2358.68 1538.71 2358.68 1531.6 Q2358.68 1524.47 2356.85 1520.93 Q2355.04 1517.37 2351.41 1517.37 M2351.41 1513.66 Q2357.22 1513.66 2360.27 1518.27 Q2363.35 1522.85 2363.35 1531.6 Q2363.35 1540.33 2360.27 1544.94 Q2357.22 1549.52 2351.41 1549.52 Q2345.6 1549.52 2342.52 1544.94 Q2339.46 1540.33 2339.46 1531.6 Q2339.46 1522.85 2342.52 1518.27 Q2345.6 1513.66 2351.41 1513.66 Z\" fill=\"#000000\" fill-rule=\"evenodd\" fill-opacity=\"1\" /><path clip-path=\"url(#clip730)\" d=\"M2381.57 1517.37 Q2377.96 1517.37 2376.13 1520.93 Q2374.32 1524.47 2374.32 1531.6 Q2374.32 1538.71 2376.13 1542.27 Q2377.96 1545.82 2381.57 1545.82 Q2385.2 1545.82 2387.01 1542.27 Q2388.84 1538.71 2388.84 1531.6 Q2388.84 1524.47 2387.01 1520.93 Q2385.2 1517.37 2381.57 1517.37 M2381.57 1513.66 Q2387.38 1513.66 2390.43 1518.27 Q2393.51 1522.85 2393.51 1531.6 Q2393.51 1540.33 2390.43 1544.94 Q2387.38 1549.52 2381.57 1549.52 Q2375.76 1549.52 2372.68 1544.94 Q2369.62 1540.33 2369.62 1531.6 Q2369.62 1522.85 2372.68 1518.27 Q2375.76 1513.66 2381.57 1513.66 Z\" fill=\"#000000\" fill-rule=\"evenodd\" fill-opacity=\"1\" /><polyline clip-path=\"url(#clip732)\" style=\"stroke:#000000; stroke-linecap:round; stroke-linejoin:round; stroke-width:2; stroke-opacity:0.1; fill:none\" points=\"\n",
       "  175.445,1444.93 2352.76,1444.93 \n",
       "  \"/>\n",
       "<polyline clip-path=\"url(#clip732)\" style=\"stroke:#000000; stroke-linecap:round; stroke-linejoin:round; stroke-width:2; stroke-opacity:0.1; fill:none\" points=\"\n",
       "  175.445,1239.83 2352.76,1239.83 \n",
       "  \"/>\n",
       "<polyline clip-path=\"url(#clip732)\" style=\"stroke:#000000; stroke-linecap:round; stroke-linejoin:round; stroke-width:2; stroke-opacity:0.1; fill:none\" points=\"\n",
       "  175.445,1034.73 2352.76,1034.73 \n",
       "  \"/>\n",
       "<polyline clip-path=\"url(#clip732)\" style=\"stroke:#000000; stroke-linecap:round; stroke-linejoin:round; stroke-width:2; stroke-opacity:0.1; fill:none\" points=\"\n",
       "  175.445,829.629 2352.76,829.629 \n",
       "  \"/>\n",
       "<polyline clip-path=\"url(#clip732)\" style=\"stroke:#000000; stroke-linecap:round; stroke-linejoin:round; stroke-width:2; stroke-opacity:0.1; fill:none\" points=\"\n",
       "  175.445,624.527 2352.76,624.527 \n",
       "  \"/>\n",
       "<polyline clip-path=\"url(#clip732)\" style=\"stroke:#000000; stroke-linecap:round; stroke-linejoin:round; stroke-width:2; stroke-opacity:0.1; fill:none\" points=\"\n",
       "  175.445,419.426 2352.76,419.426 \n",
       "  \"/>\n",
       "<polyline clip-path=\"url(#clip732)\" style=\"stroke:#000000; stroke-linecap:round; stroke-linejoin:round; stroke-width:2; stroke-opacity:0.1; fill:none\" points=\"\n",
       "  175.445,214.324 2352.76,214.324 \n",
       "  \"/>\n",
       "<polyline clip-path=\"url(#clip730)\" style=\"stroke:#000000; stroke-linecap:round; stroke-linejoin:round; stroke-width:4; stroke-opacity:1; fill:none\" points=\"\n",
       "  175.445,1486.45 175.445,47.2441 \n",
       "  \"/>\n",
       "<polyline clip-path=\"url(#clip730)\" style=\"stroke:#000000; stroke-linecap:round; stroke-linejoin:round; stroke-width:4; stroke-opacity:1; fill:none\" points=\"\n",
       "  175.445,1444.93 194.343,1444.93 \n",
       "  \"/>\n",
       "<polyline clip-path=\"url(#clip730)\" style=\"stroke:#000000; stroke-linecap:round; stroke-linejoin:round; stroke-width:4; stroke-opacity:1; fill:none\" points=\"\n",
       "  175.445,1239.83 194.343,1239.83 \n",
       "  \"/>\n",
       "<polyline clip-path=\"url(#clip730)\" style=\"stroke:#000000; stroke-linecap:round; stroke-linejoin:round; stroke-width:4; stroke-opacity:1; fill:none\" points=\"\n",
       "  175.445,1034.73 194.343,1034.73 \n",
       "  \"/>\n",
       "<polyline clip-path=\"url(#clip730)\" style=\"stroke:#000000; stroke-linecap:round; stroke-linejoin:round; stroke-width:4; stroke-opacity:1; fill:none\" points=\"\n",
       "  175.445,829.629 194.343,829.629 \n",
       "  \"/>\n",
       "<polyline clip-path=\"url(#clip730)\" style=\"stroke:#000000; stroke-linecap:round; stroke-linejoin:round; stroke-width:4; stroke-opacity:1; fill:none\" points=\"\n",
       "  175.445,624.527 194.343,624.527 \n",
       "  \"/>\n",
       "<polyline clip-path=\"url(#clip730)\" style=\"stroke:#000000; stroke-linecap:round; stroke-linejoin:round; stroke-width:4; stroke-opacity:1; fill:none\" points=\"\n",
       "  175.445,419.426 194.343,419.426 \n",
       "  \"/>\n",
       "<polyline clip-path=\"url(#clip730)\" style=\"stroke:#000000; stroke-linecap:round; stroke-linejoin:round; stroke-width:4; stroke-opacity:1; fill:none\" points=\"\n",
       "  175.445,214.324 194.343,214.324 \n",
       "  \"/>\n",
       "<path clip-path=\"url(#clip730)\" d=\"M119.538 1458.28 L127.177 1458.28 L127.177 1431.91 L118.867 1433.58 L118.867 1429.32 L127.13 1427.65 L131.806 1427.65 L131.806 1458.28 L139.445 1458.28 L139.445 1462.21 L119.538 1462.21 L119.538 1458.28 Z\" fill=\"#000000\" fill-rule=\"evenodd\" fill-opacity=\"1\" /><path clip-path=\"url(#clip730)\" d=\"M123.126 1253.18 L139.445 1253.18 L139.445 1257.11 L117.501 1257.11 L117.501 1253.18 Q120.163 1250.42 124.746 1245.79 Q129.353 1241.14 130.533 1239.8 Q132.779 1237.27 133.658 1235.54 Q134.561 1233.78 134.561 1232.09 Q134.561 1229.33 132.617 1227.6 Q130.695 1225.86 127.593 1225.86 Q125.394 1225.86 122.941 1226.63 Q120.51 1227.39 117.732 1228.94 L117.732 1224.22 Q120.556 1223.08 123.01 1222.51 Q125.464 1221.93 127.501 1221.93 Q132.871 1221.93 136.066 1224.61 Q139.26 1227.3 139.26 1231.79 Q139.26 1233.92 138.45 1235.84 Q137.663 1237.74 135.556 1240.33 Q134.978 1241 131.876 1244.22 Q128.774 1247.41 123.126 1253.18 Z\" fill=\"#000000\" fill-rule=\"evenodd\" fill-opacity=\"1\" /><path clip-path=\"url(#clip730)\" d=\"M132.316 1033.38 Q135.672 1034.09 137.547 1036.36 Q139.445 1038.63 139.445 1041.96 Q139.445 1047.08 135.927 1049.88 Q132.408 1052.68 125.927 1052.68 Q123.751 1052.68 121.436 1052.24 Q119.144 1051.83 116.691 1050.97 L116.691 1046.46 Q118.635 1047.59 120.95 1048.17 Q123.265 1048.75 125.788 1048.75 Q130.186 1048.75 132.478 1047.01 Q134.792 1045.27 134.792 1041.96 Q134.792 1038.91 132.64 1037.2 Q130.51 1035.46 126.691 1035.46 L122.663 1035.46 L122.663 1031.62 L126.876 1031.62 Q130.325 1031.62 132.154 1030.25 Q133.982 1028.86 133.982 1026.27 Q133.982 1023.61 132.084 1022.2 Q130.209 1020.76 126.691 1020.76 Q124.769 1020.76 122.57 1021.18 Q120.371 1021.59 117.732 1022.47 L117.732 1018.31 Q120.394 1017.57 122.709 1017.2 Q125.047 1016.83 127.107 1016.83 Q132.431 1016.83 135.533 1019.26 Q138.635 1021.66 138.635 1025.78 Q138.635 1028.65 136.992 1030.65 Q135.348 1032.61 132.316 1033.38 Z\" fill=\"#000000\" fill-rule=\"evenodd\" fill-opacity=\"1\" /><path clip-path=\"url(#clip730)\" d=\"M129.862 816.423 L118.056 834.872 L129.862 834.872 L129.862 816.423 M128.635 812.349 L134.515 812.349 L134.515 834.872 L139.445 834.872 L139.445 838.761 L134.515 838.761 L134.515 846.909 L129.862 846.909 L129.862 838.761 L114.26 838.761 L114.26 834.247 L128.635 812.349 Z\" fill=\"#000000\" fill-rule=\"evenodd\" fill-opacity=\"1\" /><path clip-path=\"url(#clip730)\" d=\"M118.543 607.247 L136.899 607.247 L136.899 611.183 L122.825 611.183 L122.825 619.655 Q123.843 619.308 124.862 619.146 Q125.88 618.96 126.899 618.96 Q132.686 618.96 136.066 622.132 Q139.445 625.303 139.445 630.72 Q139.445 636.298 135.973 639.4 Q132.501 642.479 126.181 642.479 Q124.005 642.479 121.737 642.108 Q119.492 641.738 117.084 640.997 L117.084 636.298 Q119.168 637.432 121.39 637.988 Q123.612 638.544 126.089 638.544 Q130.093 638.544 132.431 636.437 Q134.769 634.331 134.769 630.72 Q134.769 627.108 132.431 625.002 Q130.093 622.896 126.089 622.896 Q124.214 622.896 122.339 623.312 Q120.487 623.729 118.543 624.608 L118.543 607.247 Z\" fill=\"#000000\" fill-rule=\"evenodd\" fill-opacity=\"1\" /><path clip-path=\"url(#clip730)\" d=\"M127.917 417.562 Q124.769 417.562 122.918 419.715 Q121.089 421.868 121.089 425.618 Q121.089 429.345 122.918 431.521 Q124.769 433.673 127.917 433.673 Q131.066 433.673 132.894 431.521 Q134.746 429.345 134.746 425.618 Q134.746 421.868 132.894 419.715 Q131.066 417.562 127.917 417.562 M137.2 402.91 L137.2 407.169 Q135.441 406.336 133.635 405.896 Q131.853 405.456 130.093 405.456 Q125.464 405.456 123.01 408.581 Q120.58 411.706 120.232 418.025 Q121.598 416.011 123.658 414.947 Q125.718 413.859 128.195 413.859 Q133.404 413.859 136.413 417.03 Q139.445 420.178 139.445 425.618 Q139.445 430.942 136.297 434.16 Q133.149 437.377 127.917 437.377 Q121.922 437.377 118.751 432.794 Q115.58 428.187 115.58 419.461 Q115.58 411.266 119.468 406.405 Q123.357 401.521 129.908 401.521 Q131.667 401.521 133.45 401.868 Q135.255 402.215 137.2 402.91 Z\" fill=\"#000000\" fill-rule=\"evenodd\" fill-opacity=\"1\" /><path clip-path=\"url(#clip730)\" d=\"M117.223 197.044 L139.445 197.044 L139.445 199.035 L126.899 231.604 L122.015 231.604 L133.82 200.979 L117.223 200.979 L117.223 197.044 Z\" fill=\"#000000\" fill-rule=\"evenodd\" fill-opacity=\"1\" /><path clip-path=\"url(#clip730)\" d=\"M42.4881 792.977 L64.0042 792.977 L64.0042 798.834 L42.679 798.834 Q37.6183 798.834 35.1038 800.807 Q32.5894 802.78 32.5894 806.727 Q32.5894 811.47 35.6131 814.207 Q38.6368 816.944 43.8567 816.944 L64.0042 816.944 L64.0042 822.832 L28.3562 822.832 L28.3562 816.944 L33.8944 816.944 Q30.6797 814.843 29.0883 812.011 Q27.4968 809.146 27.4968 805.422 Q27.4968 799.279 31.3163 796.128 Q35.1038 792.977 42.4881 792.977 Z\" fill=\"#000000\" fill-rule=\"evenodd\" fill-opacity=\"1\" /><path clip-path=\"url(#clip730)\" d=\"M46.0847 765.095 Q46.0847 772.193 47.7079 774.93 Q49.3312 777.668 53.2461 777.668 Q56.3653 777.668 58.2114 775.631 Q60.0256 773.562 60.0256 770.029 Q60.0256 765.159 56.5881 762.231 Q53.1188 759.271 47.3897 759.271 L46.0847 759.271 L46.0847 765.095 M43.6657 753.414 L64.0042 753.414 L64.0042 759.271 L58.5933 759.271 Q61.8398 761.276 63.3994 764.268 Q64.9272 767.26 64.9272 771.588 Q64.9272 777.063 61.8716 780.309 Q58.7843 783.524 53.6281 783.524 Q47.6125 783.524 44.5569 779.514 Q41.5014 775.472 41.5014 767.483 L41.5014 759.271 L40.9285 759.271 Q36.8862 759.271 34.6901 761.944 Q32.4621 764.586 32.4621 769.392 Q32.4621 772.448 33.1941 775.344 Q33.9262 778.241 35.3903 780.914 L29.9795 780.914 Q28.7381 777.7 28.1334 774.676 Q27.4968 771.652 27.4968 768.788 Q27.4968 761.053 31.5072 757.234 Q35.5176 753.414 43.6657 753.414 Z\" fill=\"#000000\" fill-rule=\"evenodd\" fill-opacity=\"1\" /><path clip-path=\"url(#clip730)\" d=\"M28.3562 745.553 L28.3562 739.346 L58.275 728.206 L28.3562 717.066 L28.3562 710.86 L64.0042 724.228 L64.0042 732.185 L28.3562 745.553 Z\" fill=\"#000000\" fill-rule=\"evenodd\" fill-opacity=\"1\" /><polyline clip-path=\"url(#clip732)\" style=\"stroke:#009af9; stroke-linecap:round; stroke-linejoin:round; stroke-width:8; stroke-opacity:1; fill:none\" points=\"\n",
       "  237.067,1443.14 237.907,1438.73 238.747,1438.05 239.588,1434.06 240.428,1431.32 241.268,1433.47 242.108,1438.23 242.948,1442.8 243.788,1443.3 244.628,1439.8 \n",
       "  245.468,1437.54 246.308,1435.24 247.149,1435.72 247.989,1438.35 248.829,1439.89 249.669,1433.88 250.509,1433.87 251.349,1430.93 252.189,1430.19 253.029,1427.16 \n",
       "  253.869,1434.14 254.709,1429.95 255.55,1430.68 256.39,1431.41 257.23,1445.72 258.07,1443.79 258.91,1441.93 259.75,1441.42 260.59,1437.71 261.43,1438.43 \n",
       "  262.27,1435.7 263.111,1435.15 263.951,1433.43 264.791,1433.4 265.631,1433.14 266.471,1433.54 267.311,1434.07 268.151,1424.31 268.991,1423.67 269.831,1425.36 \n",
       "  270.672,1428.38 271.512,1427.81 272.352,1429.09 273.192,1419.87 274.032,1423.52 274.872,1419.49 275.712,1416.73 276.552,1419.7 277.392,1421.67 278.233,1423.97 \n",
       "  279.073,1422.02 279.913,1418.25 280.753,1421.72 281.593,1413.62 282.433,1392.27 283.273,1397.64 284.113,1360.83 284.953,1300.4 285.794,1326.92 286.634,1330.05 \n",
       "  287.474,1338.07 288.314,1323.98 289.154,1319.94 289.994,1322.42 290.834,1305.68 291.674,1258.11 292.514,1179.86 293.355,1141.98 294.195,923.827 295.035,979.397 \n",
       "  295.875,1015.77 296.715,1065.86 297.555,1133.42 298.395,1134.37 299.235,1105.69 300.075,1127.06 300.915,1153.14 301.756,1143.41 302.596,1116.83 303.436,1098.21 \n",
       "  304.276,1092.28 305.116,1032.29 305.956,1034.66 306.796,1028.09 307.636,1029.15 308.476,1053.46 309.317,1022.58 310.157,1065.02 310.997,1060.76 311.837,1049.03 \n",
       "  312.677,1060.79 313.517,1071.67 314.357,1044.04 315.197,1046.67 316.037,1044.15 316.878,1044.01 317.718,1044.91 318.558,1016.61 319.398,1071.4 320.238,1172.7 \n",
       "  321.078,1136.79 321.918,1102.68 322.758,1086.9 323.598,1076.87 324.439,1068.74 325.279,1032.91 326.119,1058.64 326.959,1053.12 327.799,1060.51 328.639,1063.71 \n",
       "  329.479,1072.11 330.319,1055.9 331.159,1071.66 332,1051.9 332.84,1033.23 333.68,1021.01 334.52,1023.65 335.36,1020.45 336.2,1009.14 337.04,997.07 \n",
       "  337.88,997.609 338.72,987.635 339.561,987.414 340.401,973.406 341.241,986.071 342.081,954.266 342.921,965.844 343.761,963.821 344.601,959.267 345.441,972.627 \n",
       "  346.281,967.721 347.121,985.847 347.962,972.367 348.802,966.347 349.642,958.073 350.482,965.022 351.322,957.91 352.162,959.594 353.002,932.658 353.842,942.831 \n",
       "  354.682,935.88 355.523,916.644 356.363,910.73 357.203,922.19 358.043,923.575 358.883,920.222 359.723,906.578 360.563,904.677 361.403,887.48 362.243,884.864 \n",
       "  363.084,858.83 363.924,835.917 364.764,866.271 365.604,840.037 366.444,761.318 367.284,758.816 368.124,769.641 368.964,606.101 369.804,644.628 370.645,640.663 \n",
       "  371.485,680.829 372.325,646.085 373.165,644.123 374.005,644.249 374.845,628.977 375.685,655.08 376.525,655.978 377.365,662.216 378.206,640.328 379.046,579.149 \n",
       "  379.886,576.943 380.726,563.224 381.566,548.1 382.406,535.885 383.246,546.645 384.086,521.005 384.926,513.803 385.767,534.929 386.607,593.685 387.447,538.66 \n",
       "  388.287,528.049 389.127,520.296 389.967,529.171 390.807,551.444 391.647,558.692 392.487,581.379 393.327,602.241 394.168,547.996 395.008,560.189 395.848,543.524 \n",
       "  396.688,541.477 397.528,525.411 398.368,540.597 399.208,576.232 400.048,568.275 400.888,621.479 401.729,625.954 402.569,669.407 403.409,735.079 404.249,652.402 \n",
       "  405.089,523.657 405.929,455.406 406.769,438.707 407.609,345.996 408.449,356.218 409.29,372.401 410.13,404.553 410.97,402.258 411.81,466.47 412.65,442.006 \n",
       "  413.49,422.483 414.33,404.573 415.17,463.686 416.01,516.402 416.851,534.079 417.691,536.204 418.531,520.377 419.371,560.868 420.211,551.144 421.051,563.212 \n",
       "  421.891,532.645 422.731,537.735 423.571,542.992 424.412,545.986 425.252,633.638 426.092,696.543 426.932,938.178 427.772,825.283 428.612,869.3 429.452,853.578 \n",
       "  430.292,850.247 431.132,715.808 431.973,735.493 432.813,724.329 433.653,754.378 434.493,755.972 435.333,850.25 436.173,890.086 437.013,860.478 437.853,940.71 \n",
       "  438.693,882.692 439.533,895.979 440.374,897.389 441.214,901.13 442.054,936.363 442.894,1007.05 443.734,1029.59 444.574,981.64 445.414,987.139 446.254,948.833 \n",
       "  447.094,931.505 447.935,891.15 448.775,878.71 449.615,896.5 450.455,889.58 451.295,881.327 452.135,889.192 452.975,879.881 453.815,823.216 454.655,838.023 \n",
       "  455.496,859.418 456.336,842.407 457.176,855.246 458.016,860.185 458.856,835.762 459.696,846.104 460.536,855.164 461.376,863.199 462.216,907.981 463.057,914.089 \n",
       "  463.897,924.887 464.737,950.886 465.577,916.285 466.417,928.944 467.257,968.397 468.097,989.418 468.937,964.069 469.777,969.899 470.618,933.197 471.458,957.789 \n",
       "  472.298,927.908 473.138,951.662 473.978,962.185 474.818,904.072 475.658,890.365 476.498,885.465 477.338,864.173 478.179,863.309 479.019,878.949 479.859,896.08 \n",
       "  480.699,878.863 481.539,858.74 482.379,828.234 483.219,788.457 484.059,803.684 484.899,803.799 485.739,785.432 486.58,749.14 487.42,763.824 488.26,766.257 \n",
       "  489.1,751.151 489.94,784.615 490.78,830.237 491.62,831.636 492.46,793.858 493.3,786.176 494.141,770.525 494.981,791.735 495.821,811.794 496.661,820.498 \n",
       "  497.501,812.542 498.341,815.009 499.181,810.966 500.021,800.151 500.861,801.159 501.702,783.67 502.542,792.254 503.382,778.534 504.222,802.016 505.062,843.041 \n",
       "  505.902,902.066 506.742,866.574 507.582,895.313 508.422,890.297 509.263,872.652 510.103,909.191 510.943,880.721 511.783,880.197 512.623,864.934 513.463,855.283 \n",
       "  514.303,874.213 515.143,852.846 515.983,878.128 516.824,903.618 517.664,914.771 518.504,903.662 519.344,901.736 520.184,921.626 521.024,930.071 521.864,963.848 \n",
       "  522.704,949.18 523.544,926.154 524.385,930.015 525.225,931.254 526.065,943.696 526.905,940.461 527.745,934.917 528.585,914.47 529.425,893.005 530.265,900.165 \n",
       "  531.105,898.76 531.945,870.868 532.786,885.859 533.626,857.942 534.466,857.254 535.306,865.216 536.146,880.593 536.986,884.405 537.826,894.322 538.666,880.697 \n",
       "  539.506,899.527 540.347,909.345 541.187,901.877 542.027,882.447 542.867,878.733 543.707,900.555 544.547,908.85 545.387,908.947 546.227,912.439 547.067,909.541 \n",
       "  547.908,936.224 548.748,967.784 549.588,951.527 550.428,957.276 551.268,947.239 552.108,946.598 552.948,955.79 553.788,978.418 554.628,961.505 555.469,995.73 \n",
       "  556.309,986.613 557.149,948.922 557.989,968.335 558.829,1010.78 559.669,1082.59 560.509,1081.43 561.349,1095.47 562.189,1100.24 563.03,1083.14 563.87,1167.15 \n",
       "  564.71,1114.2 565.55,1129.71 566.39,1067.76 567.23,1051.01 568.07,1022.66 568.91,1061.7 569.75,1055.18 570.591,1069.54 571.431,1049.87 572.271,1042.11 \n",
       "  573.111,1016.63 573.951,1002.43 574.791,1015.76 575.631,1050.36 576.471,1067.04 577.311,1063.81 578.151,1087.11 578.992,1063.98 579.832,1085.41 580.672,1093.83 \n",
       "  581.512,1096.55 582.352,1056.18 583.192,1065.08 584.032,1065.83 584.872,1068.84 585.712,1042.41 586.553,1033.17 587.393,1011 588.233,1019.94 589.073,1002.79 \n",
       "  589.913,1000.31 590.753,987.155 591.593,969.314 592.433,946.322 593.273,953.346 594.114,964.418 594.954,986.626 595.794,977.721 596.634,994.647 597.474,949.232 \n",
       "  598.314,954.406 599.154,969.297 599.994,982.284 600.834,995.587 601.675,992.929 602.515,999.594 603.355,1010.64 604.195,1015.87 605.035,989.894 605.875,989.389 \n",
       "  606.715,985.195 607.555,966.317 608.395,960.299 609.236,961.585 610.076,967.953 610.916,962.072 611.756,936.782 612.596,936.578 613.436,927.023 614.276,937.924 \n",
       "  615.116,946.346 615.956,927.95 616.797,954.823 617.637,940.788 618.477,940.471 619.317,919.568 620.157,941.488 620.997,933.905 621.837,935.266 622.677,933.132 \n",
       "  623.517,912.35 624.357,913.056 625.198,920.418 626.038,925.536 626.878,957.698 627.718,983.313 628.558,986.532 629.398,974.42 630.238,989.533 631.078,981.555 \n",
       "  631.918,964.108 632.759,950.591 633.599,960.71 634.439,943.954 635.279,966.002 636.119,962.853 636.959,958.276 637.799,966.567 638.639,949.657 639.479,954.079 \n",
       "  640.32,949.357 641.16,941.885 642,945.976 642.84,948.672 643.68,944.517 644.52,965.573 645.36,980.531 646.2,981.972 647.04,977.851 647.881,983.828 \n",
       "  648.721,997.352 649.561,1004.76 650.401,1017.61 651.241,1042.34 652.081,1027.31 652.921,1011.24 653.761,1022 654.601,1020.77 655.442,1027.9 656.282,1040.66 \n",
       "  657.122,1044.51 657.962,1041.17 658.802,1040.34 659.642,1043.78 660.482,1061.35 661.322,1030.38 662.162,1042.97 663.003,1066.34 663.843,1056.83 664.683,1058.1 \n",
       "  665.523,1051.69 666.363,1046.21 667.203,1032.61 668.043,1034.36 668.883,1035.74 669.723,1045.79 670.563,1056.8 671.404,1059.65 672.244,1061.25 673.084,1085.09 \n",
       "  673.924,1084.47 674.764,1081.73 675.604,1113.91 676.444,1118.23 677.284,1097.5 678.124,1089.64 678.965,1107.03 679.805,1069.1 680.645,1055.35 681.485,1028.82 \n",
       "  682.325,1052.79 683.165,1043.72 684.005,1029.44 684.845,1045.32 685.685,1018.48 686.526,1027.63 687.366,1013.18 688.206,1017.01 689.046,1013.53 689.886,1027 \n",
       "  690.726,1003.65 691.566,998.398 692.406,999.401 693.246,990.84 694.087,987.315 694.927,983.903 695.767,991.211 696.607,984.632 697.447,1003.34 698.287,994.281 \n",
       "  699.127,955.271 699.967,920.072 700.807,935.494 701.648,926.671 702.488,967.705 703.328,990.474 704.168,986.82 705.008,965.34 705.848,981.368 706.688,968.539 \n",
       "  707.528,959.726 708.368,956.901 709.209,961.358 710.049,962.8 710.889,961.501 711.729,963.682 712.569,958.156 713.409,957.825 714.249,961.843 715.089,941.93 \n",
       "  715.929,936.123 716.769,956.281 717.61,954.977 718.45,938.488 719.29,925.875 720.13,932.879 720.97,917.872 721.81,915.144 722.65,900.658 723.49,885.457 \n",
       "  724.33,880.896 725.171,879.534 726.011,894.339 726.851,883.534 727.691,899.354 728.531,897.94 729.371,895.61 730.211,882.117 731.051,888.388 731.891,910.024 \n",
       "  732.732,922.711 733.572,913.879 734.412,923.791 735.252,923.4 736.092,919.57 736.932,926.006 737.772,882.767 738.612,874.121 739.452,884.957 740.293,881.263 \n",
       "  741.133,889.551 741.973,863.541 742.813,852.528 743.653,858.742 744.493,862.488 745.333,851.972 746.173,825.907 747.013,825.904 747.854,816.187 748.694,800.836 \n",
       "  749.534,772.678 750.374,775.414 751.214,753.873 752.054,740.215 752.894,733.939 753.734,764.975 754.574,802.865 755.415,812.116 756.255,804.702 757.095,775.683 \n",
       "  757.935,754.089 758.775,750.899 759.615,762.388 760.455,763.259 761.295,747.707 762.135,775.737 762.975,744.431 763.816,736.365 764.656,708.286 765.496,719.335 \n",
       "  766.336,704.693 767.176,734.697 768.016,699.731 768.856,730.705 769.696,743.767 770.536,763.206 771.377,764.003 772.217,750.701 773.057,712.857 773.897,712.915 \n",
       "  774.737,720.648 775.577,680.715 776.417,684.049 777.257,703.514 778.097,691.398 778.938,710.266 779.778,670.551 780.618,688.101 781.458,701.624 782.298,690.928 \n",
       "  783.138,649.399 783.978,631.148 784.818,629.379 785.658,626.32 786.499,643.456 787.339,650.673 788.179,649.312 789.019,649.106 789.859,630.992 790.699,644.573 \n",
       "  791.539,694.927 792.379,704.343 793.219,706.027 794.06,705.251 794.9,675.107 795.74,658.619 796.58,648.686 797.42,657.143 798.26,652.751 799.1,623.853 \n",
       "  799.94,608.199 800.78,590.619 801.621,599.86 802.461,574.101 803.301,588.656 804.141,585.389 804.981,583.652 805.821,551.241 806.661,540.548 807.501,552.457 \n",
       "  808.341,562.06 809.181,557.906 810.022,562.906 810.862,597.85 811.702,564.595 812.542,537.777 813.382,539.174 814.222,538.992 815.062,557.151 815.902,551.898 \n",
       "  816.742,556.228 817.583,556.895 818.423,596.013 819.263,600.18 820.103,628.09 820.943,607.459 821.783,642.921 822.623,611.098 823.463,608.048 824.303,614.277 \n",
       "  825.144,659.145 825.984,645.942 826.824,657.311 827.664,650.847 828.504,675.583 829.344,647.959 830.184,641.408 831.024,600.107 831.864,587.66 832.705,594.731 \n",
       "  833.545,596.71 834.385,607.019 835.225,601.153 836.065,587.159 836.905,601.728 837.745,589.611 838.585,602.341 839.425,588.88 840.266,597.215 841.106,619.144 \n",
       "  841.946,618.949 842.786,601.69 843.626,551.824 844.466,578.504 845.306,557.065 846.146,513.626 846.986,533.729 847.827,545.5 848.667,531.392 849.507,517.803 \n",
       "  850.347,510.374 851.187,442.792 852.027,425.368 852.867,438.245 853.707,444.573 854.547,424.47 855.387,435.513 856.228,437.082 857.068,426.741 857.908,399.902 \n",
       "  858.748,393.316 859.588,411.463 860.428,412.613 861.268,410.363 862.108,411.203 862.948,401.015 863.789,410.2 864.629,409.393 865.469,415.364 866.309,398.544 \n",
       "  867.149,389.661 867.989,382.716 868.829,375.852 869.669,367.116 870.509,398.221 871.35,387.097 872.19,387.834 873.03,384.084 873.87,432.856 874.71,485.285 \n",
       "  875.55,564.429 876.39,567.562 877.23,555.435 878.07,612.125 878.911,589.258 879.751,572.533 880.591,557.734 881.431,539.227 882.271,524.276 883.111,471.278 \n",
       "  883.951,506.285 884.791,474.017 885.631,511.11 886.472,510.758 887.312,535.586 888.152,548.533 888.992,538.472 889.832,546.995 890.672,524.557 891.512,524.639 \n",
       "  892.352,547.44 893.192,534.422 894.033,493.721 894.873,461.295 895.713,469.866 896.553,443.571 897.393,503.455 898.233,508.44 899.073,490.164 899.913,471.966 \n",
       "  900.753,482.687 901.593,471.168 902.434,475.965 903.274,473.453 904.114,492.487 904.954,479.817 905.794,475.976 906.634,468.395 907.474,434.823 908.314,432.572 \n",
       "  909.154,456.618 909.995,436.391 910.835,417.151 911.675,426.008 912.515,415.219 913.355,395.411 914.195,424.007 915.035,441.589 915.875,464.101 916.715,483.218 \n",
       "  917.556,446.329 918.396,425.95 919.236,409.254 920.076,426.733 920.916,435.061 921.756,426.128 922.596,436.38 923.436,410.643 924.276,422.281 925.117,452.32 \n",
       "  925.957,489.725 926.797,568.735 927.637,525.119 928.477,551.189 929.317,564.409 930.157,547.671 930.997,558.182 931.837,600.047 932.678,661.2 933.518,637.414 \n",
       "  934.358,601.696 935.198,595.934 936.038,517.133 936.878,506.78 937.718,489.129 938.558,502.279 939.398,486.57 940.239,474.92 941.079,476.475 941.919,488.553 \n",
       "  942.759,593.846 943.599,556.073 944.439,518.149 945.279,526.49 946.119,545.208 946.959,542.252 947.799,544.138 948.64,547.025 949.48,570.908 950.32,616.868 \n",
       "  951.16,550.902 952,528.576 952.84,541.911 953.68,514.054 954.52,513.704 955.36,531.957 956.201,559.172 957.041,579.035 957.881,579.124 958.721,596.833 \n",
       "  959.561,610.513 960.401,609.551 961.241,616.906 962.081,594.304 962.921,587.893 963.762,619.07 964.602,635.586 965.442,583.791 966.282,578.564 967.122,585.969 \n",
       "  967.962,589.278 968.802,563.194 969.642,574.814 970.482,534.644 971.323,492.541 972.163,477.453 973.003,474.747 973.843,482.855 974.683,467.482 975.523,457.42 \n",
       "  976.363,418.206 977.203,437.758 978.043,436.28 978.884,439.349 979.724,441.061 980.564,427.717 981.404,454.932 982.244,473.775 983.084,481.001 983.924,448.575 \n",
       "  984.764,438.095 985.604,438.085 986.445,429.5 987.285,425.372 988.125,423.169 988.965,406.563 989.805,426.763 990.645,455.553 991.485,400.769 992.325,388.848 \n",
       "  993.165,401.285 994.005,422.946 994.846,411.839 995.686,393.076 996.526,389.883 997.366,394.426 998.206,410.543 999.046,388.631 999.886,386.192 1000.73,393.937 \n",
       "  1001.57,418.925 1002.41,399.545 1003.25,397.05 1004.09,400.957 1004.93,408.648 1005.77,431.742 1006.61,411.268 1007.45,430.639 1008.29,438.389 1009.13,473.36 \n",
       "  1009.97,460.323 1010.81,423.105 1011.65,434.476 1012.49,453.013 1013.33,463.269 1014.17,476.547 1015.01,482.59 1015.85,459.392 1016.69,463.812 1017.53,446.084 \n",
       "  1018.37,450.86 1019.21,471.224 1020.05,465.599 1020.89,442.016 1021.73,408.664 1022.57,411.461 1023.41,380.2 1024.25,377.282 1025.09,385.829 1025.93,382.613 \n",
       "  1026.77,377.605 1027.61,392.014 1028.45,369.024 1029.29,374.85 1030.13,366.73 1030.97,350.701 1031.81,354.267 1032.65,364.746 1033.49,369.349 1034.33,359.752 \n",
       "  1035.17,355.878 1036.01,371.466 1036.85,388.511 1037.69,374.175 1038.53,374.224 1039.37,374.247 1040.21,406.887 1041.05,395.519 1041.89,401.9 1042.73,392.582 \n",
       "  1043.57,377.968 1044.41,384.032 1045.25,370.504 1046.09,367.045 1046.93,368.441 1047.77,354.964 1048.61,296.439 1049.45,283.154 1050.29,281.515 1051.13,271.704 \n",
       "  1051.97,256.81 1052.81,300.957 1053.65,318.361 1054.49,294.377 1055.33,291.181 1056.17,323.397 1057.01,323.295 1057.85,337.088 1058.69,324.888 1059.53,324.569 \n",
       "  1060.37,295.281 1061.21,301.399 1062.05,289.542 1062.89,299.833 1063.73,306.132 1064.57,323.212 1065.41,298.751 1066.25,281.687 1067.09,270.149 1067.94,282.254 \n",
       "  1068.78,268.689 1069.62,264.364 1070.46,254.331 1071.3,246.026 1072.14,233.593 1072.98,222.251 1073.82,246.524 1074.66,204.356 1075.5,327.001 1076.34,315.64 \n",
       "  1077.18,319.593 1078.02,318.823 1078.86,269.98 1079.7,170.314 1080.54,160.756 1081.38,157.314 1082.22,142.651 1083.06,168.879 1083.9,167.832 1084.74,133.391 \n",
       "  1085.58,151.286 1086.42,169.571 1087.26,169.818 1088.1,181.558 1088.94,201.976 1089.78,217.81 1090.62,192.207 1091.46,214.093 1092.3,248.998 1093.14,216.971 \n",
       "  1093.98,188.567 1094.82,238.815 1095.66,194.894 1096.5,185.793 1097.34,191.757 1098.18,194.325 1099.02,195.041 1099.86,161.371 1100.7,154.603 1101.54,146.786 \n",
       "  1102.38,136.597 1103.22,150.946 1104.06,149.24 1104.9,154.492 1105.74,126.901 1106.58,130.762 1107.42,134.517 1108.26,154.297 1109.1,181.302 1109.94,161.222 \n",
       "  1110.78,145.199 1111.62,150.561 1112.46,156.485 1113.3,161.949 1114.14,178.236 1114.98,169.776 1115.82,175.097 1116.66,212.928 1117.5,188.927 1118.34,176.622 \n",
       "  1119.18,168.185 1120.02,149.68 1120.86,159.932 1121.7,153.864 1122.54,131.437 1123.38,114.505 1124.22,109.166 1125.06,111.474 1125.9,103.97 1126.74,87.9763 \n",
       "  1127.58,91.8228 1128.42,108.401 1129.26,122.411 1130.1,124.375 1130.94,142.117 1131.78,130.217 1132.62,137.568 1133.46,116.293 1134.3,217.247 1135.14,186.365 \n",
       "  1135.98,156.586 1136.82,180.593 1137.66,162.739 1138.5,171.84 1139.34,167.525 1140.18,207.653 1141.02,226.434 1141.86,195.512 1142.7,193.739 1143.54,201.318 \n",
       "  1144.39,202.624 1145.23,183.426 1146.07,191.228 1146.91,187.83 1147.75,197.91 1148.59,202.874 1149.43,228.312 1150.27,213.259 1151.11,180.871 1151.95,185.804 \n",
       "  1152.79,171.46 1153.63,209.914 1154.47,226.09 1155.31,299.418 1156.15,312.491 1156.99,305.25 1157.83,324.115 1158.67,355.413 1159.51,371.287 1160.35,367.648 \n",
       "  1161.19,365.662 1162.03,334.646 1162.87,316.073 1163.71,334.871 1164.55,347.185 1165.39,415.455 1166.23,402.573 1167.07,411.57 1167.91,406.566 1168.75,370.744 \n",
       "  1169.59,335.285 1170.43,331.405 1171.27,330.581 1172.11,332.246 1172.95,328.444 1173.79,315.422 1174.63,303.588 1175.47,317.317 1176.31,318.879 1177.15,334.259 \n",
       "  1177.99,315.965 1178.83,328.623 1179.67,362.294 1180.51,341.536 1181.35,306.709 1182.19,353.147 1183.03,332.419 1183.87,347.741 1184.71,340.067 1185.55,289.898 \n",
       "  1186.39,284.089 1187.23,323.76 1188.07,319.036 1188.91,321.27 1189.75,347.789 1190.59,337.709 1191.43,322.778 1192.27,327.675 1193.11,281.219 1193.95,280.232 \n",
       "  1194.79,274.17 1195.63,304.151 1196.47,419.584 1197.31,391.859 1198.15,392.783 1198.99,390.898 1199.83,383.598 1200.67,385.018 1201.51,381.912 1202.35,386.796 \n",
       "  1203.19,410.502 1204.03,421.082 1204.87,406.437 1205.71,422.856 1206.55,382.764 1207.39,347.854 1208.23,339.751 1209.07,359.809 1209.91,312.886 1210.75,306.777 \n",
       "  1211.59,310.303 1212.43,314.54 1213.27,269.63 1214.11,281.679 1214.95,274.348 1215.79,267.558 1216.63,270.723 1217.47,261.763 1218.31,286.895 1219.15,316.083 \n",
       "  1219.99,326.76 1220.83,312.916 1221.68,314.168 1222.52,315.356 1223.36,298.951 1224.2,274.281 1225.04,250.556 1225.88,292.533 1226.72,324.309 1227.56,354.094 \n",
       "  1228.4,481.991 1229.24,484.966 1230.08,397.489 1230.92,385.592 1231.76,389.742 1232.6,391.823 1233.44,408.824 1234.28,444.108 1235.12,437.749 1235.96,440.471 \n",
       "  1236.8,490.853 1237.64,477.142 1238.48,447.223 1239.32,401.244 1240.16,400.915 1241,388.668 1241.84,386.001 1242.68,417.185 1243.52,407.067 1244.36,401.143 \n",
       "  1245.2,435.006 1246.04,376.811 1246.88,384.573 1247.72,393.916 1248.56,398.75 1249.4,412.375 1250.24,436.447 1251.08,452.055 1251.92,461.48 1252.76,484.669 \n",
       "  1253.6,456.631 1254.44,490.75 1255.28,492.508 1256.12,482.822 1256.96,480.473 1257.8,475.563 1258.64,469.489 1259.48,457.704 1260.32,463.583 1261.16,478.274 \n",
       "  1262,465.086 1262.84,432.276 1263.68,477.426 1264.52,480.951 1265.36,485.831 1266.2,544.292 1267.04,565.242 1267.88,558.912 1268.72,558.598 1269.56,413.609 \n",
       "  1270.4,504.137 1271.24,519.042 1272.08,533.66 1272.92,522.135 1273.76,554.048 1274.6,566.588 1275.44,500.228 1276.28,500.56 1277.12,489.837 1277.96,478.68 \n",
       "  1278.8,507.776 1279.64,517.81 1280.48,517.243 1281.32,554.809 1282.16,577.397 1283,552.843 1283.84,564.009 1284.68,538.872 1285.52,524.062 1286.36,523.09 \n",
       "  1287.2,523.598 1288.04,517.894 1288.88,501.533 1289.72,518.435 1290.56,527.722 1291.4,524.117 1292.24,538.778 1293.08,551.479 1293.92,571.35 1294.76,566.96 \n",
       "  1295.6,538.536 1296.44,511.078 1297.28,513.447 1298.12,514.87 1298.97,511.452 1299.81,501.578 1300.65,484.473 1301.49,484.628 1302.33,475.31 1303.17,460.703 \n",
       "  1304.01,475.091 1304.85,471.44 1305.69,476.967 1306.53,472.901 1307.37,431.636 1308.21,424.571 1309.05,433.364 1309.89,422.326 1310.73,428.001 1311.57,435.437 \n",
       "  1312.41,446.876 1313.25,443.705 1314.09,431.237 1314.93,418.004 1315.77,411.075 1316.61,427.151 1317.45,411.337 1318.29,404.273 1319.13,395.177 1319.97,386.345 \n",
       "  1320.81,392.276 1321.65,401.086 1322.49,391.2 1323.33,396.474 1324.17,433.776 1325.01,451.707 1325.85,453.479 1326.69,492.049 1327.53,496.914 1328.37,499.944 \n",
       "  1329.21,514.421 1330.05,537.888 1330.89,512.993 1331.73,510.004 1332.57,534.92 1333.41,506.882 1334.25,493.683 1335.09,488.233 1335.93,490.369 1336.77,472.319 \n",
       "  1337.61,456.329 1338.45,461.484 1339.29,497.065 1340.13,470.092 1340.97,451.138 1341.81,471.204 1342.65,448.871 1343.49,427.771 1344.33,435.702 1345.17,433.553 \n",
       "  1346.01,436.821 1346.85,427.441 1347.69,426.205 1348.53,433.534 1349.37,428.761 1350.21,402.252 1351.05,413.833 1351.89,405.704 1352.73,424.934 1353.57,400.686 \n",
       "  1354.41,378.193 1355.25,380.541 1356.09,373.847 1356.93,380.917 1357.77,379.062 1358.61,391.643 1359.45,422.571 1360.29,464.984 1361.13,491.563 1361.97,511.677 \n",
       "  1362.81,501.311 1363.65,454.447 1364.49,474.704 1365.33,504.097 1366.17,466.1 1367.01,480.374 1367.85,490.592 1368.69,503.855 1369.53,498.97 1370.37,507.043 \n",
       "  1371.21,548.529 1372.05,531.504 1372.89,532.617 1373.73,551.296 1374.57,566.739 1375.42,532.461 1376.26,553.858 1377.1,535.603 1377.94,538.055 1378.78,620.264 \n",
       "  1379.62,569.206 1380.46,562.358 1381.3,542.085 1382.14,548.748 1382.98,543.03 1383.82,501.515 1384.66,490.957 1385.5,487.768 1386.34,491.047 1387.18,452.356 \n",
       "  1388.02,438.596 1388.86,463.497 1389.7,447.338 1390.54,442.444 1391.38,480.998 1392.22,476.902 1393.06,465.383 1393.9,415.106 1394.74,424.071 1395.58,415.841 \n",
       "  1396.42,418.064 1397.26,403.922 1398.1,410.24 1398.94,415.735 1399.78,403.582 1400.62,414.942 1401.46,401.689 1402.3,388.675 1403.14,388.242 1403.98,395.716 \n",
       "  1404.82,394.923 1405.66,414.773 1406.5,427.149 1407.34,443.175 1408.18,470.233 1409.02,457.437 1409.86,458.959 1410.7,490.111 1411.54,504.131 1412.38,473.353 \n",
       "  1413.22,480.064 1414.06,528.142 1414.9,493.253 1415.74,495.954 1416.58,503.351 1417.42,486.756 1418.26,482.349 1419.1,458.77 1419.94,441.943 1420.78,507.937 \n",
       "  1421.62,573.008 1422.46,562.044 1423.3,591.279 1424.14,616.42 1424.98,654.221 1425.82,716.536 1426.66,752.438 1427.5,745.004 1428.34,738.26 1429.18,714.427 \n",
       "  1430.02,684.721 1430.86,681.943 1431.7,690.087 1432.54,693.992 1433.38,684.11 1434.22,710.128 1435.06,769.405 1435.9,702.086 1436.74,681.454 1437.58,680.562 \n",
       "  1438.42,679.683 1439.26,671.179 1440.1,655.093 1440.94,671.285 1441.78,659.667 1442.62,659.133 1443.46,632.064 1444.3,666.214 1445.14,692.982 1445.98,724.899 \n",
       "  1446.82,698.054 1447.66,699.95 1448.5,750.775 1449.34,734.886 1450.18,725.13 1451.02,746.549 1451.86,722.146 1452.71,698.544 1453.55,696.843 1454.39,685.282 \n",
       "  1455.23,686.112 1456.07,692.311 1456.91,689.343 1457.75,694.013 1458.59,690.251 1459.43,698.838 1460.27,713.323 1461.11,709.761 1461.95,738.14 1462.79,727.268 \n",
       "  1463.63,693.683 1464.47,681.496 1465.31,668.928 1466.15,656.014 1466.99,649.978 1467.83,646.234 1468.67,641.837 1469.51,648.878 1470.35,654.938 1471.19,643.456 \n",
       "  1472.03,680.64 1472.87,694.562 1473.71,702.698 1474.55,692.143 1475.39,707.26 1476.23,689.046 1477.07,671.798 1477.91,665.76 1478.75,628.443 1479.59,635.777 \n",
       "  1480.43,586.455 1481.27,570.248 1482.11,555.955 1482.95,561.695 1483.79,553.873 1484.63,571.976 1485.47,557.338 1486.31,563.313 1487.15,564.659 1487.99,575.404 \n",
       "  1488.83,565.897 1489.67,541.315 1490.51,519.388 1491.35,534.743 1492.19,504.32 1493.03,496.492 1493.87,507.095 1494.71,518.773 1495.55,542.274 1496.39,546.378 \n",
       "  1497.23,525.66 1498.07,546.896 1498.91,536.776 1499.75,510.462 1500.59,497.113 1501.43,507.256 1502.27,524.841 1503.11,500.326 1503.95,514.999 1504.79,545.403 \n",
       "  1505.63,565.877 1506.47,561.04 1507.31,557.443 1508.15,557.716 1508.99,607.185 1509.83,618.14 1510.67,616.535 1511.51,616.546 1512.35,610.999 1513.19,625.752 \n",
       "  1514.03,620.716 1514.87,618.122 1515.71,600.974 1516.55,618.882 1517.39,634.367 1518.23,648.541 1519.07,648.016 1519.91,619.777 1520.75,645.991 1521.59,618.79 \n",
       "  1522.43,592.11 1523.27,565.659 1524.11,565.165 1524.95,561.657 1525.79,550.298 1526.63,558.429 1527.47,560.155 1528.31,581.894 1529.15,555.587 1530,561.885 \n",
       "  1530.84,557.395 1531.68,561.646 1532.52,591.969 1533.36,628.177 1534.2,619.395 1535.04,612.087 1535.88,625.439 1536.72,656.198 1537.56,654.974 1538.4,641.912 \n",
       "  1539.24,649.068 1540.08,665.115 1540.92,663.518 1541.76,666.388 1542.6,686.375 1543.44,690.807 1544.28,696.219 1545.12,696.28 1545.96,670.14 1546.8,661.519 \n",
       "  1547.64,687.184 1548.48,678.82 1549.32,698.8 1550.16,740.757 1551,756.836 1551.84,727.474 1552.68,735.407 1553.52,730.418 1554.36,715.894 1555.2,687.867 \n",
       "  1556.04,676.603 1556.88,703.746 1557.72,724.598 1558.56,810.091 1559.4,806.495 1560.24,823.925 1561.08,759.393 1561.92,722.342 1562.76,735.58 1563.6,730.033 \n",
       "  1564.44,702.607 1565.28,703.673 1566.12,650.423 1566.96,662.536 1567.8,669.122 1568.64,655.113 1569.48,630.22 1570.32,681.959 1571.16,667.853 1572,648.39 \n",
       "  1572.84,662.497 1573.68,711 1574.52,712.764 1575.36,697.569 1576.2,708.413 1577.04,653.728 1577.88,607.647 1578.72,602.215 1579.56,607.484 1580.4,572.069 \n",
       "  1581.24,588.767 1582.08,596.198 1582.92,588.563 1583.76,581.145 1584.6,592.711 1585.44,591.912 1586.28,575.046 1587.12,598.312 1587.96,587.518 1588.8,618.733 \n",
       "  1589.64,611.133 1590.48,633.75 1591.32,628.621 1592.16,631.812 1593,646.676 1593.84,695.144 1594.68,687.894 1595.52,685.065 1596.36,685.425 1597.2,671.834 \n",
       "  1598.04,668.46 1598.88,690.689 1599.72,695.619 1600.56,696.284 1601.4,699.791 1602.24,728.977 1603.08,733.511 1603.92,733.018 1604.76,706.413 1605.6,744.479 \n",
       "  1606.45,721.244 1607.29,735.418 1608.13,711.795 1608.97,736.03 1609.81,727.712 1610.65,697.792 1611.49,659.104 1612.33,652.722 1613.17,656.118 1614.01,667.435 \n",
       "  1614.85,686.007 1615.69,718.676 1616.53,712.984 1617.37,721.38 1618.21,710.396 1619.05,731.418 1619.89,716.104 1620.73,708.267 1621.57,729.139 1622.41,722.768 \n",
       "  1623.25,718.812 1624.09,721.025 1624.93,726.965 1625.77,723.399 1626.61,724.22 1627.45,726.094 1628.29,727.242 1629.13,729.627 1629.97,738.429 1630.81,751.927 \n",
       "  1631.65,733.255 1632.49,734.784 1633.33,748.768 1634.17,743.059 1635.01,743.694 1635.85,750.788 1636.69,744.365 1637.53,725.383 1638.37,726.083 1639.21,727.361 \n",
       "  1640.05,705.051 1640.89,696.334 1641.73,680.147 1642.57,673.563 1643.41,676.847 1644.25,679.587 1645.09,662.608 1645.93,666.727 1646.77,677.17 1647.61,670.871 \n",
       "  1648.45,683.216 1649.29,648.84 1650.13,632.34 1650.97,625.121 1651.81,632.931 1652.65,623.555 1653.49,623.536 1654.33,634.398 1655.17,633.849 1656.01,632.671 \n",
       "  1656.85,654.172 1657.69,663.852 1658.53,659.62 1659.37,661.545 1660.21,648.086 1661.05,651.913 1661.89,649.168 1662.73,651.764 1663.57,613.972 1664.41,616.533 \n",
       "  1665.25,616.738 1666.09,622.362 1666.93,637.904 1667.77,633.73 1668.61,640.259 1669.45,612.418 1670.29,618.452 1671.13,589.216 1671.97,583.478 1672.81,583.879 \n",
       "  1673.65,563.401 1674.49,562.693 1675.33,562.103 1676.17,567.843 1677.01,549.871 1677.85,577.419 1678.69,585.054 1679.53,578.33 1680.37,572.058 1681.21,573.62 \n",
       "  1682.05,568.808 1682.89,562.346 1683.74,551.479 1684.58,555.633 1685.42,554.28 1686.26,552.764 1687.1,501.819 1687.94,496.78 1688.78,485.366 1689.62,488.115 \n",
       "  1690.46,472.264 1691.3,481.155 1692.14,472.759 1692.98,458.353 1693.82,487.629 1694.66,495.451 1695.5,491.102 1696.34,478.188 1697.18,489.052 1698.02,471.53 \n",
       "  1698.86,483.428 1699.7,483.177 1700.54,474.463 1701.38,508.646 1702.22,526.242 1703.06,520.889 1703.9,543.406 1704.74,535.932 1705.58,492.742 1706.42,486.475 \n",
       "  1707.26,477.126 1708.1,477.091 1708.94,469.456 1709.78,468.069 1710.62,468.378 1711.46,477.301 1712.3,452.254 1713.14,449.818 1713.98,453.158 1714.82,426.714 \n",
       "  1715.66,448.606 1716.5,451.935 1717.34,462.96 1718.18,485.534 1719.02,449.25 1719.86,452.334 1720.7,452.58 1721.54,462.475 1722.38,444.869 1723.22,486.546 \n",
       "  1724.06,482.349 1724.9,497.568 1725.74,556.045 1726.58,559.14 1727.42,582.503 1728.26,568.181 1729.1,561.504 1729.94,572.576 1730.78,571.556 1731.62,548.035 \n",
       "  1732.46,552.183 1733.3,557.155 1734.14,561.284 1734.98,580.281 1735.82,580.873 1736.66,576.965 1737.5,568.078 1738.34,571.837 1739.18,565.994 1740.02,556.017 \n",
       "  1740.86,563.348 1741.7,553.722 1742.54,539.181 1743.38,575.02 1744.22,582.564 1745.06,622.392 1745.9,634.814 1746.74,648.897 1747.58,659.732 1748.42,645.056 \n",
       "  1749.26,630.168 1750.1,640.89 1750.94,650.084 1751.78,641.232 1752.62,632.595 1753.46,648.363 1754.3,626.42 1755.14,621.742 1755.98,619.239 1756.82,618.83 \n",
       "  1757.66,619.729 1758.5,646.12 1759.34,643.971 1760.18,637.878 1761.03,639.465 1761.87,647.469 1762.71,639.908 1763.55,635.49 1764.39,632.635 1765.23,635.792 \n",
       "  1766.07,644.313 1766.91,643.412 1767.75,634.337 1768.59,638.011 1769.43,638.132 1770.27,628.424 1771.11,638.41 1771.95,658.25 1772.79,688.495 1773.63,678.507 \n",
       "  1774.47,668.754 1775.31,645.042 1776.15,642.829 1776.99,642.54 1777.83,638.678 1778.67,624.194 1779.51,622.336 1780.35,624.252 1781.19,617.521 1782.03,622.986 \n",
       "  1782.87,635.661 1783.71,630.65 1784.55,629.459 1785.39,623.2 1786.23,614.717 1787.07,651.746 1787.91,662.352 1788.75,653.431 1789.59,656.366 1790.43,673.909 \n",
       "  1791.27,671.659 1792.11,676.532 1792.95,676.685 1793.79,672.959 1794.63,674.398 1795.47,671.67 1796.31,676.7 1797.15,677.525 1797.99,686.316 1798.83,687.588 \n",
       "  1799.67,692.136 1800.51,714.684 1801.35,740.246 1802.19,698.116 1803.03,624.997 1803.87,634.124 1804.71,630.47 1805.55,626.501 1806.39,682.787 1807.23,720.138 \n",
       "  1808.07,723.534 1808.91,708.758 1809.75,713.579 1810.59,692.303 1811.43,700.267 1812.27,698.433 1813.11,697.472 1813.95,691.453 1814.79,689.502 1815.63,700.7 \n",
       "  1816.47,702.173 1817.31,696.482 1818.15,712.803 1818.99,728.588 1819.83,739.334 1820.67,738.049 1821.51,741.062 1822.35,752.822 1823.19,759.249 1824.03,784.087 \n",
       "  1824.87,755.132 1825.71,763.631 1826.55,759.4 1827.39,771.854 1828.23,750.301 1829.07,746.896 1829.91,768.992 1830.75,758.309 1831.59,755.888 1832.43,757.749 \n",
       "  1833.27,748.75 1834.11,749.158 1834.95,759.934 1835.79,769.228 1836.63,765.823 1837.48,754.092 1838.32,748.637 1839.16,745.443 1840,713.171 1840.84,705.851 \n",
       "  1841.68,715.414 1842.52,735.546 1843.36,793.526 1844.2,778.322 1845.04,776.52 1845.88,786.402 1846.72,784.618 1847.56,791.909 1848.4,795.587 1849.24,805.983 \n",
       "  1850.08,795.734 1850.92,792.617 1851.76,809.151 1852.6,837.75 1853.44,830.382 1854.28,831.426 1855.12,844.54 1855.96,840.12 1856.8,863.434 1857.64,873.449 \n",
       "  1858.48,895.103 1859.32,931.906 1860.16,953.795 1861,941.957 1861.84,908.171 1862.68,899.052 1863.52,915.359 1864.36,916.861 1865.2,919.922 1866.04,927.503 \n",
       "  1866.88,978.786 1867.72,1033.98 1868.56,1012.68 1869.4,1096.68 1870.24,1072.4 1871.08,1036.27 1871.92,1061.71 1872.76,1006.06 1873.6,971.935 1874.44,963.253 \n",
       "  1875.28,982.447 1876.12,982.406 1876.96,986.528 1877.8,992.53 1878.64,1019.04 1879.48,999.335 1880.32,985.001 1881.16,997.777 1882,993.037 1882.84,979.142 \n",
       "  1883.68,968.804 1884.52,949.928 1885.36,962.206 1886.2,983.108 1887.04,991.661 1887.88,990.229 1888.72,987.104 1889.56,971.708 1890.4,969.588 1891.24,985.441 \n",
       "  1892.08,977.301 1892.92,974.765 1893.76,990.705 1894.6,990.673 1895.44,1018.28 1896.28,1019.24 1897.12,1022.71 1897.96,1022.3 1898.8,1012.38 1899.64,1000.07 \n",
       "  1900.48,998.229 1901.32,988.767 1902.16,987.279 1903,987.47 1903.84,1010.78 1904.68,1004.34 1905.52,1009.62 1906.36,1010.89 1907.2,1007.4 1908.04,1005.27 \n",
       "  1908.88,1004.01 1909.72,1005.37 1910.56,991.17 1911.4,998.026 1912.24,994.864 1913.08,991.157 1913.92,972.006 1914.77,967.031 1915.61,976.674 1916.45,1007.11 \n",
       "  1917.29,1000.69 1918.13,1004.06 1918.97,1014.14 1919.81,1012.32 1920.65,1005.12 1921.49,999.343 1922.33,1012.78 1923.17,1009.64 1924.01,1013.66 1924.85,1013.28 \n",
       "  1925.69,1024.68 1926.53,1060.84 1927.37,1054.46 1928.21,1060.69 1929.05,1081.19 1929.89,1084.98 1930.73,1066.12 1931.57,1061.87 1932.41,1069.22 1933.25,1069.09 \n",
       "  1934.09,1065.55 1934.93,1062.75 1935.77,1065.09 1936.61,1065.53 1937.45,1069.75 1938.29,1062.04 1939.13,1053.63 1939.97,1057.4 1940.81,1052.97 1941.65,1033.67 \n",
       "  1942.49,1023.61 1943.33,1019.88 1944.17,1017.49 1945.01,997.313 1945.85,998.419 1946.69,1007.99 1947.53,1014.6 1948.37,1015.91 1949.21,1011.4 1950.05,1016.15 \n",
       "  1950.89,1014.12 1951.73,1042.81 1952.57,1061.87 1953.41,1058.21 1954.25,1054.4 1955.09,1052.39 1955.93,1054.69 1956.77,1047.63 1957.61,1049.51 1958.45,1056.35 \n",
       "  1959.29,1075.92 1960.13,1074.14 1960.97,1070.45 1961.81,1071.48 1962.65,1066.51 1963.49,1066.38 1964.33,1069.5 1965.17,1060.72 1966.01,1065 1966.85,1065.85 \n",
       "  1967.69,1063.28 1968.53,1055.87 1969.37,1047.83 1970.21,1042.89 1971.05,1030.52 1971.89,1048 1972.73,1043.62 1973.57,1085.92 1974.41,1076.94 1975.25,1086.43 \n",
       "  1976.09,1077.08 1976.93,1058.61 1977.77,1074.23 1978.61,1073.49 1979.45,1073.59 1980.29,1078.33 1981.13,1076.65 1981.97,1075.49 1982.81,1065.98 1983.65,1073.94 \n",
       "  1984.49,1079.12 1985.33,1084.87 1986.17,1075.11 1987.01,1083.94 1987.85,1101.05 1988.69,1111.75 1989.53,1113.1 1990.37,1112.77 1991.21,1141.68 1992.06,1163.31 \n",
       "  1992.9,1155.8 1993.74,1185.42 1994.58,1188.28 1995.42,1179.08 1996.26,1161.53 1997.1,1180.47 1997.94,1223.14 1998.78,1250.15 1999.62,1264.4 2000.46,1244.79 \n",
       "  2001.3,1261.68 2002.14,1252.77 2002.98,1243.19 2003.82,1247.37 2004.66,1252.65 2005.5,1247.96 2006.34,1270.74 2007.18,1275.76 2008.02,1259.24 2008.86,1233.73 \n",
       "  2009.7,1207.67 2010.54,1228.08 2011.38,1251.6 2012.22,1246.95 2013.06,1252.31 2013.9,1256.37 2014.74,1248.06 2015.58,1252.92 2016.42,1258.03 2017.26,1257.58 \n",
       "  2018.1,1260.63 2018.94,1285.41 2019.78,1281.96 2020.62,1298.26 2021.46,1283.63 2022.3,1291.88 2023.14,1266.79 2023.98,1261.05 2024.82,1238.42 2025.66,1237.93 \n",
       "  2026.5,1250.81 2027.34,1231.35 2028.18,1231.66 2029.02,1234.4 2029.86,1231.89 2030.7,1219.29 2031.54,1219.54 2032.38,1209.25 2033.22,1223.29 2034.06,1235 \n",
       "  2034.9,1241.66 2035.74,1235.02 2036.58,1232.51 2037.42,1241.6 2038.26,1226.92 2039.1,1218.06 2039.94,1215.08 2040.78,1219.26 2041.62,1201.98 2042.46,1196.2 \n",
       "  2043.3,1197.63 2044.14,1182.63 2044.98,1179.77 2045.82,1177.32 2046.66,1174.16 2047.5,1174 2048.34,1184.09 2049.18,1177.04 2050.02,1167.71 2050.86,1172.04 \n",
       "  2051.7,1163.13 2052.54,1161.15 2053.38,1159.31 2054.22,1169.84 2055.06,1157.73 2055.9,1163.52 2056.74,1181.11 2057.58,1177.03 2058.42,1194.08 2059.26,1182.27 \n",
       "  2060.1,1176.55 2060.94,1200.07 2061.78,1207.66 2062.62,1207.12 2063.46,1211.39 2064.3,1214.5 2065.14,1208.16 2065.98,1211.85 2066.82,1214.05 2067.66,1239.64 \n",
       "  2068.5,1230.13 2069.35,1234.21 2070.19,1207.03 2071.03,1223.81 2071.87,1227.55 2072.71,1211.57 2073.55,1207.15 2074.39,1212.06 2075.23,1216.08 2076.07,1215.01 \n",
       "  2076.91,1208.6 2077.75,1208.05 2078.59,1213.98 2079.43,1216.31 2080.27,1216.45 2081.11,1211.9 2081.95,1209 2082.79,1214.98 2083.63,1213.53 2084.47,1201.69 \n",
       "  2085.31,1189.45 2086.15,1175.76 2086.99,1172.07 2087.83,1184.13 2088.67,1200.9 2089.51,1170.99 2090.35,1178.88 2091.19,1185.65 2092.03,1184.9 2092.87,1180.65 \n",
       "  2093.71,1175.12 2094.55,1171.45 2095.39,1172.98 2096.23,1166.19 2097.07,1153.14 2097.91,1149.09 2098.75,1141.18 2099.59,1147.03 2100.43,1158.96 2101.27,1149.84 \n",
       "  2102.11,1148.59 2102.95,1155.5 2103.79,1152.36 2104.63,1154.92 2105.47,1155.34 2106.31,1157.59 2107.15,1167.33 2107.99,1168.81 2108.83,1177.89 2109.67,1171.87 \n",
       "  2110.51,1182.38 2111.35,1185.58 2112.19,1180.7 2113.03,1180.17 2113.87,1188.46 2114.71,1203.88 2115.55,1214.77 2116.39,1212.52 2117.23,1212.09 2118.07,1223.26 \n",
       "  2118.91,1223.42 2119.75,1215.15 2120.59,1237.46 2121.43,1214.93 2122.27,1206.23 2123.11,1205.48 2123.95,1210.94 2124.79,1212.36 2125.63,1170.83 2126.47,1176.73 \n",
       "  2127.31,1173.31 2128.15,1163.77 2128.99,1160.34 2129.83,1143.96 2130.67,1164.32 2131.51,1172.61 2132.35,1171.8 2133.19,1129.17 2134.03,1126.98 2134.87,1132.24 \n",
       "  2135.71,1123.19 2136.55,1126.87 2137.39,1124.87 2138.23,1130.21 2139.07,1112.11 2139.91,1093.19 2140.75,1088.08 2141.59,1094.03 2142.43,1071.71 2143.27,1085.86 \n",
       "  2144.11,1078.25 2144.95,1067.55 2145.8,1052.49 2146.64,1065.26 2147.48,1056.84 2148.32,1044.02 2149.16,1044.1 2150,1085.88 2150.84,1069.6 2151.68,1082.22 \n",
       "  2152.52,1079.48 2153.36,1047.98 2154.2,1039.64 2155.04,1050.16 2155.88,1039.55 2156.72,1029.48 2157.56,1052.11 2158.4,1064.69 2159.24,1049.94 2160.08,1044.5 \n",
       "  2160.92,1072.28 2161.76,1079.43 2162.6,1065.28 2163.44,1067.85 2164.28,1052.06 2165.12,1053.7 2165.96,1056.21 2166.8,1071.96 2167.64,1090.93 2168.48,1084.9 \n",
       "  2169.32,1092.28 2170.16,1092.23 2171,1123.1 2171.84,1115.67 2172.68,1114.8 2173.52,1128.46 2174.36,1127.29 2175.2,1116.2 2176.04,1102.66 2176.88,1106.87 \n",
       "  2177.72,1091.16 2178.56,1047.94 2179.4,1039.54 2180.24,1049.57 2181.08,1035.15 2181.92,1016.89 2182.76,1013.51 2183.6,1007 2184.44,1013.64 2185.28,1010.14 \n",
       "  2186.12,1018.09 2186.96,1007.63 2187.8,1018.71 2188.64,1021.33 2189.48,1004.02 2190.32,1017.62 2191.16,1017.62 2192,1017.8 2192.84,1015.67 2193.68,1016.84 \n",
       "  2194.52,1014.5 2195.36,1022.65 2196.2,1032.77 2197.04,1036.2 2197.88,1047.28 2198.72,1048.36 2199.56,1064.54 2200.4,1061.92 2201.24,1062.73 2202.08,1042.05 \n",
       "  2202.92,1046.91 2203.76,1052.78 2204.6,1040.11 2205.44,1036.39 2206.28,1037.67 2207.12,1045.26 2207.96,1039.16 2208.8,1046.31 2209.64,1050.73 2210.48,1055.12 \n",
       "  2211.32,1049.79 2212.16,1031.12 2213,1020.92 2213.84,1031.18 2214.68,1018.75 2215.52,1011.16 2216.36,1014.71 2217.2,1016.37 2218.04,1019.11 2218.88,1019.29 \n",
       "  2219.72,1028.79 2220.56,1024.94 2221.4,1014.07 2222.24,1009.92 2223.09,1016.87 2223.93,1009.26 2224.77,988.31 2225.61,978.988 2226.45,986.654 2227.29,986.265 \n",
       "  2228.13,982.351 2228.97,1002.13 2229.81,1018.15 2230.65,1017.04 2231.49,1024.92 2232.33,1030.54 2233.17,1018.26 2234.01,977.061 2234.85,969.249 2235.69,969.029 \n",
       "  2236.53,957.554 2237.37,951.775 2238.21,958.978 2239.05,965.353 2239.89,963.654 2240.73,964.202 2241.57,970.18 2242.41,962.691 2243.25,946.497 2244.09,934.124 \n",
       "  2244.93,933.796 2245.77,937.843 2246.61,941.914 2247.45,939.974 2248.29,931.452 2249.13,924.506 2249.97,928.071 2250.81,934.722 2251.65,932.185 2252.49,947.439 \n",
       "  2253.33,955.722 2254.17,949.213 2255.01,952.124 2255.85,951.2 2256.69,953.707 2257.53,935.751 2258.37,947.841 2259.21,946.356 2260.05,939.176 2260.89,944.639 \n",
       "  2261.73,952.512 2262.57,953.742 2263.41,961.485 2264.25,952.198 2265.09,954.768 2265.93,952.588 2266.77,950.672 2267.61,977.002 2268.45,981.826 2269.29,1011.73 \n",
       "  2270.13,1015.83 2270.97,1015.29 2271.81,1024.59 2272.65,1023.34 2273.49,1022.64 2274.33,1025.1 2275.17,1052.19 2276.01,1042.71 2276.85,1047.68 2277.69,1028.91 \n",
       "  2278.53,1029.62 2279.37,1035.49 2280.21,1036.35 2281.05,1063.26 2281.89,1056.65 2282.73,1044.72 2283.57,1036.88 2284.41,1021.07 2285.25,1029.09 2286.09,1014.03 \n",
       "  2286.93,1008.34 2287.77,1004.73 2288.61,1011.69 2289.45,1012.31 2290.29,998.286 2291.13,986.163 \n",
       "  \"/>\n",
       "<polyline clip-path=\"url(#clip732)\" style=\"stroke:#ff0000; stroke-linecap:round; stroke-linejoin:round; stroke-width:8; stroke-opacity:1; fill:none\" points=\"\n",
       "  1675.33,562.103 1676.17,567.843 1677.01,549.871 1677.85,577.419 1678.69,585.054 1679.53,578.33 1680.37,572.058 1681.21,573.62 1682.05,568.808 1682.89,562.346 \n",
       "  1683.74,551.479 1684.58,555.633 1685.42,554.28 1686.26,552.764 1687.1,501.819 1687.94,496.78 1688.78,485.366 1689.62,488.115 1690.46,472.264 1691.3,481.155 \n",
       "  1692.14,472.759 1692.98,458.353 1693.82,487.629 1694.66,495.451 1695.5,491.102 1696.34,478.188 1697.18,489.052 1698.02,471.53 1698.86,483.428 1699.7,483.177 \n",
       "  1700.54,474.463 1701.38,508.646 1702.22,526.242 1703.06,520.889 1703.9,543.406 1704.74,535.932 1705.58,492.742 1706.42,486.475 1707.26,477.126 1708.1,477.091 \n",
       "  1708.94,469.456 1709.78,468.069 1710.62,468.378 1711.46,477.301 1712.3,452.254 1713.14,449.818 1713.98,453.158 1714.82,426.714 1715.66,448.606 1716.5,451.935 \n",
       "  1717.34,462.96 1718.18,485.534 1719.02,449.25 1719.86,452.334 1720.7,452.58 1721.54,462.475 1722.38,444.869 1723.22,486.546 1724.06,482.349 1724.9,497.568 \n",
       "  1725.74,556.045 1726.58,559.14 1727.42,582.503 1728.26,568.181 1729.1,561.504 1729.94,572.576 1730.78,571.556 1731.62,548.035 1732.46,552.183 1733.3,557.155 \n",
       "  1734.14,561.284 1734.98,580.281 1735.82,580.873 1736.66,576.965 1737.5,568.078 1738.34,571.837 1739.18,565.994 1740.02,556.017 1740.86,563.348 1741.7,553.722 \n",
       "  1742.54,539.181 1743.38,575.02 1744.22,582.564 1745.06,622.392 1745.9,634.814 1746.74,648.897 1747.58,659.732 1748.42,645.056 1749.26,630.168 1750.1,640.89 \n",
       "  1750.94,650.084 1751.78,641.232 1752.62,632.595 1753.46,648.363 1754.3,626.42 1755.14,621.742 1755.98,619.239 1756.82,618.83 1757.66,619.729 1758.5,646.12 \n",
       "  1759.34,643.971 1760.18,637.878 1761.03,639.465 1761.87,647.469 1762.71,639.908 1763.55,635.49 1764.39,632.635 1765.23,635.792 1766.07,644.313 1766.91,643.412 \n",
       "  1767.75,634.337 1768.59,638.011 1769.43,638.132 1770.27,628.424 1771.11,638.41 1771.95,658.25 1772.79,688.495 1773.63,678.507 1774.47,668.754 1775.31,645.042 \n",
       "  1776.15,642.829 1776.99,642.54 1777.83,638.678 1778.67,624.194 1779.51,622.336 1780.35,624.252 1781.19,617.521 1782.03,622.986 1782.87,635.661 1783.71,630.65 \n",
       "  1784.55,629.459 1785.39,623.2 1786.23,614.717 1787.07,651.746 1787.91,662.352 1788.75,653.431 1789.59,656.366 1790.43,673.909 1791.27,671.659 1792.11,676.532 \n",
       "  1792.95,676.685 1793.79,672.959 1794.63,674.398 1795.47,671.67 1796.31,676.7 1797.15,677.525 1797.99,686.316 1798.83,687.588 1799.67,692.136 1800.51,714.684 \n",
       "  1801.35,740.246 1802.19,698.116 1803.03,624.997 1803.87,634.124 1804.71,630.47 1805.55,626.501 1806.39,682.787 1807.23,720.138 1808.07,723.534 1808.91,708.758 \n",
       "  1809.75,713.579 1810.59,692.303 1811.43,700.267 1812.27,698.433 1813.11,697.472 1813.95,691.453 1814.79,689.502 1815.63,700.7 1816.47,702.173 1817.31,696.482 \n",
       "  1818.15,712.803 1818.99,728.588 1819.83,739.334 1820.67,738.049 1821.51,741.062 1822.35,752.822 1823.19,759.249 1824.03,784.087 1824.87,755.132 1825.71,763.631 \n",
       "  1826.55,759.4 1827.39,771.854 1828.23,750.301 1829.07,746.896 1829.91,768.992 1830.75,758.309 1831.59,755.888 1832.43,757.749 1833.27,748.75 1834.11,749.158 \n",
       "  1834.95,759.934 1835.79,769.228 1836.63,765.823 1837.48,754.092 1838.32,748.637 1839.16,745.443 1840,713.171 1840.84,705.851 1841.68,715.414 1842.52,735.546 \n",
       "  1843.36,793.526 1844.2,778.322 1845.04,776.52 1845.88,786.402 1846.72,784.618 1847.56,791.909 1848.4,795.587 1849.24,805.983 1850.08,795.734 1850.92,792.617 \n",
       "  1851.76,809.151 1852.6,837.75 1853.44,830.382 1854.28,831.426 1855.12,844.54 1855.96,840.12 1856.8,863.434 1857.64,873.449 1858.48,895.103 1859.32,931.906 \n",
       "  1860.16,953.795 1861,941.957 1861.84,908.171 1862.68,899.052 1863.52,915.359 1864.36,916.861 1865.2,919.922 1866.04,927.503 1866.88,978.786 1867.72,1033.98 \n",
       "  1868.56,1012.68 1869.4,1096.68 1870.24,1072.4 1871.08,1036.27 1871.92,1061.71 1872.76,1006.06 1873.6,971.935 1874.44,963.253 1875.28,982.447 1876.12,982.406 \n",
       "  1876.96,986.528 1877.8,992.53 1878.64,1019.04 1879.48,999.335 1880.32,985.001 1881.16,997.777 1882,993.037 1882.84,979.142 1883.68,968.804 1884.52,949.928 \n",
       "  1885.36,962.206 1886.2,983.108 1887.04,991.661 1887.88,990.229 1888.72,987.104 1889.56,971.708 1890.4,969.588 1891.24,985.441 1892.08,977.301 1892.92,974.765 \n",
       "  1893.76,990.705 1894.6,990.673 1895.44,1018.28 1896.28,1019.24 1897.12,1022.71 1897.96,1022.3 1898.8,1012.38 1899.64,1000.07 1900.48,998.229 1901.32,988.767 \n",
       "  1902.16,987.279 1903,987.47 1903.84,1010.78 1904.68,1004.34 1905.52,1009.62 1906.36,1010.89 1907.2,1007.4 1908.04,1005.27 1908.88,1004.01 1909.72,1005.37 \n",
       "  1910.56,991.17 1911.4,998.026 1912.24,994.864 1913.08,991.157 1913.92,972.006 1914.77,967.031 1915.61,976.674 1916.45,1007.11 1917.29,1000.69 1918.13,1004.06 \n",
       "  1918.97,1014.14 1919.81,1012.32 1920.65,1005.12 1921.49,999.343 1922.33,1012.78 1923.17,1009.64 1924.01,1013.66 1924.85,1013.28 1925.69,1024.68 1926.53,1060.84 \n",
       "  1927.37,1054.46 1928.21,1060.69 1929.05,1081.19 1929.89,1084.98 1930.73,1066.12 1931.57,1061.87 1932.41,1069.22 1933.25,1069.09 1934.09,1065.55 1934.93,1062.75 \n",
       "  1935.77,1065.09 1936.61,1065.53 1937.45,1069.75 1938.29,1062.04 1939.13,1053.63 1939.97,1057.4 1940.81,1052.97 1941.65,1033.67 1942.49,1023.61 1943.33,1019.88 \n",
       "  1944.17,1017.49 1945.01,997.313 1945.85,998.419 1946.69,1007.99 1947.53,1014.6 1948.37,1015.91 1949.21,1011.4 1950.05,1016.15 1950.89,1014.12 1951.73,1042.81 \n",
       "  1952.57,1061.87 1953.41,1058.21 1954.25,1054.4 1955.09,1052.39 1955.93,1054.69 1956.77,1047.63 1957.61,1049.51 1958.45,1056.35 1959.29,1075.92 1960.13,1074.14 \n",
       "  1960.97,1070.45 1961.81,1071.48 1962.65,1066.51 1963.49,1066.38 1964.33,1069.5 1965.17,1060.72 1966.01,1065 1966.85,1065.85 1967.69,1063.28 1968.53,1055.87 \n",
       "  1969.37,1047.83 1970.21,1042.89 1971.05,1030.52 1971.89,1048 1972.73,1043.62 1973.57,1085.92 1974.41,1076.94 1975.25,1086.43 1976.09,1077.08 1976.93,1058.61 \n",
       "  1977.77,1074.23 1978.61,1073.49 1979.45,1073.59 1980.29,1078.33 1981.13,1076.65 1981.97,1075.49 1982.81,1065.98 1983.65,1073.94 1984.49,1079.12 1985.33,1084.87 \n",
       "  1986.17,1075.11 1987.01,1083.94 1987.85,1101.05 1988.69,1111.75 1989.53,1113.1 1990.37,1112.77 1991.21,1141.68 1992.06,1163.31 1992.9,1155.8 1993.74,1185.42 \n",
       "  1994.58,1188.28 1995.42,1179.08 1996.26,1161.53 1997.1,1180.47 1997.94,1223.14 1998.78,1250.15 1999.62,1264.4 2000.46,1244.79 2001.3,1261.68 2002.14,1252.77 \n",
       "  2002.98,1243.19 2003.82,1247.37 2004.66,1252.65 2005.5,1247.96 2006.34,1270.74 2007.18,1275.76 2008.02,1259.24 2008.86,1233.73 2009.7,1207.67 2010.54,1228.08 \n",
       "  2011.38,1251.6 2012.22,1246.95 2013.06,1252.31 2013.9,1256.37 2014.74,1248.06 2015.58,1252.92 2016.42,1258.03 2017.26,1257.58 2018.1,1260.63 2018.94,1285.41 \n",
       "  2019.78,1281.96 2020.62,1298.26 2021.46,1283.63 2022.3,1291.88 2023.14,1266.79 2023.98,1261.05 2024.82,1238.42 2025.66,1237.93 2026.5,1250.81 2027.34,1231.35 \n",
       "  2028.18,1231.66 2029.02,1234.4 2029.86,1231.89 2030.7,1219.29 2031.54,1219.54 2032.38,1209.25 2033.22,1223.29 2034.06,1235 2034.9,1241.66 2035.74,1235.02 \n",
       "  2036.58,1232.51 2037.42,1241.6 2038.26,1226.92 2039.1,1218.06 2039.94,1215.08 2040.78,1219.26 2041.62,1201.98 2042.46,1196.2 2043.3,1197.63 2044.14,1182.63 \n",
       "  2044.98,1179.77 2045.82,1177.32 2046.66,1174.16 2047.5,1174 2048.34,1184.09 2049.18,1177.04 2050.02,1167.71 2050.86,1172.04 2051.7,1163.13 2052.54,1161.15 \n",
       "  2053.38,1159.31 2054.22,1169.84 2055.06,1157.73 2055.9,1163.52 2056.74,1181.11 2057.58,1177.03 2058.42,1194.08 2059.26,1182.27 2060.1,1176.55 2060.94,1200.07 \n",
       "  2061.78,1207.66 2062.62,1207.12 2063.46,1211.39 2064.3,1214.5 2065.14,1208.16 2065.98,1211.85 2066.82,1214.05 2067.66,1239.64 2068.5,1230.13 2069.35,1234.21 \n",
       "  2070.19,1207.03 2071.03,1223.81 2071.87,1227.55 2072.71,1211.57 2073.55,1207.15 2074.39,1212.06 2075.23,1216.08 2076.07,1215.01 2076.91,1208.6 2077.75,1208.05 \n",
       "  2078.59,1213.98 2079.43,1216.31 2080.27,1216.45 2081.11,1211.9 2081.95,1209 2082.79,1214.98 2083.63,1213.53 2084.47,1201.69 2085.31,1189.45 2086.15,1175.76 \n",
       "  2086.99,1172.07 2087.83,1184.13 2088.67,1200.9 2089.51,1170.99 2090.35,1178.88 2091.19,1185.65 2092.03,1184.9 2092.87,1180.65 2093.71,1175.12 2094.55,1171.45 \n",
       "  2095.39,1172.98 2096.23,1166.19 2097.07,1153.14 2097.91,1149.09 2098.75,1141.18 2099.59,1147.03 2100.43,1158.96 2101.27,1149.84 2102.11,1148.59 2102.95,1155.5 \n",
       "  2103.79,1152.36 2104.63,1154.92 2105.47,1155.34 2106.31,1157.59 2107.15,1167.33 2107.99,1168.81 2108.83,1177.89 2109.67,1171.87 2110.51,1182.38 2111.35,1185.58 \n",
       "  2112.19,1180.7 2113.03,1180.17 2113.87,1188.46 2114.71,1203.88 2115.55,1214.77 2116.39,1212.52 2117.23,1212.09 2118.07,1223.26 2118.91,1223.42 2119.75,1215.15 \n",
       "  2120.59,1237.46 2121.43,1214.93 2122.27,1206.23 2123.11,1205.48 2123.95,1210.94 2124.79,1212.36 2125.63,1170.83 2126.47,1176.73 2127.31,1173.31 2128.15,1163.77 \n",
       "  2128.99,1160.34 2129.83,1143.96 2130.67,1164.32 2131.51,1172.61 2132.35,1171.8 2133.19,1129.17 2134.03,1126.98 2134.87,1132.24 2135.71,1123.19 2136.55,1126.87 \n",
       "  2137.39,1124.87 2138.23,1130.21 2139.07,1112.11 2139.91,1093.19 2140.75,1088.08 2141.59,1094.03 2142.43,1071.71 2143.27,1085.86 2144.11,1078.25 2144.95,1067.55 \n",
       "  2145.8,1052.49 2146.64,1065.26 2147.48,1056.84 2148.32,1044.02 2149.16,1044.1 2150,1085.88 2150.84,1069.6 2151.68,1082.22 2152.52,1079.48 2153.36,1047.98 \n",
       "  2154.2,1039.64 2155.04,1050.16 2155.88,1039.55 2156.72,1029.48 2157.56,1052.11 2158.4,1064.69 2159.24,1049.94 2160.08,1044.5 2160.92,1072.28 2161.76,1079.43 \n",
       "  2162.6,1065.28 2163.44,1067.85 2164.28,1052.06 2165.12,1053.7 2165.96,1056.21 2166.8,1071.96 2167.64,1090.93 2168.48,1084.9 2169.32,1092.28 2170.16,1092.23 \n",
       "  2171,1123.1 2171.84,1115.67 2172.68,1114.8 2173.52,1128.46 2174.36,1127.29 2175.2,1116.2 2176.04,1102.66 2176.88,1106.87 2177.72,1091.16 2178.56,1047.94 \n",
       "  2179.4,1039.54 2180.24,1049.57 2181.08,1035.15 2181.92,1016.89 2182.76,1013.51 2183.6,1007 2184.44,1013.64 2185.28,1010.14 2186.12,1018.09 2186.96,1007.63 \n",
       "  2187.8,1018.71 2188.64,1021.33 2189.48,1004.02 2190.32,1017.62 2191.16,1017.62 2192,1017.8 2192.84,1015.67 2193.68,1016.84 2194.52,1014.5 2195.36,1022.65 \n",
       "  2196.2,1032.77 2197.04,1036.2 2197.88,1047.28 2198.72,1048.36 2199.56,1064.54 2200.4,1061.92 2201.24,1062.73 2202.08,1042.05 2202.92,1046.91 2203.76,1052.78 \n",
       "  2204.6,1040.11 2205.44,1036.39 2206.28,1037.67 2207.12,1045.26 2207.96,1039.16 2208.8,1046.31 2209.64,1050.73 2210.48,1055.12 2211.32,1049.79 2212.16,1031.12 \n",
       "  2213,1020.92 2213.84,1031.18 2214.68,1018.75 2215.52,1011.16 2216.36,1014.71 2217.2,1016.37 2218.04,1019.11 2218.88,1019.29 2219.72,1028.79 2220.56,1024.94 \n",
       "  2221.4,1014.07 2222.24,1009.92 2223.09,1016.87 2223.93,1009.26 2224.77,988.31 2225.61,978.988 2226.45,986.654 2227.29,986.265 2228.13,982.351 2228.97,1002.13 \n",
       "  2229.81,1018.15 2230.65,1017.04 2231.49,1024.92 2232.33,1030.54 2233.17,1018.26 2234.01,977.061 2234.85,969.249 2235.69,969.029 2236.53,957.554 2237.37,951.775 \n",
       "  2238.21,958.978 2239.05,965.353 2239.89,963.654 2240.73,964.202 2241.57,970.18 2242.41,962.691 2243.25,946.497 2244.09,934.124 2244.93,933.796 2245.77,937.843 \n",
       "  2246.61,941.914 2247.45,939.974 2248.29,931.452 2249.13,924.506 2249.97,928.071 2250.81,934.722 2251.65,932.185 2252.49,947.439 2253.33,955.722 2254.17,949.213 \n",
       "  2255.01,952.124 2255.85,951.2 2256.69,953.707 2257.53,935.751 2258.37,947.841 2259.21,946.356 2260.05,939.176 2260.89,944.639 2261.73,952.512 2262.57,953.742 \n",
       "  2263.41,961.485 2264.25,952.198 2265.09,954.768 2265.93,952.588 2266.77,950.672 2267.61,977.002 2268.45,981.826 2269.29,1011.73 2270.13,1015.83 2270.97,1015.29 \n",
       "  2271.81,1024.59 2272.65,1023.34 2273.49,1022.64 2274.33,1025.1 2275.17,1052.19 2276.01,1042.71 2276.85,1047.68 2277.69,1028.91 2278.53,1029.62 2279.37,1035.49 \n",
       "  2280.21,1036.35 2281.05,1063.26 2281.89,1056.65 2282.73,1044.72 2283.57,1036.88 2284.41,1021.07 2285.25,1029.09 2286.09,1014.03 2286.93,1008.34 2287.77,1004.73 \n",
       "  2288.61,1011.69 2289.45,1012.31 2290.29,998.286 2291.13,986.163 \n",
       "  \"/>\n",
       "<path clip-path=\"url(#clip730)\" d=\"\n",
       "M1741.76 250.738 L2280.18 250.738 L2280.18 95.2176 L1741.76 95.2176  Z\n",
       "  \" fill=\"#ffffff\" fill-rule=\"evenodd\" fill-opacity=\"1\"/>\n",
       "<polyline clip-path=\"url(#clip730)\" style=\"stroke:#000000; stroke-linecap:round; stroke-linejoin:round; stroke-width:4; stroke-opacity:1; fill:none\" points=\"\n",
       "  1741.76,250.738 2280.18,250.738 2280.18,95.2176 1741.76,95.2176 1741.76,250.738 \n",
       "  \"/>\n",
       "<polyline clip-path=\"url(#clip730)\" style=\"stroke:#009af9; stroke-linecap:round; stroke-linejoin:round; stroke-width:8; stroke-opacity:1; fill:none\" points=\"\n",
       "  1765.95,147.058 1911.1,147.058 \n",
       "  \"/>\n",
       "<path clip-path=\"url(#clip730)\" d=\"M1935.29 138.412 L1939.55 138.412 L1939.55 164.338 L1935.29 164.338 L1935.29 138.412 M1935.29 128.319 L1939.55 128.319 L1939.55 133.713 L1935.29 133.713 L1935.29 128.319 Z\" fill=\"#000000\" fill-rule=\"evenodd\" fill-opacity=\"1\" /><path clip-path=\"url(#clip730)\" d=\"M1970.02 148.689 L1970.02 164.338 L1965.76 164.338 L1965.76 148.828 Q1965.76 145.148 1964.32 143.319 Q1962.89 141.49 1960.02 141.49 Q1956.57 141.49 1954.58 143.69 Q1952.59 145.889 1952.59 149.685 L1952.59 164.338 L1948.3 164.338 L1948.3 138.412 L1952.59 138.412 L1952.59 142.44 Q1954.11 140.102 1956.17 138.944 Q1958.26 137.787 1960.96 137.787 Q1965.43 137.787 1967.72 140.565 Q1970.02 143.319 1970.02 148.689 Z\" fill=\"#000000\" fill-rule=\"evenodd\" fill-opacity=\"1\" /><path clip-path=\"url(#clip730)\" d=\"M2010.11 139.176 L2010.11 143.203 Q2008.3 142.277 2006.36 141.815 Q2004.41 141.352 2002.33 141.352 Q1999.16 141.352 1997.56 142.324 Q1995.99 143.296 1995.99 145.24 Q1995.99 146.722 1997.12 147.578 Q1998.26 148.412 2001.68 149.176 L2003.14 149.5 Q2007.68 150.472 2009.58 152.254 Q2011.5 154.014 2011.5 157.185 Q2011.5 160.796 2008.63 162.902 Q2005.78 165.009 2000.78 165.009 Q1998.7 165.009 1996.43 164.592 Q1994.18 164.199 1991.68 163.388 L1991.68 158.99 Q1994.04 160.217 1996.34 160.842 Q1998.63 161.444 2000.87 161.444 Q2003.88 161.444 2005.5 160.426 Q2007.12 159.384 2007.12 157.509 Q2007.12 155.773 2005.94 154.847 Q2004.78 153.921 2000.83 153.064 L1999.34 152.717 Q1995.39 151.884 1993.63 150.171 Q1991.87 148.435 1991.87 145.426 Q1991.87 141.768 1994.46 139.778 Q1997.05 137.787 2001.82 137.787 Q2004.18 137.787 2006.27 138.134 Q2008.35 138.481 2010.11 139.176 Z\" fill=\"#000000\" fill-rule=\"evenodd\" fill-opacity=\"1\" /><path clip-path=\"url(#clip730)\" d=\"M2030.06 151.305 Q2024.9 151.305 2022.91 152.486 Q2020.92 153.666 2020.92 156.514 Q2020.92 158.782 2022.4 160.125 Q2023.9 161.444 2026.47 161.444 Q2030.02 161.444 2032.15 158.944 Q2034.3 156.421 2034.3 152.254 L2034.3 151.305 L2030.06 151.305 M2038.56 149.546 L2038.56 164.338 L2034.3 164.338 L2034.3 160.402 Q2032.84 162.763 2030.66 163.898 Q2028.49 165.009 2025.34 165.009 Q2021.36 165.009 2019 162.787 Q2016.66 160.541 2016.66 156.791 Q2016.66 152.416 2019.58 150.194 Q2022.52 147.972 2028.33 147.972 L2034.3 147.972 L2034.3 147.555 Q2034.3 144.615 2032.35 143.018 Q2030.43 141.398 2026.94 141.398 Q2024.71 141.398 2022.61 141.93 Q2020.5 142.463 2018.56 143.527 L2018.56 139.592 Q2020.9 138.69 2023.09 138.25 Q2025.29 137.787 2027.38 137.787 Q2033 137.787 2035.78 140.703 Q2038.56 143.62 2038.56 149.546 Z\" fill=\"#000000\" fill-rule=\"evenodd\" fill-opacity=\"1\" /><path clip-path=\"url(#clip730)\" d=\"M2067.52 143.389 Q2069.11 140.518 2071.33 139.153 Q2073.56 137.787 2076.57 137.787 Q2080.62 137.787 2082.82 140.634 Q2085.02 143.458 2085.02 148.689 L2085.02 164.338 L2080.73 164.338 L2080.73 148.828 Q2080.73 145.102 2079.41 143.296 Q2078.09 141.49 2075.39 141.49 Q2072.08 141.49 2070.15 143.69 Q2068.23 145.889 2068.23 149.685 L2068.23 164.338 L2063.95 164.338 L2063.95 148.828 Q2063.95 145.078 2062.63 143.296 Q2061.31 141.49 2058.56 141.49 Q2055.29 141.49 2053.37 143.713 Q2051.45 145.912 2051.45 149.685 L2051.45 164.338 L2047.17 164.338 L2047.17 138.412 L2051.45 138.412 L2051.45 142.44 Q2052.91 140.055 2054.95 138.921 Q2056.98 137.787 2059.78 137.787 Q2062.61 137.787 2064.58 139.222 Q2066.57 140.657 2067.52 143.389 Z\" fill=\"#000000\" fill-rule=\"evenodd\" fill-opacity=\"1\" /><path clip-path=\"url(#clip730)\" d=\"M2097.63 160.449 L2097.63 174.199 L2093.35 174.199 L2093.35 138.412 L2097.63 138.412 L2097.63 142.347 Q2098.97 140.032 2101.01 138.921 Q2103.07 137.787 2105.92 137.787 Q2110.64 137.787 2113.58 141.537 Q2116.54 145.287 2116.54 151.398 Q2116.54 157.509 2113.58 161.259 Q2110.64 165.009 2105.92 165.009 Q2103.07 165.009 2101.01 163.898 Q2098.97 162.763 2097.63 160.449 M2112.12 151.398 Q2112.12 146.699 2110.18 144.037 Q2108.26 141.352 2104.88 141.352 Q2101.5 141.352 2099.55 144.037 Q2097.63 146.699 2097.63 151.398 Q2097.63 156.097 2099.55 158.782 Q2101.5 161.444 2104.88 161.444 Q2108.26 161.444 2110.18 158.782 Q2112.12 156.097 2112.12 151.398 Z\" fill=\"#000000\" fill-rule=\"evenodd\" fill-opacity=\"1\" /><path clip-path=\"url(#clip730)\" d=\"M2123.6 128.319 L2127.86 128.319 L2127.86 164.338 L2123.6 164.338 L2123.6 128.319 Z\" fill=\"#000000\" fill-rule=\"evenodd\" fill-opacity=\"1\" /><path clip-path=\"url(#clip730)\" d=\"M2158.95 150.31 L2158.95 152.393 L2139.37 152.393 Q2139.64 156.791 2142.01 159.106 Q2144.39 161.398 2148.63 161.398 Q2151.08 161.398 2153.37 160.796 Q2155.69 160.194 2157.95 158.99 L2157.95 163.018 Q2155.66 163.99 2153.26 164.5 Q2150.85 165.009 2148.37 165.009 Q2142.17 165.009 2138.53 161.398 Q2134.92 157.787 2134.92 151.629 Q2134.92 145.264 2138.35 141.537 Q2141.8 137.787 2147.63 137.787 Q2152.86 137.787 2155.89 141.166 Q2158.95 144.523 2158.95 150.31 M2154.69 149.06 Q2154.64 145.565 2152.72 143.481 Q2150.83 141.398 2147.68 141.398 Q2144.11 141.398 2141.96 143.412 Q2139.83 145.426 2139.51 149.083 L2154.69 149.06 Z\" fill=\"#000000\" fill-rule=\"evenodd\" fill-opacity=\"1\" /><polyline clip-path=\"url(#clip730)\" style=\"stroke:#ff0000; stroke-linecap:round; stroke-linejoin:round; stroke-width:8; stroke-opacity:1; fill:none\" points=\"\n",
       "  1765.95,198.898 1911.1,198.898 \n",
       "  \"/>\n",
       "<path clip-path=\"url(#clip730)\" d=\"M1947.19 193.238 Q1943.77 193.238 1941.78 195.923 Q1939.78 198.585 1939.78 203.238 Q1939.78 207.891 1941.75 210.576 Q1943.74 213.238 1947.19 213.238 Q1950.59 213.238 1952.59 210.553 Q1954.58 207.867 1954.58 203.238 Q1954.58 198.631 1952.59 195.946 Q1950.59 193.238 1947.19 193.238 M1947.19 189.627 Q1952.75 189.627 1955.92 193.238 Q1959.09 196.849 1959.09 203.238 Q1959.09 209.604 1955.92 213.238 Q1952.75 216.849 1947.19 216.849 Q1941.61 216.849 1938.44 213.238 Q1935.29 209.604 1935.29 203.238 Q1935.29 196.849 1938.44 193.238 Q1941.61 189.627 1947.19 189.627 Z\" fill=\"#000000\" fill-rule=\"evenodd\" fill-opacity=\"1\" /><path clip-path=\"url(#clip730)\" d=\"M1965.71 205.946 L1965.71 190.252 L1969.97 190.252 L1969.97 205.784 Q1969.97 209.465 1971.4 211.316 Q1972.84 213.145 1975.71 213.145 Q1979.16 213.145 1981.15 210.946 Q1983.16 208.747 1983.16 204.951 L1983.16 190.252 L1987.42 190.252 L1987.42 216.178 L1983.16 216.178 L1983.16 212.196 Q1981.61 214.557 1979.55 215.715 Q1977.52 216.849 1974.81 216.849 Q1970.34 216.849 1968.03 214.071 Q1965.71 211.293 1965.71 205.946 M1976.43 189.627 L1976.43 189.627 Z\" fill=\"#000000\" fill-rule=\"evenodd\" fill-opacity=\"1\" /><path clip-path=\"url(#clip730)\" d=\"M2000.41 182.891 L2000.41 190.252 L2009.18 190.252 L2009.18 193.562 L2000.41 193.562 L2000.41 207.636 Q2000.41 210.807 2001.27 211.71 Q2002.15 212.613 2004.81 212.613 L2009.18 212.613 L2009.18 216.178 L2004.81 216.178 Q1999.88 216.178 1998 214.349 Q1996.13 212.497 1996.13 207.636 L1996.13 193.562 L1993 193.562 L1993 190.252 L1996.13 190.252 L1996.13 182.891 L2000.41 182.891 Z\" fill=\"#000000\" fill-rule=\"evenodd\" fill-opacity=\"1\" /><path clip-path=\"url(#clip730)\" d=\"M2039.9 193.238 Q2036.47 193.238 2034.48 195.923 Q2032.49 198.585 2032.49 203.238 Q2032.49 207.891 2034.46 210.576 Q2036.45 213.238 2039.9 213.238 Q2043.3 213.238 2045.29 210.553 Q2047.28 207.867 2047.28 203.238 Q2047.28 198.631 2045.29 195.946 Q2043.3 193.238 2039.9 193.238 M2039.9 189.627 Q2045.46 189.627 2048.63 193.238 Q2051.8 196.849 2051.8 203.238 Q2051.8 209.604 2048.63 213.238 Q2045.46 216.849 2039.9 216.849 Q2034.32 216.849 2031.15 213.238 Q2028 209.604 2028 203.238 Q2028 196.849 2031.15 193.238 Q2034.32 189.627 2039.9 189.627 Z\" fill=\"#000000\" fill-rule=\"evenodd\" fill-opacity=\"1\" /><path clip-path=\"url(#clip730)\" d=\"M2071.98 180.159 L2071.98 183.701 L2067.91 183.701 Q2065.62 183.701 2064.71 184.627 Q2063.83 185.553 2063.83 187.96 L2063.83 190.252 L2070.85 190.252 L2070.85 193.562 L2063.83 193.562 L2063.83 216.178 L2059.55 216.178 L2059.55 193.562 L2055.48 193.562 L2055.48 190.252 L2059.55 190.252 L2059.55 188.446 Q2059.55 184.118 2061.57 182.15 Q2063.58 180.159 2067.96 180.159 L2071.98 180.159 Z\" fill=\"#000000\" fill-rule=\"evenodd\" fill-opacity=\"1\" /><path clip-path=\"url(#clip730)\" d=\"M2107.14 191.016 L2107.14 195.043 Q2105.34 194.117 2103.39 193.655 Q2101.45 193.192 2099.37 193.192 Q2096.2 193.192 2094.6 194.164 Q2093.02 195.136 2093.02 197.08 Q2093.02 198.562 2094.16 199.418 Q2095.29 200.252 2098.72 201.016 L2100.18 201.34 Q2104.71 202.312 2106.61 204.094 Q2108.53 205.854 2108.53 209.025 Q2108.53 212.636 2105.66 214.742 Q2102.82 216.849 2097.82 216.849 Q2095.73 216.849 2093.46 216.432 Q2091.22 216.039 2088.72 215.228 L2088.72 210.83 Q2091.08 212.057 2093.37 212.682 Q2095.66 213.284 2097.91 213.284 Q2100.92 213.284 2102.54 212.266 Q2104.16 211.224 2104.16 209.349 Q2104.16 207.613 2102.98 206.687 Q2101.82 205.761 2097.86 204.904 L2096.38 204.557 Q2092.42 203.724 2090.66 202.011 Q2088.9 200.275 2088.9 197.266 Q2088.9 193.608 2091.5 191.618 Q2094.09 189.627 2098.86 189.627 Q2101.22 189.627 2103.3 189.974 Q2105.39 190.321 2107.14 191.016 Z\" fill=\"#000000\" fill-rule=\"evenodd\" fill-opacity=\"1\" /><path clip-path=\"url(#clip730)\" d=\"M2127.1 203.145 Q2121.94 203.145 2119.95 204.326 Q2117.95 205.506 2117.95 208.354 Q2117.95 210.622 2119.44 211.965 Q2120.94 213.284 2123.51 213.284 Q2127.05 213.284 2129.18 210.784 Q2131.33 208.261 2131.33 204.094 L2131.33 203.145 L2127.1 203.145 M2135.59 201.386 L2135.59 216.178 L2131.33 216.178 L2131.33 212.242 Q2129.88 214.603 2127.7 215.738 Q2125.52 216.849 2122.38 216.849 Q2118.39 216.849 2116.03 214.627 Q2113.7 212.381 2113.7 208.631 Q2113.7 204.256 2116.61 202.034 Q2119.55 199.812 2125.36 199.812 L2131.33 199.812 L2131.33 199.395 Q2131.33 196.455 2129.39 194.858 Q2127.47 193.238 2123.97 193.238 Q2121.75 193.238 2119.64 193.77 Q2117.54 194.303 2115.59 195.367 L2115.59 191.432 Q2117.93 190.53 2120.13 190.09 Q2122.33 189.627 2124.41 189.627 Q2130.04 189.627 2132.82 192.543 Q2135.59 195.46 2135.59 201.386 Z\" fill=\"#000000\" fill-rule=\"evenodd\" fill-opacity=\"1\" /><path clip-path=\"url(#clip730)\" d=\"M2164.55 195.229 Q2166.15 192.358 2168.37 190.993 Q2170.59 189.627 2173.6 189.627 Q2177.65 189.627 2179.85 192.474 Q2182.05 195.298 2182.05 200.529 L2182.05 216.178 L2177.77 216.178 L2177.77 200.668 Q2177.77 196.942 2176.45 195.136 Q2175.13 193.33 2172.42 193.33 Q2169.11 193.33 2167.19 195.53 Q2165.27 197.729 2165.27 201.525 L2165.27 216.178 L2160.99 216.178 L2160.99 200.668 Q2160.99 196.918 2159.67 195.136 Q2158.35 193.33 2155.59 193.33 Q2152.33 193.33 2150.41 195.553 Q2148.49 197.752 2148.49 201.525 L2148.49 216.178 L2144.2 216.178 L2144.2 190.252 L2148.49 190.252 L2148.49 194.28 Q2149.95 191.895 2151.98 190.761 Q2154.02 189.627 2156.82 189.627 Q2159.64 189.627 2161.61 191.062 Q2163.6 192.497 2164.55 195.229 Z\" fill=\"#000000\" fill-rule=\"evenodd\" fill-opacity=\"1\" /><path clip-path=\"url(#clip730)\" d=\"M2194.67 212.289 L2194.67 226.039 L2190.39 226.039 L2190.39 190.252 L2194.67 190.252 L2194.67 194.187 Q2196.01 191.872 2198.05 190.761 Q2200.11 189.627 2202.95 189.627 Q2207.68 189.627 2210.62 193.377 Q2213.58 197.127 2213.58 203.238 Q2213.58 209.349 2210.62 213.099 Q2207.68 216.849 2202.95 216.849 Q2200.11 216.849 2198.05 215.738 Q2196.01 214.603 2194.67 212.289 M2209.16 203.238 Q2209.16 198.539 2207.21 195.877 Q2205.29 193.192 2201.91 193.192 Q2198.53 193.192 2196.59 195.877 Q2194.67 198.539 2194.67 203.238 Q2194.67 207.937 2196.59 210.622 Q2198.53 213.284 2201.91 213.284 Q2205.29 213.284 2207.21 210.622 Q2209.16 207.937 2209.16 203.238 Z\" fill=\"#000000\" fill-rule=\"evenodd\" fill-opacity=\"1\" /><path clip-path=\"url(#clip730)\" d=\"M2220.64 180.159 L2224.9 180.159 L2224.9 216.178 L2220.64 216.178 L2220.64 180.159 Z\" fill=\"#000000\" fill-rule=\"evenodd\" fill-opacity=\"1\" /><path clip-path=\"url(#clip730)\" d=\"M2255.99 202.15 L2255.99 204.233 L2236.4 204.233 Q2236.68 208.631 2239.04 210.946 Q2241.43 213.238 2245.66 213.238 Q2248.12 213.238 2250.41 212.636 Q2252.72 212.034 2254.99 210.83 L2254.99 214.858 Q2252.7 215.83 2250.29 216.34 Q2247.88 216.849 2245.41 216.849 Q2239.2 216.849 2235.57 213.238 Q2231.96 209.627 2231.96 203.469 Q2231.96 197.104 2235.38 193.377 Q2238.83 189.627 2244.67 189.627 Q2249.9 189.627 2252.93 193.006 Q2255.99 196.363 2255.99 202.15 M2251.73 200.9 Q2251.68 197.405 2249.76 195.321 Q2247.86 193.238 2244.71 193.238 Q2241.15 193.238 2239 195.252 Q2236.87 197.266 2236.54 200.923 L2251.73 200.9 Z\" fill=\"#000000\" fill-rule=\"evenodd\" fill-opacity=\"1\" /></svg>\n"
      ]
     },
     "execution_count": 26,
     "metadata": {},
     "output_type": "execute_result"
    }
   ],
   "source": [
    "nav = cumprod(1 .+ vec(pnl))\n",
    "plot(1:length(nav), nav, w=2, label=\"in sample\", ylabel=\"nav\")\n",
    "plot!(N+1:length(nav), nav[N+1:end], w=2, label=\"out of sample\", c=\"red\")"
   ]
  },
  {
   "cell_type": "code",
   "execution_count": 27,
   "id": "a4d09b55",
   "metadata": {},
   "outputs": [
    {
     "data": {
      "text/plain": [
       "7×2446 Matrix{Float64}:\n",
       " 5.71959e-6  5.67515e-6  5.54896e-6  …  5.25892e-6  4.73244e-6  5.38253e-6\n",
       " 0.690501    0.650081    0.70439        0.674601    0.619794    0.666084\n",
       " 5.79796e-6  5.86631e-6  5.58177e-6     5.37309e-6  4.9627e-6   5.51956e-6\n",
       " 0.198425    0.215085    0.192354       0.205374    0.226819    0.208846\n",
       " 1.69656e-5  1.68962e-5  1.64957e-5     1.57409e-5  1.43814e-5  1.60795e-5\n",
       " 0.111037    0.134797    0.103219    …  0.119991    0.153356    0.125035\n",
       " 8.51966e-6  8.19511e-6  8.36551e-6     7.75059e-6  6.72699e-6  7.87356e-6"
      ]
     },
     "execution_count": 27,
     "metadata": {},
     "output_type": "execute_result"
    }
   ],
   "source": [
    "w"
   ]
  },
  {
   "cell_type": "code",
   "execution_count": null,
   "id": "a8f5086a",
   "metadata": {},
   "outputs": [],
   "source": []
  }
 ],
 "metadata": {
  "kernelspec": {
   "display_name": "Julia 1.8.2",
   "language": "julia",
   "name": "julia-1.8"
  },
  "language_info": {
   "file_extension": ".jl",
   "mimetype": "application/julia",
   "name": "julia",
   "version": "1.8.2"
  }
 },
 "nbformat": 4,
 "nbformat_minor": 5
}
